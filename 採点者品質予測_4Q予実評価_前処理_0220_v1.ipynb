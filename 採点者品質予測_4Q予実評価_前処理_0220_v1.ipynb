{
 "cells": [
  {
   "cell_type": "markdown",
   "id": "bb26836b-42b2-42f4-85c0-787301e1bb81",
   "metadata": {
    "tags": []
   },
   "source": [
    "# 作業工程計画\n",
    "2023.2.21作成<br>\n",
    "\n",
    "1. 受領データを21夏から22冬までマージ\n",
    "2.　エラーラベルを付記\n",
    "3.　参加回数を修正\n",
    "4.　1-3までをエクセルで出力"
   ]
  },
  {
   "cell_type": "markdown",
   "id": "c9df25fb-105d-4402-aeb6-60423aca5698",
   "metadata": {
    "tags": []
   },
   "source": [
    "# ライブラリ"
   ]
  },
  {
   "cell_type": "code",
   "execution_count": 1,
   "id": "b1cd9daa-82f5-4a6f-904d-3ea16baff717",
   "metadata": {},
   "outputs": [],
   "source": [
    "import pandas as pd\n",
    "import numpy as np\n",
    "import matplotlib.pyplot as plt\n",
    "import japanize_matplotlib\n",
    "import seaborn as sns\n",
    "import re "
   ]
  },
  {
   "cell_type": "markdown",
   "id": "c4c2d8db-1918-4d58-ad4f-7155bb9d7419",
   "metadata": {
    "tags": []
   },
   "source": [
    "## 村上さん pandas_tool"
   ]
  },
  {
   "cell_type": "code",
   "execution_count": 2,
   "id": "096a0122-aefd-40e6-8647-511c744debd9",
   "metadata": {
    "jupyter": {
     "source_hidden": true
    },
    "tags": []
   },
   "outputs": [],
   "source": [
    "\"\"\"\n",
    "村上さんtoolbox\n",
    "\"\"\"\n",
    "# pandas 基礎集計クラス\n",
    "import numpy as np\n",
    "import pandas as pd\n",
    "import copy\n",
    "import seaborn as sns\n",
    "from itertools import combinations\n",
    "\n",
    "#http://qiita.com/tanemaki/items/2ed05e258ef4c9e6caac\n",
    "\n",
    "# Jupyterで表示するためには、最初に以下を実行すること\n",
    "%matplotlib inline\n",
    "\n",
    "# Static Classで設計する\n",
    "class pandas_tool:\n",
    "    \n",
    "    # All in one チェック（Jupyterのみ）\n",
    "    def all_basic_summary_jupyter(df):\n",
    "        print(\"■ 型の確認\")\n",
    "        display(pandas_tool.type(df))\n",
    "        print(\"■ 数値型の確認\")\n",
    "        display(pandas_tool.summary(df)[0])\n",
    "        print(\"■ カテゴリ型の確認\")\n",
    "        cate_var_data = list(df.select_dtypes(include=['object']).columns)\n",
    "        ret = pandas_tool.freq(df,cate_var_data)\n",
    "        for d in ret:\n",
    "            display(pd.DataFrame(d))\n",
    "            print(\"---------------\")\n",
    "        print(\"■ 欠損の確認\")\n",
    "        display(pandas_tool.check_missing(df))\n",
    "    \n",
    "    # 相関関係可視化（Jupyterのみ）\n",
    "    def all_value_relation_visualize(df):\n",
    "        #sns.set_context(\"poster\", 1.2, {\"lines.linewidth\": 3})\n",
    "        sns.pairplot(df,size=5)\n",
    "    \n",
    "    # カテゴリ変数でのヒートマップ（Jupyterのみ）\n",
    "    def make_heatmap(df,x,y,value):\n",
    "        target_df = df.pivot_table(index=x,values=value,columns=y)\n",
    "        sns.heatmap(target_df, annot=True, fmt='1.1f', cmap='Blues')\n",
    "    \n",
    "    # 散布図（Jupyterのみ）\n",
    "    def make_scatter_chart(df,x,y):\n",
    "        #sns.jointplot(x=x, y=y, data=df, kind=\"hex\")\n",
    "        sns.jointplot(x=x, y=y, data=df)\n",
    "    \n",
    "    # 組み合わせでヒートマップを作成（Jupyterのみ）\n",
    "    def all_make_heatmap(df,var_list,value):\n",
    "        col_num = 2\n",
    "        var_list_set = list(combinations(var_list,2))\n",
    "        \n",
    "        fig, axes = plt.subplots(int(len(var_list_set)/col_num)+1, col_num, figsize=(18,3+6.5*int(len(var_list_set)/col_num)))\n",
    "        \n",
    "        for i,target in enumerate(var_list_set):\n",
    "            target_df = df.pivot_table(index=target[0],values=value,columns=target[1])\n",
    "            sns.heatmap(target_df, annot=True, fmt='1.1f', cmap='Blues', ax=axes[int(i/col_num), i%col_num])\n",
    "            \n",
    "        plt.tight_layout()\n",
    "    \n",
    "    # 数値集計\n",
    "    def summary(df,view=False):\n",
    "        ret=df.describe()\n",
    "        mis_ret=df.isnull().sum()\n",
    "        if view:\n",
    "            param=pd.get_option(\"display.max_columns\")\n",
    "            pd.set_option(\"display.max_columns\",1000)\n",
    "            print(\"・統計量\")\n",
    "            print(ret)\n",
    "            print(\"・欠損値\")\n",
    "            print(mis_ret)\n",
    "            pd.set_option(\"display.max_columns\",param)\n",
    "        return ret,mis_ret\n",
    "    \n",
    "    # 型チェック\n",
    "    def type(df,view=False):\n",
    "        ret = df.dtypes\n",
    "        if view:\n",
    "            param=pd.get_option(\"display.max_rows\")\n",
    "            pd.set_option(\"display.max_rows\",1000)\n",
    "            print(ret)\n",
    "            pd.set_option(\"display.max_rows\",param)\n",
    "        return ret\n",
    "    \n",
    "    # 欠損チェック\n",
    "    def check_missing(df,view=False):\n",
    "        not_null_df=df.notnull()\n",
    "        ret=pd.DataFrame()\n",
    "        for name in not_null_df.columns:\n",
    "            tmp_df=not_null_df[name].value_counts()\n",
    "            tmp_df.name=name\n",
    "            ret = pd.concat([ret,tmp_df],axis=1)\n",
    "        \n",
    "        if view:\n",
    "            param=pd.get_option(\"display.max_columns\")\n",
    "            pd.set_option(\"display.max_columns\",1000)\n",
    "            print(ret)\n",
    "            pd.set_option(\"display.max_columns\",param)\n",
    "        \n",
    "        return ret\n",
    "    \n",
    "    # 欠損値のオブザベーションを抽出\n",
    "    def get_miss_data(df,column,view=False):\n",
    "        ret=df[df[column].isnull()]\n",
    "        if view:\n",
    "            param=pd.get_option(\"display.max_columns\")\n",
    "            pd.set_option(\"display.max_columns\",1000)\n",
    "            print(ret)\n",
    "            pd.set_option(\"display.max_columns\",param)\n",
    "        return ret\n",
    "    \n",
    "    # 欠損値を中央値で補完\n",
    "    def fill_miss_med(df,var_name):\n",
    "        var=df[var_name].median()\n",
    "        df[var_name].fillna(var,inplace=True)\n",
    "        return df\n",
    "    \n",
    "    # 欠損値を0で補完\n",
    "    def fill_miss_zero(df,var_name):\n",
    "        df[var_name].fillna(0,inplace=True)\n",
    "        return df\n",
    "    \n",
    "    # 特定の値を欠損とみなす\n",
    "    def apply_miss_value(df,var_name,value):\n",
    "        df[var_name]=df[var_name].replace(value,np.nan)\n",
    "        return df\n",
    "    \n",
    "    # 重複チェック\n",
    "    def check_dup(df,columns,view=False):\n",
    "        ret=pd.DataFrame()\n",
    "        for name in columns:\n",
    "            dup_cnt=df[name].duplicated().sum()\n",
    "            tmp_df = pd.DataFrame({'var_name':[name],'dup_cnt':[dup_cnt]})\n",
    "            ret = pd.concat([ret,tmp_df],axis=0,ignore_index= True)\n",
    "        \n",
    "        if view:\n",
    "            param=pd.get_option(\"display.max_columns\")\n",
    "            pd.set_option(\"display.max_columns\",1000)\n",
    "            print(ret)\n",
    "            pd.set_option(\"display.max_columns\",param)\n",
    "        \n",
    "        return ret\n",
    "    \n",
    "    # 組み合わせ重複チェック\n",
    "    def check_dup_comb(df,columns,view=False):\n",
    "        ret = df[columns].duplicated().sum()\n",
    "        if view:\n",
    "            param=pd.get_option(\"display.max_columns\")\n",
    "            pd.set_option(\"display.max_columns\",1000)\n",
    "            print(ret)\n",
    "            pd.set_option(\"display.max_columns\",param)\n",
    "        \n",
    "        return ret\n",
    "    \n",
    "    # ユニークデータ取得\n",
    "    def get_uniq_data(df,uniq_key,sort_key,keep='first'):\n",
    "        ret = df.sort_values(by=sort_key)\n",
    "        ret.drop_duplicates(subset=uniq_key, keep=keep, inplace=True)\n",
    "        return ret\n",
    "    \n",
    "    # カテゴリ集計\n",
    "    def freq(df,columns,view=False):\n",
    "        ret=list()\n",
    "        for name in columns:\n",
    "            tmp_df=df[name].value_counts()\n",
    "            tmp_df.name=name\n",
    "            #ret = pd.concat([ret,tmp_df],axis=1)\n",
    "            ret.append(tmp_df)\n",
    "        \n",
    "        if view:\n",
    "            param=pd.get_option(\"display.max_columns\")\n",
    "            pd.set_option(\"display.max_columns\",1000)\n",
    "            for r in ret:\n",
    "                print(r)\n",
    "                #display(r)\n",
    "            pd.set_option(\"display.max_columns\",param)\n",
    "        \n",
    "        return ret\n",
    "    \n",
    "    # 複雑な集計\n",
    "    def tabulate(df,row,col=None,var='',func=np.sum,view=False):\n",
    "        if var == '':\n",
    "            tmp_df=df.reset_index(drop=False,inplace=False)\n",
    "            ret=pd.pivot_table(data=tmp_df, values='index', index=row, columns=col, aggfunc='count', dropna=False, fill_value=0 ,margins = False)\n",
    "            tmp_df=None\n",
    "        else:\n",
    "            ret=pd.pivot_table(data=df, values=var, index=row, columns=col, aggfunc=func, dropna=False, fill_value=0 ,margins = False)\n",
    "        if view:\n",
    "            param=pd.get_option(\"display.max_columns\")\n",
    "            pd.set_option(\"display.max_columns\",1000)\n",
    "            print(ret)\n",
    "            pd.set_option(\"display.max_columns\",param)\n",
    "        \n",
    "        return ret\n",
    "    \n",
    "    # マージ\n",
    "    def merge(df1,df2,key,how,view=True):\n",
    "        if view:\n",
    "            print(\"df1のキー重複\")\n",
    "            pandas_tool.check_dup_comb(df1,key,True)\n",
    "            print(\"df2のキー重複\")\n",
    "            pandas_tool.check_dup_comb(df2,key,True)\n",
    "            \n",
    "            print(\"df1のオブザベーション:{0}\".format(len(df1)))\n",
    "            print(\"df2のオブザベーション:{0}\".format(len(df2)))\n",
    "        \n",
    "        ret=pd.merge(df1,df2,how=how,on=key)\n",
    "        \n",
    "        if view:\n",
    "            print(\"mergeのオブザベーション:{0}\".format(len(ret)))\n",
    "        \n",
    "        return ret\n",
    "    \n",
    "    # Rank\n",
    "    def rank(df,var,num,suffix='_rank',check=False):\n",
    "        labels=[i for i in range(0,num)]\n",
    "        df[var+suffix]=pd.qcut(df[var], num, labels=labels)\n",
    "        \n",
    "        # check data\n",
    "        if check:\n",
    "            ret=pd.DataFrame()\n",
    "            max_df=pandas_tool.tabulate(df=df,row=[var+suffix],var=var,func=np.max,view=False)\n",
    "            max_df.name='max'\n",
    "            min_df=pandas_tool.tabulate(df=df,row=[var+suffix],var=var,func=np.min,view=False)\n",
    "            min_df.name='min'\n",
    "            cnt_df=pandas_tool.tabulate(df=df,row=[var+suffix],var=var,func='count',view=False)\n",
    "            cnt_df.name='count'\n",
    "            ret=pd.concat([ret,min_df,max_df,cnt_df],axis=1)\n",
    "            return df,ret\n",
    "            \n",
    "        return df\n",
    "    \n",
    "    # Rank適用(min基準)\n",
    "    def apply_rank(df,rank_df):\n",
    "        tmp_df=copy.deepcopy(rank_df)\n",
    "        tmp_df.reset_index(drop=False,inplace=True)\n",
    "        target_name=tmp_df.columns[3]\n",
    "        tmp_df.columns=[\"rank\",\"min\",\"max\",\"cnt\"]\n",
    "        \n",
    "        def judge_thld(row):\n",
    "            ret_var = -1\n",
    "            cond_list = [\"if 0 : ret_var = 0\"]\n",
    "            \n",
    "            for i in range(1,len(tmp_df)):\n",
    "                cond_list.append(\"elif row < \" +str(tmp_df.ix[i,'min'])+ \" : ret_var = \" + str(tmp_df.ix[i-1,'rank']))\n",
    "            \n",
    "            cond_list.append(\"else: ret_var = \" + str(tmp_df.ix[len(tmp_df)-1,'rank']))\n",
    "            cond_str=\"\\r\\n\".join(cond_list)\n",
    "            # ローカル辞書をexecと共有する\n",
    "            local_dict=locals()\n",
    "            exec(cond_str,local_dict)\n",
    "            return local_dict[\"ret_var\"]\n",
    "        \n",
    "        df[target_name+\"_rank\"]=df[target_name].apply(judge_thld)\n",
    "        return df\n",
    "    \n",
    "    # Min%以下はMin%点に、Max%以上はMax%点にクリップする\n",
    "    def clip_min_max(df,col_list,apply_df=None,max_pct=0.99,min_pct=0.01):\n",
    "        p_min = df[col_list].quantile(min_pct)\n",
    "        p_max = df[col_list].quantile(max_pct)\n",
    "        \n",
    "        df[col] = df[col_list].clip(p_min,p_max,axis=1)\n",
    "        \n",
    "        # もしも適用先のデータがあるならば（例えば検証データ）対応\n",
    "        if apply_df is not None:\n",
    "            apply_df[col] = apply_df[col_list].clip(p_min,p_max,axis=1)\n",
    "            return df,apply_df\n",
    "        else:\n",
    "            return df\n",
    "    \n",
    "    \n",
    "    # 文字列→数値変換\n",
    "    def conv_float(df,column,percent_flg=False):\n",
    "        \n",
    "        def conv_f(row):\n",
    "            if row[column] == \"\" or row[column] is np.nan:\n",
    "                return np.nan\n",
    "            else:\n",
    "                return float(row[column])\n",
    "        \n",
    "        df[column]=df[column].str.replace(\"\\\\\",\"\").str.replace(\",\",\"\").str.replace(\"%\",\"\").str.strip()\n",
    "        df[column]=df.apply(conv_f,axis=1)\n",
    "        \n",
    "        if percent_flg:\n",
    "            df[column]=df[column]/100\n",
    "        \n",
    "        return df"
   ]
  },
  {
   "cell_type": "markdown",
   "id": "0bc6a5dd-d189-4841-990d-a4a8a6ada62a",
   "metadata": {},
   "source": [
    "# データの結合"
   ]
  },
  {
   "cell_type": "markdown",
   "id": "339aa7ff-d131-4571-88f3-7dca234245a9",
   "metadata": {},
   "source": [
    "## 読み込み用関数"
   ]
  },
  {
   "cell_type": "code",
   "execution_count": 20,
   "id": "7c6494ca-2fe5-44f5-9fe2-69e7f55e41f5",
   "metadata": {},
   "outputs": [],
   "source": [
    "#3始まりスタッフコードを、1始まりスタッフコードに変換\n",
    "def change_3_to_1(row_input):\n",
    "    code = row_input['コード']\n",
    "    staffcode = int(\"1\" + code[1:])\n",
    "    return staffcode"
   ]
  },
  {
   "cell_type": "code",
   "execution_count": 31,
   "id": "6ae82a60-9d9f-48b0-ad85-f877bfc5e7ae",
   "metadata": {},
   "outputs": [],
   "source": [
    "#予測データの設問情報の分野名を分野マスタで修正\n",
    "def merge_df(df1, df2, merge_key):\n",
    "    df = pandas_tool.merge(df1,df2, key = [merge_key],how = 'left')\n",
    "    return df"
   ]
  },
  {
   "cell_type": "markdown",
   "id": "d8f0d800-f664-445a-b7a9-0351a4002679",
   "metadata": {
    "jp-MarkdownHeadingCollapsed": true,
    "tags": []
   },
   "source": [
    "## 過去データ(21~22夏)"
   ]
  },
  {
   "cell_type": "code",
   "execution_count": 60,
   "id": "257333b2-54ef-4d2e-bb78-89517f59c8a0",
   "metadata": {},
   "outputs": [
    {
     "name": "stderr",
     "output_type": "stream",
     "text": [
      "/Users/s.ogura/opt/anaconda3/lib/python3.9/site-packages/IPython/core/interactiveshell.py:3444: DtypeWarning: Columns (13,18) have mixed types.Specify dtype option on import or set low_memory=False.\n",
      "  exec(code_obj, self.user_global_ns, self.user_ns)\n"
     ]
    }
   ],
   "source": [
    "#過去データ読み込み \n",
    "\n",
    "path_folder = r\"/Users/s.ogura/Documents/CRLEA/data/intermediatedata\"#データが置いてあるフォルダパス\n",
    "\n",
    "# csvファイルの読み込みと空のリストに追加\n",
    "name_csv = \"採点者情報0720+0818_pretreated_v2_jpn.csv\" #ファイル名\n",
    "path_file = r'{p}/{n}'.format(p = path_folder, n = name_csv)#ファイルパスとファイル名\n",
    "df_old_jpn = pd.read_csv(filepath_or_buffer = path_file, sep=\",\")\n",
    "\n",
    "# csvファイルの読み込みと空のリストに追加\n",
    "name_csv = \"採点者情報0720+0818_pretreated_v2_math.csv\" #ファイル名\n",
    "path_file = r'{p}/{n}'.format(p = path_folder, n = name_csv)#ファイルパスとファイル名\n",
    "df_old_math = pd.read_csv(filepath_or_buffer = path_file, sep=\",\")\n",
    "\n",
    "# csvファイルの読み込みと空のリストに追加\n",
    "name_csv = \"採点者情報0720+0818_pretreated_v2_eng.csv\" #ファイル名\n",
    "path_file = r'{p}/{n}'.format(p = path_folder, n = name_csv)#ファイルパスとファイル名\n",
    "df_old_eng = pd.read_csv(filepath_or_buffer = path_file, sep=\",\")"
   ]
  },
  {
   "cell_type": "code",
   "execution_count": 61,
   "id": "46185c3f-9f20-4ba6-9962-07032bad2476",
   "metadata": {},
   "outputs": [],
   "source": [
    "#設問情報を加えない、全科目の結合df\n",
    "collist=['スタッフコード', '年度', '採点回','学年', '科目','分野','割当', '身分', '年齢','大学',\n",
    "       '学部', '登録試験点数', '参加回数', '等級',  '完全一致率','偏差値']\n",
    "df1=df_old_jpn[collist]\n",
    "df2=df_old_math[collist]\n",
    "df3=df_old_eng[collist]\n",
    "df_old =[]\n",
    "df_old = df1.append(df2)\n",
    "df_old = df_old.append(df3)\n",
    "\n",
    "#等級を除外するなどの処理を行う関数を実行\n",
    "def rem_tokyu(df_input):\n",
    "    df = df_input.copy()\n",
    "    #等級を選別する。\n",
    "    colname='等級'\n",
    "    df[colname] = df[colname].astype(str)\n",
    "    df = df[df[colname].isin([\"1\",\"2\",'01','02'])]\n",
    "    #等級の列を除外する\n",
    "    df = df.drop(columns = colname)\n",
    "    return df\n",
    "df_old = rem_tokyu(df_old)"
   ]
  },
  {
   "cell_type": "code",
   "execution_count": 62,
   "id": "1407c85e-cf8d-4253-9de2-67605e1da4e3",
   "metadata": {},
   "outputs": [],
   "source": [
    "#過去データの偏差値更新のため、偏差値のシートを読み込む\n",
    "\n",
    "\"\"\"\n",
    "1. 予測データを読み込む\n",
    "2.　必要な列名を統一する\n",
    "\"\"\"\n",
    "# \n",
    "path_name = \"/Users/s.ogura/Documents/CRLEA/data/rawdata/CRLEA採点者情報入力様式_v1.1_大学追加_冬.xlsx\"\n",
    "path_file =  r'{}'.format(path_name)\n",
    "input_file = pd.ExcelFile(path_file)\n",
    "sn_list = input_file.sheet_names\n",
    "# ['2212偏差値最新化', 'データ入力様式_採点者', 'Sheet2', 'データ入力様式(記入例)']\n",
    "df = []\n",
    "df = pd.read_excel(path_file, sn_list[0], header=0, index_col=None,skiprows=None,usecols=['大学', '学部', '偏差値'])#headerを修正。sn_listが異なることもある。\n",
    "df = df.rename(columns = {'過去参加回数':'参加回数'})\n",
    "df_hensa = df.copy()"
   ]
  },
  {
   "cell_type": "code",
   "execution_count": 66,
   "id": "048d2b1b-43e4-40da-902c-63349674eb38",
   "metadata": {},
   "outputs": [
    {
     "name": "stdout",
     "output_type": "stream",
     "text": [
      "df1のキー重複\n",
      "20317\n",
      "df2のキー重複\n",
      "104\n",
      "df1のオブザベーション:22296\n",
      "df2のオブザベーション:2953\n",
      "mergeのオブザベーション:22738\n"
     ]
    }
   ],
   "source": [
    "#分野情報を割り当て、採点回、年度をキーにして結合する\n",
    "df1 = df_old\n",
    "df2 = df_hensa\n",
    "df = pandas_tool.merge(df1,df2, key = ['大学', '学部'],how = 'left')\n",
    "df['偏差値_y'] = df['偏差値_y'].fillna(df['偏差値_x'], inplace=False)\n",
    "df = df.rename(columns = {'偏差値_y':'偏差値'})\n",
    "colname='偏差値'\n",
    "df[colname] = df[colname].replace({'-':np.nan,\n",
    "                                    '空白':np.nan,\n",
    "                                    '短大':np.nan,\n",
    "                                    '不明':np.nan,\n",
    "                                    \"大学不明\":np.nan,\n",
    "                                    '専門':np.nan,\n",
    "                                    'なし':np.nan,\n",
    "                                    '該当なし':np.nan})\n",
    "df[colname] = df[colname].astype(float)\n",
    "df = df.drop(['偏差値_x'], axis=1)\n",
    "collist=['スタッフコード', '年度', '採点回', '学年', '科目', '分野', '割当', '身分', '年齢', '大学', '学部',\n",
    "       '偏差値', '登録試験点数', '参加回数', '完全一致率']\n",
    "df = df[collist]\n",
    "df_2122summer = df.copy()"
   ]
  },
  {
   "cell_type": "markdown",
   "id": "96cc95fa-1e78-4011-9a16-97c9059f4667",
   "metadata": {
    "jp-MarkdownHeadingCollapsed": true,
    "tags": []
   },
   "source": [
    "## 22秋前半"
   ]
  },
  {
   "cell_type": "code",
   "execution_count": 51,
   "id": "47cba791-4558-4947-9714-ccbff8eefa99",
   "metadata": {},
   "outputs": [],
   "source": [
    "#22秋前半を読み込み\n",
    "\"\"\"\n",
    "path_name = ファイルパス\n",
    "sn_list = エクセルシート名のリスト\n",
    "\"\"\"\n",
    "path_name = \"/Users/s.ogura/Documents/CRLEA/data/intermediatedata/CRLEA様採点者情報入力様式_v1.1_大学追加_0929DAcheck_分野結合済.xlsx\"#ここを編集\n",
    "path_file =  r'{}'.format(path_name)\n",
    "input_file = pd.ExcelFile(path_file)\n",
    "sn_list = input_file.sheet_names\n",
    "\n",
    "# Excelファイルの読み込み\n",
    "df = pd.read_excel(path_file, sn_list[0], header=0, index_col=None,skiprows=None,#sn_listもたまに順番が異なっている。確認する。\n",
    "                       dtype = {'割当': object, '年齢':int})#,usecols = [0,1,2,3,4]\n",
    "df = df.drop(['完全一致率'], axis=1)\n",
    "df = df.rename(columns = {'過去参加回数':'参加回数'})\n",
    "df_22fall_first_index = df.copy()"
   ]
  },
  {
   "cell_type": "code",
   "execution_count": 52,
   "id": "18ad0b39-6173-4090-b8f3-8120df1b76c1",
   "metadata": {},
   "outputs": [],
   "source": [
    "#22秋前半の一致率を読み込み\n",
    "\"\"\"\n",
    "path_name = ファイルパス\n",
    "sn_list = エクセルシート名のリスト\n",
    "\"\"\"\n",
    "path_name = \"/Users/s.ogura/Documents/CRLEA/data/rawdata/【22秋】配置割当単位・モニタリング一致率.xlsx\"#ここを編集\n",
    "path_file =  r'{}'.format(path_name)\n",
    "input_file = pd.ExcelFile(path_file)\n",
    "sn_list = input_file.sheet_names\n",
    "\n",
    "# Excelファイルの読み込み\n",
    "df = pd.read_excel(path_file, sn_list[1], header=0, index_col=None,skiprows=None,usecols = [0,5],dtype = {'コード':str})\n",
    "\n",
    "df['スタッフコード']= df.apply(change_3_to_1, axis = 1)\n",
    "df = df.drop(['コード'], axis=1)\n",
    "df = df.rename(columns={'一致率': '完全一致率'})\n",
    "df_22fall_first_value = df.copy()"
   ]
  },
  {
   "cell_type": "code",
   "execution_count": 53,
   "id": "b5a0963a-8abc-4ac0-840e-16a003899b47",
   "metadata": {},
   "outputs": [
    {
     "name": "stdout",
     "output_type": "stream",
     "text": [
      "df1のキー重複\n",
      "0\n",
      "df2のキー重複\n",
      "0\n",
      "df1のオブザベーション:3265\n",
      "df2のオブザベーション:2657\n",
      "mergeのオブザベーション:3265\n"
     ]
    }
   ],
   "source": [
    "df_22fall_first = merge_df(df_22fall_first_index, df_22fall_first_value, 'スタッフコード')"
   ]
  },
  {
   "cell_type": "markdown",
   "id": "010364b1-29d9-4f42-9ce7-6580852de256",
   "metadata": {
    "jp-MarkdownHeadingCollapsed": true,
    "tags": []
   },
   "source": [
    "## 22秋後半"
   ]
  },
  {
   "cell_type": "code",
   "execution_count": 54,
   "id": "27870caf-f47b-410d-87c3-86edc7cd62a2",
   "metadata": {},
   "outputs": [],
   "source": [
    "#22秋後半を読み込み\n",
    "\"\"\"\n",
    "path_name = ファイルパス\n",
    "sn_list = エクセルシート名のリスト\n",
    "\"\"\"\n",
    "path_name = \"/Users/s.ogura/Documents/CRLEA/data/intermediatedata/CRLEA様採点者情報入力様式_v1.1_大学追加_秋後半_分野結合済.xlsx\"#ここを編集\n",
    "path_file =  r'{}'.format(path_name)\n",
    "input_file = pd.ExcelFile(path_file)\n",
    "sn_list = input_file.sheet_names\n",
    "\n",
    "# Excelファイルの読み込み\n",
    "df = pd.read_excel(path_file, sn_list[0], header=0, index_col=None,skiprows=None,#sn_listもたまに順番が異なっている。確認する。\n",
    "                       dtype = {'割当': object, '年齢':int})#,usecols = [0,1,2,3,4]\n",
    "df = df.drop_duplicates(subset='スタッフコード')\n",
    "df = df.drop(['完全一致率'], axis=1)\n",
    "df = df.rename(columns = {'過去参加回数':'参加回数'})\n",
    "df_22fall_latter_index = df.copy()"
   ]
  },
  {
   "cell_type": "code",
   "execution_count": 55,
   "id": "a0431b33-0f3a-4b80-9fba-10b9bc99b0e1",
   "metadata": {},
   "outputs": [],
   "source": [
    "#22秋後半の一致率を読み込み\n",
    "\"\"\"\n",
    "path_name = ファイルパス\n",
    "sn_list = エクセルシート名のリスト\n",
    "\"\"\"\n",
    "path_name = \"/Users/s.ogura/Documents/CRLEA/data/rawdata/【22秋】配置割当単位・モニタリング一致率.xlsx\"#ここを編集\n",
    "path_file =  r'{}'.format(path_name)\n",
    "input_file = pd.ExcelFile(path_file)\n",
    "sn_list = input_file.sheet_names\n",
    "\n",
    "# Excelファイルの読み込み\n",
    "df = pd.read_excel(path_file, sn_list[0], header=0, index_col=None,skiprows=None,usecols = [0,5],dtype = {'コード':str})\n",
    "\n",
    "df['スタッフコード']= df.apply(change_3_to_1, axis = 1)\n",
    "df = df.drop(['コード'], axis=1)\n",
    "df = df.rename(columns={'一致率': '完全一致率'})\n",
    "df_22fall_latter_value = df.copy()"
   ]
  },
  {
   "cell_type": "code",
   "execution_count": 56,
   "id": "0285092d-2bf9-4b8d-b3c7-dacaae9f12bf",
   "metadata": {},
   "outputs": [
    {
     "name": "stdout",
     "output_type": "stream",
     "text": [
      "df1のキー重複\n",
      "0\n",
      "df2のキー重複\n",
      "0\n",
      "df1のオブザベーション:3376\n",
      "df2のオブザベーション:2656\n",
      "mergeのオブザベーション:3376\n"
     ]
    }
   ],
   "source": [
    "df_22fall_latter = merge_df(df_22fall_latter_index, df_22fall_latter_value, 'スタッフコード')"
   ]
  },
  {
   "cell_type": "markdown",
   "id": "38cd0ce4-0b77-454a-bf57-3d6e3756c0eb",
   "metadata": {
    "jp-MarkdownHeadingCollapsed": true,
    "tags": []
   },
   "source": [
    "## 22冬"
   ]
  },
  {
   "cell_type": "code",
   "execution_count": 44,
   "id": "bb4d9369-a6ab-44a7-818a-9a1c79bbf19c",
   "metadata": {},
   "outputs": [],
   "source": [
    "#22冬を読み込み\n",
    "\"\"\"\n",
    "path_name = ファイルパス\n",
    "sn_list = エクセルシート名のリスト\n",
    "\"\"\"\n",
    "path_name = \"/Users/s.ogura/Documents/CRLEA/data/intermediatedata/CRLEA採点者情報入力様式_v1.1_大学追加_冬_分野結合済.xlsx\"#ここを編集\n",
    "path_file =  r'{}'.format(path_name)\n",
    "input_file = pd.ExcelFile(path_file)\n",
    "sn_list = input_file.sheet_names\n",
    "\n",
    "# Excelファイルの読み込み\n",
    "df = pd.read_excel(path_file, sn_list[0], header=0, index_col=None,skiprows=None,#sn_listもたまに順番が異なっている。確認する。\n",
    "                       dtype = {'割当': object, '年齢':int})#,usecols = [0,1,2,3,4]\n",
    "df = df.drop_duplicates(subset='スタッフコード')\n",
    "df = df.drop(['完全一致率'], axis=1)\n",
    "df_22winter_index = df.copy()"
   ]
  },
  {
   "cell_type": "code",
   "execution_count": 45,
   "id": "d7944335-536e-4a91-8caa-d665fef15a98",
   "metadata": {},
   "outputs": [],
   "source": [
    "#22冬の一致率を読み込み\n",
    "\"\"\"\n",
    "path_name = ファイルパス\n",
    "sn_list = エクセルシート名のリスト\n",
    "\"\"\"\n",
    "path_name = \"/Users/s.ogura/Documents/CRLEA/data/rawdata/【22冬】配置割当単位・モニタリング一致率.xlsx\"#ここを編集\n",
    "path_file =  r'{}'.format(path_name)\n",
    "input_file = pd.ExcelFile(path_file)\n",
    "sn_list = input_file.sheet_names\n",
    "\n",
    "# Excelファイルの読み込み\n",
    "df = pd.read_excel(path_file, sn_list[0], header=0, index_col=None,skiprows=None,usecols = [0,5],dtype = {'コード':str})\n",
    "\n",
    "df['スタッフコード']= df.apply(change_3_to_1, axis = 1)\n",
    "df = df.drop(['コード'], axis=1)\n",
    "df = df.rename(columns={'一致率': '完全一致率'})\n",
    "df_22winter_value = df.copy()"
   ]
  },
  {
   "cell_type": "code",
   "execution_count": 46,
   "id": "b36a9e50-df54-4033-83cc-c8ae6fdbdde6",
   "metadata": {},
   "outputs": [
    {
     "name": "stdout",
     "output_type": "stream",
     "text": [
      "df1のキー重複\n",
      "0\n",
      "df2のキー重複\n",
      "0\n",
      "df1のオブザベーション:3887\n",
      "df2のオブザベーション:3076\n",
      "mergeのオブザベーション:3887\n"
     ]
    }
   ],
   "source": [
    "df_22winter = merge_df(df_22winter_index, df_22winter_value, 'スタッフコード')"
   ]
  },
  {
   "cell_type": "markdown",
   "id": "77964388-1e38-4435-8b57-6d0dca495a71",
   "metadata": {},
   "source": [
    "## dfの結合"
   ]
  },
  {
   "cell_type": "code",
   "execution_count": 67,
   "id": "526e08b3-2989-4aec-8d66-1f05fb0ef874",
   "metadata": {},
   "outputs": [
    {
     "data": {
      "text/plain": [
       "Index(['スタッフコード', '年度', '採点回', '学年', '科目', '分野', '割当', '身分', '年齢', '大学', '学部',\n",
       "       '偏差値', '登録試験点数', '参加回数', '完全一致率'],\n",
       "      dtype='object')"
      ]
     },
     "execution_count": 67,
     "metadata": {},
     "output_type": "execute_result"
    }
   ],
   "source": [
    "df_2122summer.columns.unique()"
   ]
  },
  {
   "cell_type": "code",
   "execution_count": 57,
   "id": "696d40fd-1ee7-49bd-a96d-e8c11dff9047",
   "metadata": {},
   "outputs": [
    {
     "data": {
      "text/plain": [
       "Index(['スタッフコード', '年度', '採点回', '学年', '科目', '分野', '割当', '身分', '年齢', '大学', '学部',\n",
       "       '偏差値', '登録試験点数', '参加回数', '完全一致率'],\n",
       "      dtype='object')"
      ]
     },
     "execution_count": 57,
     "metadata": {},
     "output_type": "execute_result"
    }
   ],
   "source": [
    "df_22fall_first.columns.unique()"
   ]
  },
  {
   "cell_type": "code",
   "execution_count": 58,
   "id": "ce15ca29-7b77-4a90-8004-d783fe4dbdea",
   "metadata": {},
   "outputs": [
    {
     "data": {
      "text/plain": [
       "Index(['スタッフコード', '年度', '採点回', '学年', '科目', '分野', '割当', '身分', '年齢', '大学', '学部',\n",
       "       '偏差値', '登録試験点数', '参加回数', '完全一致率'],\n",
       "      dtype='object')"
      ]
     },
     "execution_count": 58,
     "metadata": {},
     "output_type": "execute_result"
    }
   ],
   "source": [
    "df_22fall_latter.columns.unique()"
   ]
  },
  {
   "cell_type": "code",
   "execution_count": 59,
   "id": "90f3193f-c915-48a6-9640-935bbfc0b38a",
   "metadata": {},
   "outputs": [
    {
     "data": {
      "text/plain": [
       "Index(['スタッフコード', '年度', '採点回', '学年', '科目', '分野', '割当', '身分', '年齢', '大学', '学部',\n",
       "       '偏差値', '登録試験点数', '参加回数', '完全一致率'],\n",
       "      dtype='object')"
      ]
     },
     "execution_count": 59,
     "metadata": {},
     "output_type": "execute_result"
    }
   ],
   "source": [
    "df_22winter.columns.unique()"
   ]
  },
  {
   "cell_type": "code",
   "execution_count": 82,
   "id": "0e139457-9e17-4006-8494-21c87c0b0466",
   "metadata": {},
   "outputs": [],
   "source": [
    "def unit_dfs(df1, df2, df3, df4):\n",
    "    df_all =[]\n",
    "    df_all = df1.append(df2)\n",
    "    df_all = df_all.append(df3)\n",
    "    df_all = df_all.append(df4)\n",
    "    df_all = df_all.drop_duplicates()\n",
    "    return df_all"
   ]
  },
  {
   "cell_type": "code",
   "execution_count": 83,
   "id": "960bfaed-5b7a-44b2-9030-7f2ce20fb9d0",
   "metadata": {},
   "outputs": [],
   "source": [
    "df_all = unit_dfs(df_2122summer, df_22fall_first, df_22fall_latter, df_22winter)"
   ]
  },
  {
   "cell_type": "code",
   "execution_count": 3,
   "id": "bbaebb44-959b-46c4-8bca-0ccdb26473e2",
   "metadata": {},
   "outputs": [],
   "source": [
    "#予測データを読み込み\n",
    "\"\"\"\n",
    "path_name = ファイルパス\n",
    "sn_list = エクセルシート名のリスト\n",
    "\"\"\"\n",
    "path_name = \"/Users/s.ogura/Documents/CRLEA/data/rawdata/CRLEA採点者情報入力様式_v1.1_大学追加_冬.xlsx\"#ここを編集\n",
    "path_file =  r'{}'.format(path_name)\n",
    "input_file = pd.ExcelFile(path_file)\n",
    "sn_list = input_file.sheet_names\n",
    "#sn_list ['2212偏差値最新化', 'データ入力様式_採点者', 'Sheet2', 'データ入力様式(記入例)']\n",
    "\n",
    "# Excelファイルの読み込み\n",
    "df = pd.read_excel(path_file, sn_list[1], header=0, index_col=None,skiprows=None,#sn_listもたまに順番が異なっている。確認する。\n",
    "                       dtype = {'割当': object, '年齢':int})#,usecols = [0,1,2,3,4]\n",
    "\n",
    "df['登録試験点数'] = df['登録試験点数'].fillna(0)\n",
    "df['登録試験点数'] = df['登録試験点数'].astype(int)\n",
    "df['割当'] = df['割当'].replace(10,'10')\n",
    "df = df.drop(['分野','最終ペース'], axis=1)\n",
    "df_new_raw = df.copy()"
   ]
  },
  {
   "cell_type": "markdown",
   "id": "e865479a-24e8-44e0-8841-80ea298b57e7",
   "metadata": {
    "tags": []
   },
   "source": [
    "# データ分類ラベルの作成"
   ]
  },
  {
   "cell_type": "markdown",
   "id": "79985d27-b612-403b-a227-7d67050df1d9",
   "metadata": {
    "tags": []
   },
   "source": [
    "#科目コードの作成\n",
    "def make_kamokucode(df_input):\n",
    "    df = df_input.copy()\n",
    "    map_dictionary ={\"国語\" : 10, \"数学\" :20, \"英語\" : 30} \n",
    "    df['科目コード'] = df['科目'].map(map_dictionary) \n",
    "    return df"
   ]
  },
  {
   "cell_type": "markdown",
   "id": "89c45f69-009f-453f-8b1c-1a4ad5f35ac2",
   "metadata": {},
   "source": [
    "#train,test,predのデータ分類ラベル\n",
    "def make_datalabel(df_input):\n",
    "    df = df_input.copy()\n",
    "    #x = \"偏差値\"\n",
    "    conditions = [\n",
    "        (df['年度'] == 2022)&(df['採点回'] == '夏'),\n",
    "        (df['年度'] == 2022)&(df['採点回'] == '冬')]#予測用。修正箇所\n",
    "    choices = [1,2]\n",
    "    df.loc[:,'data'] = np.select(conditions, choices, default = 0)\n",
    "    return df"
   ]
  },
  {
   "cell_type": "code",
   "execution_count": 72,
   "id": "001cad23-130f-4028-be84-037c9e839322",
   "metadata": {},
   "outputs": [],
   "source": [
    "#naを判定してフラグをつくる関数\n",
    "def find_error(df_input):\n",
    "    df = df_input.copy()\n",
    "\n",
    "    #例外をnanに変換\n",
    "    colname='偏差値'\n",
    "    df[colname] = df[colname].replace({'-':np.nan,\n",
    "                                    '空白':np.nan,\n",
    "                                    '短大':np.nan,\n",
    "                                    '不明':np.nan,\n",
    "                                    \"大学不明\":np.nan,\n",
    "                                    '専門':np.nan,\n",
    "                                    'なし':np.nan,\n",
    "                                    '該当なし':np.nan})\n",
    "    df[colname] = df[colname].fillna(0)\n",
    "    df[colname] = df[colname].astype(float)\n",
    "   \n",
    "    colname='登録試験点数'\n",
    "    df[colname] = df[colname].replace({999:np.nan,\n",
    "                                    0:np.nan})\n",
    "    df[colname] = df[colname].fillna(0)\n",
    "    df[colname] = df[colname].astype(float)\n",
    "    \n",
    "\n",
    "    #完全一致率\n",
    "    colname='完全一致率'\n",
    "    df[colname] = df[colname].replace({'-':np.nan,\n",
    "                                        'NG':np.nan,\n",
    "                                        '不参加':np.nan})\n",
    "    df[colname] = df[colname].fillna(0)\n",
    "    df[colname] = df[colname].astype(float)\n",
    "    \n",
    "    colname='分野'\n",
    "    df[colname] = df[colname].fillna(0)\n",
    "    \n",
    "    \n",
    "    #例外を1と判定\n",
    "    w = '分野'\n",
    "    x = \"登録試験点数\"\n",
    "    y = \"偏差値\"\n",
    "    z = \"完全一致率\"\n",
    "    conditions = [\n",
    "        (df[w] == 0),\n",
    "        (df[x] == 0),\n",
    "        (df[y] == 0),\n",
    "        (df[z] == 0)\n",
    "         ]\n",
    "    choices = [1, 1, 1, 1]\n",
    "    df.loc[:,'Error'] = np.select(conditions, choices, default = 0)\n",
    "    return df"
   ]
  },
  {
   "cell_type": "code",
   "execution_count": 87,
   "id": "58703847-57f6-448d-8d57-1a265623a3fe",
   "metadata": {},
   "outputs": [],
   "source": [
    "#欠損を含む行にフラグをつける処理を実行\n",
    "df_all_pret = find_error(df_all)"
   ]
  },
  {
   "cell_type": "code",
   "execution_count": 88,
   "id": "044f413d-9549-42eb-9830-3d27bc12bf21",
   "metadata": {},
   "outputs": [
    {
     "data": {
      "text/plain": [
       "array(['スタッフコード', '年度', '採点回', '学年', '科目', '分野', '割当', '身分', '年齢', '大学',\n",
       "       '学部', '偏差値', '登録試験点数', '参加回数', '完全一致率', 'Error'], dtype=object)"
      ]
     },
     "execution_count": 88,
     "metadata": {},
     "output_type": "execute_result"
    }
   ],
   "source": [
    "df_all_pret.columns.values"
   ]
  },
  {
   "cell_type": "markdown",
   "id": "523711d9-abac-440e-8296-8bf012b6bd1f",
   "metadata": {
    "tags": []
   },
   "source": [
    "### データ数の確認"
   ]
  },
  {
   "cell_type": "code",
   "execution_count": 89,
   "id": "82dff3ff-9516-4a70-9bfa-31930b717026",
   "metadata": {},
   "outputs": [
    {
     "data": {
      "text/plain": [
       "[32824, 12110, 20714]"
      ]
     },
     "execution_count": 89,
     "metadata": {},
     "output_type": "execute_result"
    }
   ],
   "source": [
    "#全てのデータ数、欠損を含むデータ数、　新データ\n",
    "df = df_all_pret\n",
    "data_num_new=[len(df),len(df[df['Error']==1]),len(df[df['Error']==0])]\n",
    "data_num_new"
   ]
  },
  {
   "cell_type": "markdown",
   "id": "f814863f-bfb7-44af-9fc4-ed4146f1e354",
   "metadata": {},
   "source": [
    "## 参加回数の修正"
   ]
  },
  {
   "cell_type": "code",
   "execution_count": 91,
   "id": "a26cdff0-d4bd-4d4a-a93d-e3406fa33fdf",
   "metadata": {},
   "outputs": [
    {
     "data": {
      "text/plain": [
       "array(['スタッフコード', '年度', '採点回', '学年', '科目', '分野', '割当', '身分', '年齢', '大学',\n",
       "       '学部', '偏差値', '登録試験点数', '参加回数', '完全一致率', 'Error'], dtype=object)"
      ]
     },
     "execution_count": 91,
     "metadata": {},
     "output_type": "execute_result"
    }
   ],
   "source": [
    "df_all_pret.columns.values"
   ]
  },
  {
   "cell_type": "code",
   "execution_count": 94,
   "id": "a200c053-d33c-4dbe-a03c-4187e0f4d767",
   "metadata": {},
   "outputs": [],
   "source": [
    "def revise_sankakaisu(df_input):\n",
    "    \"\"\"\n",
    "    同一採点者を取得\n",
    "    map関数で、年度、採点回、学年を基準にして番号を振る\n",
    "    例：\n",
    "    2022、秋、3年　202233\n",
    "    2022、秋、2年 202232\n",
    "    番号順に降順で並びかえる\n",
    "    参加回数が記入されている、最も古いレコードの参加回数を取得\n",
    "    それ以外のレコードに番号をふる\n",
    "    \"\"\"\n",
    "    df = df_input.copy()\n",
    "    df = df.dropna(subset=['参加回数'])\n",
    "    #if np.isnan(df['学年']):\n",
    "    df['学年'] = df['学年'].fillna(0)\n",
    "    collist=['スタッフコード', '年度', '採点回', '学年', '科目', '分野', '割当', '身分', '年齢', '大学',\n",
    "           '学部', '偏差値', '登録試験点数', '参加回数', '参加回数_修正', '完全一致率', 'Error']\n",
    "    temp=[]\n",
    "    s = list(sorted(df['スタッフコード'].unique().astype(int)))#スタッフコード単位で繰り返す\n",
    "    for i in s:\n",
    "        df1 = df[df['スタッフコード']==i]\n",
    "        x = \"採点回\"\n",
    "        y = \"学年\"\n",
    "        conditions = [\n",
    "            (df1[x] == '春'),\n",
    "            (df1[x] == '夏'),\n",
    "            (df1[x] == '秋'),\n",
    "            (df1[x] == '冬')]\n",
    "        choices = ['1','2','3','4']\n",
    "        df1.loc[:,'採点回_no'] = np.select(conditions, choices, default = 0)\n",
    "        conditions = [\n",
    "            (df1[y] == 1),\n",
    "            (df1[y] == 2),\n",
    "            (df1[y] == 3)]\n",
    "        choices = ['2','2','1']#秋は前半後半があるため\n",
    "        df1.loc[:,'学年_no'] = np.select(conditions, choices, default = 0)\n",
    "        df1 = df1.astype({'年度': 'str', '学年': 'str'})\n",
    "        df1['No'] = df1['年度'] + df1['採点回_no'] + df1['学年_no']\n",
    "        df1 = df1.astype({'No': 'float'})\n",
    "        df1 = df1.sort_values('No', ascending=True)#番号を使って古いものを上に並びかえる\n",
    "        df1['No']= range(0, len(df1))#同一スタッフコードの人の、完全一致率をもつレコードに連番をふる\n",
    "        temp_no = df1.iat[0, 13]#同一スタッフコードの一番古い値を代入。13は参加回数の列\n",
    "        df1['参加回数_修正']= temp_no + df1['No']\n",
    "        df1=df1[collist]\n",
    "        df1 = df1.rename(columns = {'参加回数':'参加回数_修正前',\n",
    "                               '参加回数_修正':'参加回数'})\n",
    "        temp.append(df1)\n",
    "    dfs = temp[0] #集計結果を一つのDFに結合\n",
    "    for i in temp[1:]:\n",
    "        dfs = dfs.append(i)\n",
    "    return dfs"
   ]
  },
  {
   "cell_type": "code",
   "execution_count": 95,
   "id": "f0aafaf2-5b05-439f-914e-25b246f5ff86",
   "metadata": {
    "collapsed": true,
    "jupyter": {
     "outputs_hidden": true
    },
    "tags": []
   },
   "outputs": [
    {
     "name": "stderr",
     "output_type": "stream",
     "text": [
      "/Users/s.ogura/opt/anaconda3/lib/python3.9/site-packages/pandas/core/indexing.py:1667: SettingWithCopyWarning: \n",
      "A value is trying to be set on a copy of a slice from a DataFrame.\n",
      "Try using .loc[row_indexer,col_indexer] = value instead\n",
      "\n",
      "See the caveats in the documentation: https://pandas.pydata.org/pandas-docs/stable/user_guide/indexing.html#returning-a-view-versus-a-copy\n",
      "  self.obj[key] = value\n"
     ]
    }
   ],
   "source": [
    "df_revised = revise_sankakaisu(df_all_pret)"
   ]
  },
  {
   "cell_type": "code",
   "execution_count": 96,
   "id": "3616cd51-b66e-4d18-b858-86141a257123",
   "metadata": {},
   "outputs": [
    {
     "data": {
      "text/plain": [
       "31491"
      ]
     },
     "execution_count": 96,
     "metadata": {},
     "output_type": "execute_result"
    }
   ],
   "source": [
    "len(df_revised)"
   ]
  },
  {
   "cell_type": "code",
   "execution_count": 100,
   "id": "4a2517a9-de4a-4f86-9a6f-dbe0d2bf6be0",
   "metadata": {},
   "outputs": [
    {
     "data": {
      "text/html": [
       "<div>\n",
       "<style scoped>\n",
       "    .dataframe tbody tr th:only-of-type {\n",
       "        vertical-align: middle;\n",
       "    }\n",
       "\n",
       "    .dataframe tbody tr th {\n",
       "        vertical-align: top;\n",
       "    }\n",
       "\n",
       "    .dataframe thead th {\n",
       "        text-align: right;\n",
       "    }\n",
       "</style>\n",
       "<table border=\"1\" class=\"dataframe\">\n",
       "  <thead>\n",
       "    <tr style=\"text-align: right;\">\n",
       "      <th></th>\n",
       "      <th>スタッフコード</th>\n",
       "      <th>年度</th>\n",
       "      <th>採点回</th>\n",
       "      <th>学年</th>\n",
       "      <th>科目</th>\n",
       "      <th>分野</th>\n",
       "      <th>割当</th>\n",
       "      <th>身分</th>\n",
       "      <th>年齢</th>\n",
       "      <th>大学</th>\n",
       "      <th>学部</th>\n",
       "      <th>偏差値</th>\n",
       "      <th>登録試験点数</th>\n",
       "      <th>参加回数_修正前</th>\n",
       "      <th>参加回数</th>\n",
       "      <th>完全一致率</th>\n",
       "      <th>Error</th>\n",
       "    </tr>\n",
       "  </thead>\n",
       "  <tbody>\n",
       "    <tr>\n",
       "      <th>750</th>\n",
       "      <td>1070047256</td>\n",
       "      <td>2021</td>\n",
       "      <td>夏</td>\n",
       "      <td>2.0</td>\n",
       "      <td>国語</td>\n",
       "      <td>評論</td>\n",
       "      <td>01</td>\n",
       "      <td>社会人</td>\n",
       "      <td>46.0</td>\n",
       "      <td>獨協大学</td>\n",
       "      <td>外国語学部</td>\n",
       "      <td>61.3</td>\n",
       "      <td>80.0</td>\n",
       "      <td>4.0</td>\n",
       "      <td>4.0</td>\n",
       "      <td>0.897959</td>\n",
       "      <td>0</td>\n",
       "    </tr>\n",
       "    <tr>\n",
       "      <th>1886</th>\n",
       "      <td>1070047256</td>\n",
       "      <td>2021</td>\n",
       "      <td>秋</td>\n",
       "      <td>3.0</td>\n",
       "      <td>国語</td>\n",
       "      <td>評論</td>\n",
       "      <td>12</td>\n",
       "      <td>社会人</td>\n",
       "      <td>46.0</td>\n",
       "      <td>獨協大学</td>\n",
       "      <td>外国語学部</td>\n",
       "      <td>61.3</td>\n",
       "      <td>80.0</td>\n",
       "      <td>5.0</td>\n",
       "      <td>5.0</td>\n",
       "      <td>0.714286</td>\n",
       "      <td>0</td>\n",
       "    </tr>\n",
       "    <tr>\n",
       "      <th>3306</th>\n",
       "      <td>1070047256</td>\n",
       "      <td>2021</td>\n",
       "      <td>秋</td>\n",
       "      <td>2.0</td>\n",
       "      <td>国語</td>\n",
       "      <td>小説</td>\n",
       "      <td>04</td>\n",
       "      <td>社会人</td>\n",
       "      <td>46.0</td>\n",
       "      <td>獨協大学</td>\n",
       "      <td>外国語学部</td>\n",
       "      <td>61.3</td>\n",
       "      <td>80.0</td>\n",
       "      <td>6.0</td>\n",
       "      <td>6.0</td>\n",
       "      <td>0.827160</td>\n",
       "      <td>0</td>\n",
       "    </tr>\n",
       "    <tr>\n",
       "      <th>4693</th>\n",
       "      <td>1070047256</td>\n",
       "      <td>2021</td>\n",
       "      <td>冬</td>\n",
       "      <td>2.0</td>\n",
       "      <td>国語</td>\n",
       "      <td>小説</td>\n",
       "      <td>04</td>\n",
       "      <td>社会人</td>\n",
       "      <td>46.0</td>\n",
       "      <td>獨協大学</td>\n",
       "      <td>外国語学部</td>\n",
       "      <td>61.3</td>\n",
       "      <td>80.0</td>\n",
       "      <td>7.0</td>\n",
       "      <td>7.0</td>\n",
       "      <td>0.810000</td>\n",
       "      <td>0</td>\n",
       "    </tr>\n",
       "    <tr>\n",
       "      <th>6154</th>\n",
       "      <td>1070047256</td>\n",
       "      <td>2022</td>\n",
       "      <td>夏</td>\n",
       "      <td>2.0</td>\n",
       "      <td>国語</td>\n",
       "      <td>小説</td>\n",
       "      <td>03</td>\n",
       "      <td>社会人</td>\n",
       "      <td>46.0</td>\n",
       "      <td>獨協大学</td>\n",
       "      <td>外国語学部</td>\n",
       "      <td>61.3</td>\n",
       "      <td>80.0</td>\n",
       "      <td>4.0</td>\n",
       "      <td>8.0</td>\n",
       "      <td>0.775000</td>\n",
       "      <td>0</td>\n",
       "    </tr>\n",
       "    <tr>\n",
       "      <th>219</th>\n",
       "      <td>1070047256</td>\n",
       "      <td>2022</td>\n",
       "      <td>秋</td>\n",
       "      <td>3.0</td>\n",
       "      <td>国語</td>\n",
       "      <td>評論</td>\n",
       "      <td>02</td>\n",
       "      <td>社会人</td>\n",
       "      <td>47.0</td>\n",
       "      <td>獨協大学</td>\n",
       "      <td>外国語学部</td>\n",
       "      <td>61.3</td>\n",
       "      <td>80.0</td>\n",
       "      <td>5.0</td>\n",
       "      <td>9.0</td>\n",
       "      <td>0.803922</td>\n",
       "      <td>0</td>\n",
       "    </tr>\n",
       "    <tr>\n",
       "      <th>278</th>\n",
       "      <td>1070047256</td>\n",
       "      <td>2022</td>\n",
       "      <td>秋</td>\n",
       "      <td>1.0</td>\n",
       "      <td>国語</td>\n",
       "      <td>評論</td>\n",
       "      <td>02</td>\n",
       "      <td>社会人</td>\n",
       "      <td>47.0</td>\n",
       "      <td>獨協大学</td>\n",
       "      <td>外国語学部</td>\n",
       "      <td>61.3</td>\n",
       "      <td>80.0</td>\n",
       "      <td>5.0</td>\n",
       "      <td>10.0</td>\n",
       "      <td>0.835616</td>\n",
       "      <td>0</td>\n",
       "    </tr>\n",
       "    <tr>\n",
       "      <th>673</th>\n",
       "      <td>1070047256</td>\n",
       "      <td>2022</td>\n",
       "      <td>冬</td>\n",
       "      <td>1.0</td>\n",
       "      <td>国語</td>\n",
       "      <td>評論</td>\n",
       "      <td>02</td>\n",
       "      <td>社会人</td>\n",
       "      <td>47.0</td>\n",
       "      <td>獨協大学</td>\n",
       "      <td>外国語学部</td>\n",
       "      <td>61.3</td>\n",
       "      <td>80.0</td>\n",
       "      <td>7.0</td>\n",
       "      <td>11.0</td>\n",
       "      <td>0.919753</td>\n",
       "      <td>0</td>\n",
       "    </tr>\n",
       "  </tbody>\n",
       "</table>\n",
       "</div>"
      ],
      "text/plain": [
       "         スタッフコード    年度 採点回   学年  科目  分野  割当   身分    年齢    大学     学部   偏差値  \\\n",
       "750   1070047256  2021   夏  2.0  国語  評論  01  社会人  46.0  獨協大学  外国語学部  61.3   \n",
       "1886  1070047256  2021   秋  3.0  国語  評論  12  社会人  46.0  獨協大学  外国語学部  61.3   \n",
       "3306  1070047256  2021   秋  2.0  国語  小説  04  社会人  46.0  獨協大学  外国語学部  61.3   \n",
       "4693  1070047256  2021   冬  2.0  国語  小説  04  社会人  46.0  獨協大学  外国語学部  61.3   \n",
       "6154  1070047256  2022   夏  2.0  国語  小説  03  社会人  46.0  獨協大学  外国語学部  61.3   \n",
       "219   1070047256  2022   秋  3.0  国語  評論  02  社会人  47.0  獨協大学  外国語学部  61.3   \n",
       "278   1070047256  2022   秋  1.0  国語  評論  02  社会人  47.0  獨協大学  外国語学部  61.3   \n",
       "673   1070047256  2022   冬  1.0  国語  評論  02  社会人  47.0  獨協大学  外国語学部  61.3   \n",
       "\n",
       "      登録試験点数  参加回数_修正前  参加回数     完全一致率  Error  \n",
       "750     80.0       4.0   4.0  0.897959      0  \n",
       "1886    80.0       5.0   5.0  0.714286      0  \n",
       "3306    80.0       6.0   6.0  0.827160      0  \n",
       "4693    80.0       7.0   7.0  0.810000      0  \n",
       "6154    80.0       4.0   8.0  0.775000      0  \n",
       "219     80.0       5.0   9.0  0.803922      0  \n",
       "278     80.0       5.0  10.0  0.835616      0  \n",
       "673     80.0       7.0  11.0  0.919753      0  "
      ]
     },
     "execution_count": 100,
     "metadata": {},
     "output_type": "execute_result"
    }
   ],
   "source": [
    "#修正されているか確認している\n",
    "df = df_revised\n",
    "df = df[df['スタッフコード']==1070047256]\n",
    "df.head(10)"
   ]
  },
  {
   "cell_type": "markdown",
   "id": "ca45abe5-3296-47b8-9a35-c35e5d3c806d",
   "metadata": {},
   "source": [
    "# データマートの出力"
   ]
  },
  {
   "cell_type": "code",
   "execution_count": 101,
   "id": "00b26a2c-830a-45d0-aa1b-9f86dea8c287",
   "metadata": {},
   "outputs": [],
   "source": [
    "#分野結合済データを出力する。\n",
    "df1 = df_all\n",
    "df2 = df_all_pret\n",
    "df3 = df_revised\n",
    "\n",
    "name_file = \"採点者品質予測_21夏から22冬まで_結合データ\" #ファイル名\n",
    "path_folder = r\"/Users/s.ogura/Documents/CRLEA/data/intermediatedata\"#フォルダパス\n",
    "path_file = r'{p}/{n}'.format(p = path_folder, n = name_file)#ファイルパスとファイル名\n",
    "\n",
    "with pd.ExcelWriter('{}/{}.xlsx'.format(path_folder,name_file)) as writer:\n",
    "    df1.to_excel(writer, sheet_name='結合データ',encoding='utf-8-sig', index = False)\n",
    "    df2.to_excel(writer, sheet_name='エラーラベル付きデータ',encoding='utf-8-sig', index = False)\n",
    "    df3.to_excel(writer, sheet_name='参加回数修正データ',encoding='utf-8-sig', index = False)"
   ]
  },
  {
   "cell_type": "markdown",
   "id": "1b646f24-a3ec-4e04-a0c2-6e905ee23ba3",
   "metadata": {
    "tags": []
   },
   "source": [
    "# 重複チェック(ここまで実行する)"
   ]
  },
  {
   "cell_type": "code",
   "execution_count": 102,
   "id": "6efbc9e6-a45a-4988-99ed-eab4f4074bf8",
   "metadata": {},
   "outputs": [
    {
     "data": {
      "text/plain": [
       "[31491, 0]"
      ]
     },
     "execution_count": 102,
     "metadata": {},
     "output_type": "execute_result"
    }
   ],
   "source": [
    "#欠損を含む行数 過去データ\n",
    "df = df_revised\n",
    "data_dup_check=[len(df),len(df[df.duplicated(subset=['スタッフコード', '参加回数'],keep=False)])]\n",
    "data_dup_check"
   ]
  },
  {
   "cell_type": "code",
   "execution_count": 72,
   "id": "32c1d3eb-5730-48bc-85f7-aa62d711588c",
   "metadata": {},
   "outputs": [],
   "source": [
    "\"\"\"\n",
    "Excelの書き出し \n",
    "\"\"\"\n",
    "df = df_dup\n",
    "\n",
    "name = \"採点者品質予測_22秋後半納品_受領データ_参加回数異常レコード\"\n",
    "path_folder = r\"/Users/s.ogura/Documents/CRLEA/data/rawdata\"#フォルダパス\n",
    "\n",
    "#Excel\n",
    "with pd.ExcelWriter('{}/{}.xlsx'.format(path_folder,name)) as writer:\n",
    "    df.to_excel(writer, sheet_name='data1',encoding='utf-8-sig', index = False)"
   ]
  },
  {
   "cell_type": "markdown",
   "id": "7f4d5934-159b-411c-9f1b-dddaf07783f7",
   "metadata": {
    "jp-MarkdownHeadingCollapsed": true,
    "tags": []
   },
   "source": [
    "# 重複削除"
   ]
  },
  {
   "cell_type": "code",
   "execution_count": 303,
   "id": "d4830d29-15c8-41d0-b944-56302d5fcf44",
   "metadata": {},
   "outputs": [],
   "source": [
    "#train,test,predのデータ分類ラベル\n",
    "def rem_dup(df_input):\n",
    "    df = df_input.copy()\n",
    "    x = \"参加回数\"\n",
    "    conditions = [\n",
    "        (df['年度'] == 2022)&(df['採点回'] == '秋'),\n",
    "        (df['年度'] == 2022)&(df['採点回'] == '夏'),\n",
    "        (df['年度'] == 2021)&(df['採点回'] == '冬'),\n",
    "        (df['年度'] == 2021)&(df['採点回'] == '秋')&(df['学年'] == 3),\n",
    "        (df['年度'] == 2021)&(df['採点回'] == '秋')&(df['学年'] != 3),\n",
    "        (df['年度'] == 2021)&(df['採点回'] == '夏')]\n",
    "    choices = [1,2,3,4,5,6]\n",
    "    df.loc[:,'時系列順'] = np.select(conditions, choices, default = 0)\n",
    "    df = df.sort_values('時系列順', ascending=True)\n",
    "    df = df.drop_duplicates(subset=['スタッフコード', '参加回数'],keep='last')\n",
    "    return df"
   ]
  },
  {
   "cell_type": "code",
   "execution_count": 304,
   "id": "04f79fb2-0cc6-4ec6-8cea-f8b595665235",
   "metadata": {},
   "outputs": [],
   "source": [
    "df_output = rem_dup(df_comb)"
   ]
  },
  {
   "cell_type": "code",
   "execution_count": 305,
   "id": "173b72ab-ad2a-4272-a730-89b040662676",
   "metadata": {},
   "outputs": [],
   "source": [
    "df = df_output\n",
    "df_dup = df[df.duplicated(subset=['スタッフコード', '参加回数'],keep='last')]"
   ]
  },
  {
   "cell_type": "code",
   "execution_count": 307,
   "id": "d827cccd-31ca-4bed-bb85-05ce13a50f8f",
   "metadata": {},
   "outputs": [
    {
     "data": {
      "text/plain": [
       "24269"
      ]
     },
     "execution_count": 307,
     "metadata": {},
     "output_type": "execute_result"
    }
   ],
   "source": [
    "len(df_output)"
   ]
  },
  {
   "cell_type": "code",
   "execution_count": 308,
   "id": "d6795d5a-6d16-40cb-a6e9-70a82a2bef9b",
   "metadata": {},
   "outputs": [
    {
     "data": {
      "text/plain": [
       "0"
      ]
     },
     "execution_count": 308,
     "metadata": {},
     "output_type": "execute_result"
    }
   ],
   "source": [
    "len(df_dup)"
   ]
  },
  {
   "cell_type": "code",
   "execution_count": 309,
   "id": "fcb8677a-b0c0-4eb0-95c6-08f26eb18266",
   "metadata": {},
   "outputs": [],
   "source": [
    "\"\"\"\n",
    "Excelの書き出し \n",
    "\"\"\"\n",
    "df = df_output\n",
    "\n",
    "name = \"採点者品質予測_22秋納品_整形済み学習データ_参加回数異常レコード削除_v1\"\n",
    "path_folder = r\"/Users/s.ogura/Documents/CRLEA/data/intermediatedata\"#フォルダパス\n",
    "\n",
    "#Excel\n",
    "with pd.ExcelWriter('{}/{}.xlsx'.format(path_folder,name)) as writer:\n",
    "    df.to_excel(writer, sheet_name='data1',encoding='utf-8-sig', index = False)"
   ]
  },
  {
   "cell_type": "markdown",
   "id": "c8970607-a107-43ae-9e5a-edc14fe1e43e",
   "metadata": {
    "jp-MarkdownHeadingCollapsed": true,
    "tags": []
   },
   "source": [
    "# 過去エクセルデータの編集（参考として残してある。実行不要）"
   ]
  },
  {
   "cell_type": "markdown",
   "id": "44ea7b04-ad2a-4e44-b271-0f4286fd1ba3",
   "metadata": {
    "jp-MarkdownHeadingCollapsed": true,
    "tags": []
   },
   "source": [
    "## データ②を縦型に変換"
   ]
  },
  {
   "cell_type": "code",
   "execution_count": 3,
   "id": "dd3f2c93-c10d-4b9a-a3c5-a54d24de6a02",
   "metadata": {},
   "outputs": [],
   "source": [
    "\"\"\"\n",
    "1. 受領データ②を読み込む\n",
    "2.　採点回ごとにデータフレームに入れる\n",
    "3.　スタッフコードをキーにして一つのデータフレームとしてマージする\n",
    "\"\"\"\n",
    "# \n",
    "path_name = \"/Users/s.ogura/Documents/CRLEA/data/rawdata/②採点者情報_採点に関する情報_0720_名前削除.xlsx\"\n",
    "path_file =  r'{}'.format(path_name)\n",
    "input_file = pd.ExcelFile(path_file)\n",
    "sn_list = input_file.sheet_names\n",
    "\n",
    "#夏採点を読み込んで、採点回を列に追加する　df_summer\n",
    "\n",
    "df = []\n",
    "df = pd.read_excel(path_file, sn_list[0], header=1, index_col=None,skiprows=None,usecols=list(range(0,24,1)))#headerを修正\n",
    "df.columns=['スタッフコード', 'スタッフコード3', '科目', '登録試験点数', '等級', '参加回数', '学年', '割当', '分野名',\n",
    "       '採否時登録時間', '1回目採点満点', '1回目採点得点', '完全混在枚数総数', '完全一致枚数', '完全一致率',\n",
    "       '範囲内混在枚数総数', '範囲内一致枚数', '範囲内一致率', '最終シール', 'ACTB', 'ACTB理由', 'ACTB登録日',\n",
    "       '依頼枚数', '枠更新率']\n",
    "df[\"採点回\"]= \"夏\"\n",
    "df_summer = df\n",
    "\n",
    "#秋採点を読み込んで、採点回を列に追加する　df_fall\n",
    "\n",
    "df = []\n",
    "df = pd.read_excel(path_file, sn_list[0], header=1, index_col=None,skiprows=None,usecols=[0,1,2,3] + list(range(24,44,1)))#headerを修正\n",
    "df.columns=['スタッフコード', 'スタッフコード3', '科目', '登録試験点数', '等級', '参加回数', '学年', '割当', '分野名',\n",
    "       '採否時登録時間', '1回目採点満点', '1回目採点得点', '完全混在枚数総数', '完全一致枚数', '完全一致率',\n",
    "       '範囲内混在枚数総数', '範囲内一致枚数', '範囲内一致率', '最終シール', 'ACTB', 'ACTB理由', 'ACTB登録日',\n",
    "       '依頼枚数', '枠更新率']\n",
    "df[\"採点回\"]= \"秋\"\n",
    "df_fall_f = df\n",
    "\n",
    "df = []\n",
    "df = pd.read_excel(path_file, sn_list[0], header=1, index_col=None,skiprows=None,usecols=[0,1,2,3] + list(range(44,64,1)))#headerを修正\n",
    "df.columns=['スタッフコード', 'スタッフコード3', '科目', '登録試験点数', '等級', '参加回数', '学年', '割当', '分野名',\n",
    "       '採否時登録時間', '1回目採点満点', '1回目採点得点', '完全混在枚数総数', '完全一致枚数', '完全一致率',\n",
    "       '範囲内混在枚数総数', '範囲内一致枚数', '範囲内一致率', '最終シール', 'ACTB', 'ACTB理由', 'ACTB登録日',\n",
    "       '依頼枚数', '枠更新率']\n",
    "df[\"採点回\"]= \"秋\"\n",
    "df_fall_l = df\n",
    "\n",
    "#冬採点を読み込んで、採点回を列に追加する　df_winter\n",
    "df = []\n",
    "df = pd.read_excel(path_file, sn_list[0], header=1, index_col=None,skiprows=None,usecols=[0,1,2,3] + list(range(64,84,1)))#headerを修正\n",
    "df.columns=['スタッフコード', 'スタッフコード3', '科目', '登録試験点数', '等級', '参加回数', '学年', '割当', '分野名',\n",
    "       '採否時登録時間', '1回目採点満点', '1回目採点得点', '完全混在枚数総数', '完全一致枚数', '完全一致率',\n",
    "       '範囲内混在枚数総数', '範囲内一致枚数', '範囲内一致率', '最終シール', 'ACTB', 'ACTB理由', 'ACTB登録日',\n",
    "       '依頼枚数', '枠更新率']\n",
    "df[\"採点回\"]= \"冬\"\n",
    "df_winter = df\n",
    "\n",
    "#dataframeの結合\n",
    "df =df_summer.append(df_fall_f)\n",
    "df =df.append(df_fall_l)\n",
    "df = df.append(df_winter)\n",
    "df = df.rename(columns={'科目':'科目コード'})\n",
    "df[\"年度\"]= 21\n",
    "df_2 = df"
   ]
  },
  {
   "cell_type": "code",
   "execution_count": 4,
   "id": "e50a6db4-8736-4ef3-9308-92edfd9dbdbe",
   "metadata": {},
   "outputs": [
    {
     "data": {
      "text/plain": [
       "array([ 5.,  3., 14.,  9.,  7., 10.,  8.,  4., 13.,  2.,  6., 11., 16.,\n",
       "        1., 12., 32., 20., 15., 17., 19., 22., nan, 33., 18., 23., 21.,\n",
       "       30., 36., 35., 27., 31., 37., 24., 26., 29., 25.,  0., 34., 28.])"
      ]
     },
     "execution_count": 4,
     "metadata": {},
     "output_type": "execute_result"
    }
   ],
   "source": [
    "df_2['参加回数'].unique()"
   ]
  },
  {
   "cell_type": "code",
   "execution_count": 5,
   "id": "47eb0d3e-30fc-4915-9898-64a7fe005895",
   "metadata": {},
   "outputs": [
    {
     "data": {
      "text/plain": [
       "40140"
      ]
     },
     "execution_count": 5,
     "metadata": {},
     "output_type": "execute_result"
    }
   ],
   "source": [
    "len(df_2)"
   ]
  },
  {
   "cell_type": "code",
   "execution_count": 5,
   "id": "124e48ef-56f8-4c00-9f1b-c3fa732a4b98",
   "metadata": {},
   "outputs": [],
   "source": [
    "\"\"\"\n",
    "Excelの書き出し \n",
    "\"\"\"\n",
    "\n",
    "df = df_2\n",
    "\n",
    "name = \"②採点者情報_採点に関する情報0720_名前削除_縦型v2\"\n",
    "path_folder = r\"/Users/s.ogura/Documents/CRLEA/data/intermediatedata\"#フォルダパス\n",
    "\n",
    "#csv\n",
    "df.to_csv('{}/{}.csv'.format(path_folder,name),encoding='utf-8-sig',index=False)\n",
    "#Excel\n",
    "with pd.ExcelWriter('{}/{}.xlsx'.format(path_folder,name)) as writer:\n",
    "    df.to_excel(writer, sheet_name='data1',encoding='utf-8-sig', index = False)"
   ]
  },
  {
   "cell_type": "markdown",
   "id": "45c373bc-5e10-4b7c-9a9d-3d813c8aa0f7",
   "metadata": {
    "jp-MarkdownHeadingCollapsed": true,
    "tags": []
   },
   "source": [
    "## データ④"
   ]
  },
  {
   "cell_type": "code",
   "execution_count": 6,
   "id": "d7ba7c78-f8a7-4fdf-88a0-dc14499f38ad",
   "metadata": {},
   "outputs": [],
   "source": [
    "\"\"\"\n",
    "1. 受領データ④を読み込む\n",
    "2.　スタッフコードをキーにして一つのデータフレームとしてマージする\n",
    "\"\"\"\n",
    "# \n",
    "path_name = \"/Users/s.ogura/Documents/CRLEA/data/rawdata/④採用者情報_個人に関わる詳細_0712.xlsx\"\n",
    "path_file =  r'{}'.format(path_name)\n",
    "input_file = pd.ExcelFile(path_file)\n",
    "sn_list = input_file.sheet_names\n",
    "\n",
    "#夏採点を読み込んで、採点回を列に追加する　df_summer\n",
    "\n",
    "df = []\n",
    "df = pd.read_excel(path_file, sn_list[0], header=0, index_col=None,skiprows=None)#headerを修正\n",
    "df = df.rename(columns = {'学生/社会人':'身分'})\n",
    "df_4 = df.loc[:,['スタッフコード', '身分', '性別', '年齢', '大学', '学部', '偏差値']]"
   ]
  },
  {
   "cell_type": "code",
   "execution_count": 8,
   "id": "da713afb-1886-4319-a933-39a4565c9621",
   "metadata": {},
   "outputs": [
    {
     "data": {
      "text/plain": [
       "array(['スタッフコード', '身分', '性別', '年齢', '大学', '学部', '偏差値'], dtype=object)"
      ]
     },
     "execution_count": 8,
     "metadata": {},
     "output_type": "execute_result"
    }
   ],
   "source": [
    "df_4.columns.values"
   ]
  },
  {
   "cell_type": "code",
   "execution_count": 9,
   "id": "d1a5c108-dcc1-4004-8c66-b5a5820d546a",
   "metadata": {},
   "outputs": [
    {
     "data": {
      "text/html": [
       "<div>\n",
       "<style scoped>\n",
       "    .dataframe tbody tr th:only-of-type {\n",
       "        vertical-align: middle;\n",
       "    }\n",
       "\n",
       "    .dataframe tbody tr th {\n",
       "        vertical-align: top;\n",
       "    }\n",
       "\n",
       "    .dataframe thead th {\n",
       "        text-align: right;\n",
       "    }\n",
       "</style>\n",
       "<table border=\"1\" class=\"dataframe\">\n",
       "  <thead>\n",
       "    <tr style=\"text-align: right;\">\n",
       "      <th></th>\n",
       "      <th>スタッフコード</th>\n",
       "      <th>身分</th>\n",
       "      <th>性別</th>\n",
       "      <th>年齢</th>\n",
       "      <th>大学</th>\n",
       "      <th>学部</th>\n",
       "      <th>偏差値</th>\n",
       "    </tr>\n",
       "  </thead>\n",
       "  <tbody>\n",
       "    <tr>\n",
       "      <th>0</th>\n",
       "      <td>1050015912</td>\n",
       "      <td>社会人</td>\n",
       "      <td>女性</td>\n",
       "      <td>58</td>\n",
       "      <td>東北大学医療技術短期大学部</td>\n",
       "      <td>NaN</td>\n",
       "      <td>短大</td>\n",
       "    </tr>\n",
       "    <tr>\n",
       "      <th>1</th>\n",
       "      <td>1050740209</td>\n",
       "      <td>社会人</td>\n",
       "      <td>女性</td>\n",
       "      <td>35</td>\n",
       "      <td>上智大学</td>\n",
       "      <td>文学部</td>\n",
       "      <td>69.6</td>\n",
       "    </tr>\n",
       "    <tr>\n",
       "      <th>2</th>\n",
       "      <td>1050742436</td>\n",
       "      <td>社会人</td>\n",
       "      <td>女性</td>\n",
       "      <td>53</td>\n",
       "      <td>岡山大学</td>\n",
       "      <td>教育学部</td>\n",
       "      <td>59.6</td>\n",
       "    </tr>\n",
       "    <tr>\n",
       "      <th>3</th>\n",
       "      <td>1050852853</td>\n",
       "      <td>社会人</td>\n",
       "      <td>女性</td>\n",
       "      <td>35</td>\n",
       "      <td>福岡女学院大学</td>\n",
       "      <td>人文学部</td>\n",
       "      <td>49</td>\n",
       "    </tr>\n",
       "    <tr>\n",
       "      <th>4</th>\n",
       "      <td>1051284876</td>\n",
       "      <td>社会人</td>\n",
       "      <td>女性</td>\n",
       "      <td>29</td>\n",
       "      <td>長崎大学</td>\n",
       "      <td>経済学部</td>\n",
       "      <td>56.6</td>\n",
       "    </tr>\n",
       "  </tbody>\n",
       "</table>\n",
       "</div>"
      ],
      "text/plain": [
       "      スタッフコード   身分  性別  年齢             大学    学部   偏差値\n",
       "0  1050015912  社会人  女性  58  東北大学医療技術短期大学部   NaN    短大\n",
       "1  1050740209  社会人  女性  35           上智大学   文学部  69.6\n",
       "2  1050742436  社会人  女性  53           岡山大学  教育学部  59.6\n",
       "3  1050852853  社会人  女性  35        福岡女学院大学  人文学部    49\n",
       "4  1051284876  社会人  女性  29           長崎大学  経済学部  56.6"
      ]
     },
     "execution_count": 9,
     "metadata": {},
     "output_type": "execute_result"
    }
   ],
   "source": [
    "df_4.head()"
   ]
  },
  {
   "cell_type": "code",
   "execution_count": 7,
   "id": "eedc3acf-1dad-43de-8f84-a3d013c70785",
   "metadata": {},
   "outputs": [
    {
     "name": "stdout",
     "output_type": "stream",
     "text": [
      "df1のキー重複\n",
      "30105\n",
      "df2のキー重複\n",
      "0\n",
      "df1のオブザベーション:40140\n",
      "df2のオブザベーション:16300\n",
      "mergeのオブザベーション:40140\n"
     ]
    }
   ],
   "source": [
    "df_24 = pandas_tool.merge(df_2,df_4,key = 'スタッフコード',how ='left' ,view=True)"
   ]
  },
  {
   "cell_type": "code",
   "execution_count": 11,
   "id": "adcc42b2-e3a7-41cd-9e97-952713a35014",
   "metadata": {},
   "outputs": [
    {
     "data": {
      "text/plain": [
       "40140"
      ]
     },
     "execution_count": 11,
     "metadata": {},
     "output_type": "execute_result"
    }
   ],
   "source": [
    "len(df_24)"
   ]
  },
  {
   "cell_type": "code",
   "execution_count": 12,
   "id": "8282866b-aa6e-42a3-bbec-e6dd092ce848",
   "metadata": {},
   "outputs": [
    {
     "data": {
      "text/html": [
       "<div>\n",
       "<style scoped>\n",
       "    .dataframe tbody tr th:only-of-type {\n",
       "        vertical-align: middle;\n",
       "    }\n",
       "\n",
       "    .dataframe tbody tr th {\n",
       "        vertical-align: top;\n",
       "    }\n",
       "\n",
       "    .dataframe thead th {\n",
       "        text-align: right;\n",
       "    }\n",
       "</style>\n",
       "<table border=\"1\" class=\"dataframe\">\n",
       "  <thead>\n",
       "    <tr style=\"text-align: right;\">\n",
       "      <th></th>\n",
       "      <th>スタッフコード</th>\n",
       "      <th>スタッフコード3</th>\n",
       "      <th>科目コード</th>\n",
       "      <th>登録試験点数</th>\n",
       "      <th>等級</th>\n",
       "      <th>参加回数</th>\n",
       "      <th>学年</th>\n",
       "      <th>割当</th>\n",
       "      <th>分野</th>\n",
       "      <th>採否時登録時間</th>\n",
       "      <th>...</th>\n",
       "      <th>依頼枚数</th>\n",
       "      <th>枠更新率</th>\n",
       "      <th>採点回</th>\n",
       "      <th>年度</th>\n",
       "      <th>身分</th>\n",
       "      <th>性別</th>\n",
       "      <th>年齢</th>\n",
       "      <th>大学</th>\n",
       "      <th>学部</th>\n",
       "      <th>偏差値</th>\n",
       "    </tr>\n",
       "  </thead>\n",
       "  <tbody>\n",
       "    <tr>\n",
       "      <th>0</th>\n",
       "      <td>1051286194</td>\n",
       "      <td>3051286194</td>\n",
       "      <td>10</td>\n",
       "      <td>0</td>\n",
       "      <td>02</td>\n",
       "      <td>5.0</td>\n",
       "      <td>1年生</td>\n",
       "      <td>01</td>\n",
       "      <td>評論</td>\n",
       "      <td>108.75</td>\n",
       "      <td>...</td>\n",
       "      <td>5982</td>\n",
       "      <td>0.841525</td>\n",
       "      <td>夏</td>\n",
       "      <td>21</td>\n",
       "      <td>社会人</td>\n",
       "      <td>女性</td>\n",
       "      <td>27.0</td>\n",
       "      <td>中京大学</td>\n",
       "      <td>心理学部</td>\n",
       "      <td>60.6</td>\n",
       "    </tr>\n",
       "    <tr>\n",
       "      <th>1</th>\n",
       "      <td>1051284876</td>\n",
       "      <td>3051284876</td>\n",
       "      <td>10</td>\n",
       "      <td>0</td>\n",
       "      <td>02</td>\n",
       "      <td>3.0</td>\n",
       "      <td>1年生</td>\n",
       "      <td>01</td>\n",
       "      <td>評論</td>\n",
       "      <td>97</td>\n",
       "      <td>...</td>\n",
       "      <td>8591</td>\n",
       "      <td>0.963683</td>\n",
       "      <td>夏</td>\n",
       "      <td>21</td>\n",
       "      <td>社会人</td>\n",
       "      <td>女性</td>\n",
       "      <td>29.0</td>\n",
       "      <td>長崎大学</td>\n",
       "      <td>経済学部</td>\n",
       "      <td>56.6</td>\n",
       "    </tr>\n",
       "    <tr>\n",
       "      <th>2</th>\n",
       "      <td>1060294576</td>\n",
       "      <td>3060294576</td>\n",
       "      <td>30</td>\n",
       "      <td>27</td>\n",
       "      <td>02</td>\n",
       "      <td>14.0</td>\n",
       "      <td>1年生</td>\n",
       "      <td>-</td>\n",
       "      <td>-</td>\n",
       "      <td>43.5</td>\n",
       "      <td>...</td>\n",
       "      <td>-</td>\n",
       "      <td>-</td>\n",
       "      <td>夏</td>\n",
       "      <td>21</td>\n",
       "      <td>社会人</td>\n",
       "      <td>女性</td>\n",
       "      <td>68.0</td>\n",
       "      <td>立教大学</td>\n",
       "      <td>文学部</td>\n",
       "      <td>65.6</td>\n",
       "    </tr>\n",
       "  </tbody>\n",
       "</table>\n",
       "<p>3 rows × 32 columns</p>\n",
       "</div>"
      ],
      "text/plain": [
       "      スタッフコード    スタッフコード3  科目コード  登録試験点数  等級  参加回数   学年  割当  分野 採否時登録時間  ...  \\\n",
       "0  1051286194  3051286194     10       0  02   5.0  1年生  01  評論  108.75  ...   \n",
       "1  1051284876  3051284876     10       0  02   3.0  1年生  01  評論      97  ...   \n",
       "2  1060294576  3060294576     30      27  02  14.0  1年生   -   -    43.5  ...   \n",
       "\n",
       "   依頼枚数      枠更新率 採点回  年度   身分  性別    年齢    大学    学部   偏差値  \n",
       "0  5982  0.841525   夏  21  社会人  女性  27.0  中京大学  心理学部  60.6  \n",
       "1  8591  0.963683   夏  21  社会人  女性  29.0  長崎大学  経済学部  56.6  \n",
       "2     -         -   夏  21  社会人  女性  68.0  立教大学   文学部  65.6  \n",
       "\n",
       "[3 rows x 32 columns]"
      ]
     },
     "execution_count": 12,
     "metadata": {},
     "output_type": "execute_result"
    }
   ],
   "source": [
    "df_24.head(3)"
   ]
  },
  {
   "cell_type": "markdown",
   "id": "24b52bd9-7fad-41b7-8961-0c57ab3f8ca1",
   "metadata": {
    "jp-MarkdownHeadingCollapsed": true,
    "tags": []
   },
   "source": [
    "## データ③"
   ]
  },
  {
   "cell_type": "code",
   "execution_count": 8,
   "id": "f4895797-517f-4847-b8cb-3f7a249af499",
   "metadata": {},
   "outputs": [],
   "source": [
    "\"\"\"\n",
    "1. 受領データ③を読み込む\n",
    "2.　採点者コード（スタッフコード）、採点回、学年をキーにしてdf_2のデータフレームとマージする\n",
    "\"\"\"\n",
    "path_name = \"/Users/s.ogura/Documents/CRLEA/data/rawdata/③【21夏-冬】採点者別ペース_0414更新.xlsx\"\n",
    "path_file =  r'{}'.format(path_name)\n",
    "input_file = pd.ExcelFile(path_file)\n",
    "sn_list= input_file.sheet_names\n",
    "sn_list = sn_list[0:len(sn_list)-2]\n",
    "#配列ループ\n",
    "df = [] #空のリスト\n",
    "for i in range(0,len(sn_list)): \n",
    "\n",
    "    # Excelファイルの読み込み\n",
    "    ret = pd.read_excel(path_file, sn_list[i], index_col=None)\n",
    "    #ret\n",
    "    ret[\"採点回\"]= sn_list[i][0]#sn_listのiつ目の要素から1番目の文字\n",
    "    ret[\"学年\"]=int(sn_list[i][1])#sn_listのiつ目の要素から2番目の文字    \n",
    "    # Excel sheetsを空のリストの各要素に追加\n",
    "    df.append(ret)\n",
    "\n",
    "    \n",
    "\"\"\"\n",
    "集計したデータを縦に結合する。\n",
    "df = df1.append(df2)\n",
    "\"\"\"\n",
    "dfs = df[0] #集計結果を一つのDFに結合\n",
    "for i in df[1:]:\n",
    "    dfs = dfs.append(i)\n",
    "\n",
    "map_dictionary ={1 : \"1年生\", 2 :\"2年生\", 3 : \"3年生\"} \n",
    "dfs['学年'] = dfs['学年'].map(map_dictionary) \n",
    "dfs = dfs.rename(columns = {'合計 / 合計 / バツウチ済枚数':'バツウチ済枚数',\n",
    "                         '合計 / 合計 / 採点済枚数':'採点済枚数',\n",
    "                         '合計 / 合計 / 採点所要時間':'採点所要時間',\n",
    "                         'ペース':'最終ペース',\n",
    "                           '採点者コード':'スタッフコード3'})\n",
    "dfs=dfs[dfs['科目コード'].isin([10, 20,30])]#科目コード10、20、30を抽出\n",
    "dfs=dfs.drop(['割当'], axis=1)\n",
    "df_3 = dfs"
   ]
  },
  {
   "cell_type": "code",
   "execution_count": 10,
   "id": "e0c28fc7-71e8-4c9d-88a7-c2eadd65784a",
   "metadata": {},
   "outputs": [],
   "source": [
    "col_names_list = [\n",
    " 'スタッフコード',\n",
    " 'スタッフコード3',\n",
    " '年度',\n",
    " '採点回',\n",
    " '科目コード',\n",
    " '身分',\n",
    " '性別',\n",
    " '年齢',\n",
    " '登録試験点数',\n",
    " '大学',\n",
    " '学部',\n",
    " '偏差値',\n",
    " '参加回数',\n",
    " '等級',\n",
    " '学年',\n",
    " '割当',\n",
    " '分野名',\n",
    " '最終ペース',\n",
    " '採否時登録時間',\n",
    " '1回目採点満点',\n",
    " '1回目採点得点',\n",
    " '完全混在枚数総数',\n",
    " '完全一致枚数',\n",
    " '完全一致率',\n",
    " '範囲内混在枚数総数',\n",
    " '範囲内一致枚数',\n",
    " '範囲内一致率',\n",
    " '最終シール',\n",
    " 'ACTB',\n",
    " 'ACTB理由',\n",
    " 'ACTB登録日',\n",
    " '依頼枚数',\n",
    " '枠更新率']"
   ]
  },
  {
   "cell_type": "code",
   "execution_count": 11,
   "id": "a0b41b4a-cad1-4336-b66a-00f08bffc3c2",
   "metadata": {},
   "outputs": [
    {
     "name": "stdout",
     "output_type": "stream",
     "text": [
      "df1のキー重複\n",
      "4599\n",
      "df2のキー重複\n",
      "0\n",
      "df1のオブザベーション:40140\n",
      "df2のオブザベーション:12376\n",
      "mergeのオブザベーション:40140\n"
     ]
    }
   ],
   "source": [
    "\"\"\"\n",
    "2つのテーブルを結合させる\n",
    "df_24:②に④と分野マスタを左外部結合\n",
    "df_3:③\n",
    "\"\"\"\n",
    "df1 = df_24\n",
    "df2 = df_3\n",
    "df_243 = pandas_tool.merge(df1,df2, key = [\"スタッフコード3\",\"採点回\",\"学年\",\"科目コード\"],how = 'left')\n",
    "# 重複行を削除するコードを挿入\n",
    "df_243= df_243.drop_duplicates()\n",
    "df_243 = df_243.drop(columns=['製品コード', '採点所要時間', '採点済枚数', 'バツウチ済枚数', '実枚数'])\n",
    "df_243 = df_243.reindex(columns=col_names_list)"
   ]
  },
  {
   "cell_type": "code",
   "execution_count": 12,
   "id": "2f68f160-2709-4057-8cf2-ba2913f7a648",
   "metadata": {},
   "outputs": [],
   "source": [
    "\"\"\"\n",
    "20220902に追記。\n",
    "21データは参加回数が1始まりとなっていたため、初心者の参加回数が1と数えられていた。\n",
    "22年夏データは参加回数を0から数えていたため、初心者は0となっている。\n",
    "そこで21年データの参加回数を-1して22年のデータに数え方を合わせる。\n",
    "\"\"\"\n",
    "df_243['参加回数'] = df_243['参加回数']-1"
   ]
  },
  {
   "cell_type": "code",
   "execution_count": 15,
   "id": "0d766aab-5d31-426a-aaf5-044bd8b6d520",
   "metadata": {},
   "outputs": [],
   "source": [
    "\"\"\"\n",
    "Excelの書き出し \n",
    "\"\"\"\n",
    "\n",
    "df = df_243\n",
    "\n",
    "name = \"②採点者情報_採点に関する情報0720_名前削除_縦型_結合データv3\"\n",
    "path_folder = r\"/Users/s.ogura/Documents/CRLEA/data/intermediatedata\"#フォルダパス\n",
    "\n",
    "#csv\n",
    "df.to_csv('{}/{}.csv'.format(path_folder,name),encoding='utf-8-sig',index=False)\n",
    "#Excel\n",
    "with pd.ExcelWriter('{}/{}.xlsx'.format(path_folder,name)) as writer:\n",
    "    df.to_excel(writer, sheet_name='data1',encoding='utf-8-sig', index = False)"
   ]
  },
  {
   "cell_type": "markdown",
   "id": "d0efad5c-3d70-4461-a4ac-515291b8de96",
   "metadata": {
    "jp-MarkdownHeadingCollapsed": true,
    "tags": []
   },
   "source": [
    "## 受領データ②採点者に関する情報_0818_名前削除.xlsxを整形"
   ]
  },
  {
   "cell_type": "code",
   "execution_count": 16,
   "id": "970c6222-0798-4d9d-99b5-b7e0ec5bb711",
   "metadata": {},
   "outputs": [],
   "source": [
    "\"\"\"\n",
    "1. 受領データを読み込む\n",
    "2. 列を並び替え\n",
    "\"\"\"\n",
    "# \n",
    "path_name = \"/Users/s.ogura/Documents/CRLEA/data/rawdata/②採点者に関する情報_0818_名前削除.xlsx\"\n",
    "path_file =  r'{}'.format(path_name)\n",
    "input_file = pd.ExcelFile(path_file)\n",
    "sn_list = input_file.sheet_names\n",
    "\n",
    "#夏採点を読み込んで、採点回を列に追加する　df_summer\n",
    "\n",
    "df = []\n",
    "df = pd.read_excel(path_file, sn_list[0], header=0, index_col=None,skiprows=[0,1],usecols=list(range(0,31,1)))#headerを修正\n",
    "df.columns=['スタッフコード', 'スタッフコード3', '科目コード', '身分','性別','年齢','登録試験点数', '大学', '学部', '偏差値', '参加回数', '等級', '学年', '割当', '分野名',\n",
    "       '採否時登録時間', '1回目採点満点', '1回目採点得点', '完全混在枚数総数', '完全一致枚数', '完全一致率',\n",
    "       '範囲内混在枚数総数', '範囲内一致枚数', '範囲内一致率', '最終シール', 'ACTB', 'ACTB理由', 'ACTB登録日',\n",
    "       '依頼枚数', '枠更新率','最終ペース']\n",
    "df[\"採点回\"]= \"夏\"\n",
    "df[\"年度\"]= 22\n",
    "df = df.reindex(columns=col_names_list)\n",
    "df_22summer = df"
   ]
  },
  {
   "cell_type": "code",
   "execution_count": 17,
   "id": "7515c296-7173-45ac-a09c-4c04f0c7ba33",
   "metadata": {
    "tags": []
   },
   "outputs": [
    {
     "data": {
      "text/plain": [
       "True"
      ]
     },
     "execution_count": 17,
     "metadata": {},
     "output_type": "execute_result"
    }
   ],
   "source": [
    "#旧データと新データを結合\n",
    "df = df_243.append(df_22summer)\n",
    "map_dictionary ={\"1年生\":1, \"2年生\":2, \"3年生\":3} \n",
    "df['学年'] = df['学年'].map(map_dictionary) \n",
    "\n",
    "map_dictionary ={21 : 2021, 22 :2022} \n",
    "df['年度'] = df['年度'].map(map_dictionary)\n",
    "\n",
    "df['割当'] = df['割当'].replace(1,'01')\n",
    "df['割当'] = df['割当'].replace(2,'02')\n",
    "df['割当'] = df['割当'].replace(3,'03')\n",
    "df['割当'] = df['割当'].replace(4,'04')\n",
    "df['割当'] = df['割当'].replace(5,'05')\n",
    "df['割当'] = df['割当'].replace(6,'06')\n",
    "df['割当'] = df['割当'].replace(7,'07')\n",
    "df['割当'] = df['割当'].replace(8,'08')\n",
    "df['割当'] = df['割当'].replace(9,'09')\n",
    "df['割当'] = df['割当'].replace(10,'10')\n",
    "df['割当'] = df['割当'].replace(11,'11')\n",
    "df['割当'] = df['割当'].replace(12,'12')\n",
    "df['割当'] = df['割当'].replace(13,'13')\n",
    "\n",
    "df_comb = df.copy()\n",
    "len(df_243)+len(df_22summer)==len(df_comb)"
   ]
  },
  {
   "cell_type": "code",
   "execution_count": 18,
   "id": "8b34a8ae-9d48-41c7-9e37-57973cd6aef7",
   "metadata": {},
   "outputs": [],
   "source": [
    "\"\"\"\n",
    "Excelの書き出し \n",
    "\"\"\"\n",
    "\n",
    "df = df_comb\n",
    "\n",
    "name = \"採点者情報0720+0818_分野修正前_0902\"\n",
    "path_folder = r\"/Users/s.ogura/Documents/CRLEA/data/intermediatedata\"#フォルダパス\n",
    "\n",
    "#csv\n",
    "df.to_csv('{}/{}.csv'.format(path_folder,name),encoding='utf-8-sig',index=False)\n",
    "#Excel\n",
    "with pd.ExcelWriter('{}/{}.xlsx'.format(path_folder,name)) as writer:\n",
    "    df.to_excel(writer, sheet_name='data1',encoding='utf-8-sig', index = False)"
   ]
  },
  {
   "cell_type": "markdown",
   "id": "48294005-02f8-4365-9d96-33d8ff019c1d",
   "metadata": {
    "jp-MarkdownHeadingCollapsed": true,
    "tags": []
   },
   "source": [
    "## 分野の修正、設問データの結合"
   ]
  },
  {
   "cell_type": "code",
   "execution_count": null,
   "id": "1635dbb4-45d7-4361-8fed-acf04cdeeb98",
   "metadata": {},
   "outputs": [],
   "source": [
    "#設問データを読み込んで結合する。\n",
    "#採点者データは科目毎にデータフレームを分けて、それぞれで結合した後に再結合するのが良い。\n",
    "#国語と英語に関しては設問データの分野名が正しい。年度と採点回と割当（ロット番号）で結合できるはず\n",
    "#変数に対して前処理を行なった後、結合する。\n",
    "#数学に関しては、分野区分マスタが正しい\n",
    "#\n",
    "#"
   ]
  },
  {
   "cell_type": "code",
   "execution_count": 19,
   "id": "dc7e17c5-6e4e-4a5e-a5e8-e2bafa8be44d",
   "metadata": {},
   "outputs": [],
   "source": [
    "##設問データを読み込んで結合する。\n",
    "\"\"\"\n",
    "path_name = ファイルパス\n",
    "sn_list = エクセルシート名のリスト\n",
    "\"\"\"\n",
    "path_name = \"/Users/s.ogura/Documents/CRLEA/data/rawdata/①答案に関する情報_0822_小倉割当追記.xlsx\"\n",
    "path_file =  r'{}'.format(path_name)\n",
    "input_file = pd.ExcelFile(path_file)\n",
    "sn_list = input_file.sheet_names\n",
    "#sn_list ['データ入力様式_英語', 'データ入力様式_国語', 'データ入力様式_数学', '空欄埋め方', 'データ入力様式(記入例)']\n",
    "\n",
    "# Excelファイルの読み込み\n",
    "df_eng_setsumon = pd.read_excel(path_file, sn_list[0], header=0, index_col=None,skiprows=[1])#headerを修正\n",
    "df_jpn_setsumon = pd.read_excel(path_file, sn_list[1], header=0, index_col=None,skiprows=[1])#headerを修正\n",
    "df_math_setsumon = pd.read_excel(path_file, sn_list[2], header=0, index_col=None,skiprows=None)#headerを修正"
   ]
  },
  {
   "cell_type": "code",
   "execution_count": 20,
   "id": "07ac5c62-2e79-4797-a252-12d116ac7b64",
   "metadata": {},
   "outputs": [],
   "source": [
    "def make_rank(df,x=str):\n",
    "    # 最終ペースをランク分け\n",
    "    if x == \"最終ペース\":\n",
    "        conditions = [\n",
    "        (df[x] >= 600),\n",
    "        (df[x] >= 500),\n",
    "        (df[x] >= 400),\n",
    "        (df[x] >= 300),\n",
    "        (df[x] >= 200),\n",
    "        (df[x] >= 100),\n",
    "        (df[x] >= 0)\n",
    "         ]\n",
    "        \n",
    "        choices = [\"600~\", \"500~600\", \"400~500\", \"300~400\", \"200~300\", \"100~200\",\"0~100\"]\n",
    "        df.loc[:,'最終ランク'] = np.select(conditions, choices, default = 0)\n",
    "    # 最終ペースをランク分け\n",
    "    if x == \"年度\":\n",
    "        conditions = [\n",
    "        (df[x] >= 2020),\n",
    "        (df[x] >= 0)\n",
    "         ]\n",
    "        \n",
    "        choices = [1, 0]\n",
    "        df.loc[:,'在宅勤務'] = np.select(conditions, choices, default = 0)\n",
    "    return df"
   ]
  },
  {
   "cell_type": "markdown",
   "id": "5bf14d37-eded-42f4-90ac-b019b5734fbb",
   "metadata": {
    "jp-MarkdownHeadingCollapsed": true,
    "tags": []
   },
   "source": [
    "## 国語科目の前処理 "
   ]
  },
  {
   "cell_type": "code",
   "execution_count": 30,
   "id": "743ff863-ec44-40da-b4cb-ee650e98e695",
   "metadata": {},
   "outputs": [],
   "source": [
    "df = df_jpn_setsumon\n",
    "#グレーアウトした行を削除\n",
    "df = df[df['採点回']!='春']\n",
    "df = df[df['ロット番号']!='基準なし']\n",
    "#len(df) 346->307\n",
    "\n",
    "#列の欠損値を補完\n",
    "df['必須条件の有無'] = df['必須条件の有無'].fillna(0)#必須条件の有無の空白を0に\n",
    "df['配点要素の数'] = df['配点要素の数'].fillna(df['ポイント数'])#配点要素の数の空白をポイント数と同じ数に\n",
    "#最終ペースでランク分け、年度で在宅勤務のフラグ\n",
    "#lst=['最終ペース','年度']\n",
    "#for i in lst:\n",
    "#    df = make_rank(df,i)\n",
    "    \n",
    "#分野の表記揺れを修正\n",
    "df['分野'] = df['分野'].replace('古文（現代語訳）','古文（現訳）')\n",
    "df['分野'] = df['分野'].replace('古文（内容説明）','古文（内説）')\n",
    "df['分野'] = df['分野'].replace('漢文（現代語訳）','漢文（現訳）')\n",
    "df['分野'] = df['分野'].replace('漢文（内容説明）','漢文（内説）')\n",
    "\n",
    "df['ロット番号'] = df['ロット番号'].replace(1,'01')\n",
    "df['ロット番号'] = df['ロット番号'].replace(2,'02')\n",
    "df['ロット番号'] = df['ロット番号'].replace(3,'03')\n",
    "df['ロット番号'] = df['ロット番号'].replace(4,'04')\n",
    "df['ロット番号'] = df['ロット番号'].replace(5,'05')\n",
    "df['ロット番号'] = df['ロット番号'].replace(6,'06')\n",
    "df['ロット番号'] = df['ロット番号'].replace(7,'07')\n",
    "df['ロット番号'] = df['ロット番号'].replace(8,'08')\n",
    "df['ロット番号'] = df['ロット番号'].replace(9,'09')\n",
    "df['ロット番号'] = df['ロット番号'].replace(10,'10')\n",
    "df['ロット番号'] = df['ロット番号'].replace(11,'11')\n",
    "df['ロット番号'] = df['ロット番号'].replace(12,'12')\n",
    "\n",
    "#必要な列のみを抽出\n",
    "df = df[['年度', '採点回','ロット番号', '学年', '科目', '分野', 'ポイント採点', '文字数',\n",
    "       'ポイント数', '配点要素の数', '配点',  '必須条件の有無','企画ペース', '最終ペース']]\n",
    "df = df.rename(columns = {'ロット番号':'割当','最終ペース':'最終ペース_設問'})\n",
    "df_jpn_setsumon_pretreated = df.copy()"
   ]
  },
  {
   "cell_type": "code",
   "execution_count": 136,
   "id": "8b3326ab-ad1e-4877-960c-5d3a86dbd293",
   "metadata": {},
   "outputs": [
    {
     "data": {
      "text/plain": [
       "array(['01', '02', '03', '04', '05', '06', '07', '08', '09', '10', '11',\n",
       "       '12', '13', '14', '15', '16'], dtype=object)"
      ]
     },
     "execution_count": 136,
     "metadata": {},
     "output_type": "execute_result"
    }
   ],
   "source": [
    "df_jpn_setsumon_pretreated['割当'].unique()"
   ]
  },
  {
   "cell_type": "code",
   "execution_count": 140,
   "id": "50e0b9a2-bffc-4de2-9638-f40c025eb74f",
   "metadata": {},
   "outputs": [
    {
     "data": {
      "text/plain": [
       "array(['01', '02', '03', '05', '-', '04', '06', '07', '08', '09', '10',\n",
       "       '11', '12', 'KS', nan, '不参加', 'パート分けナシ'], dtype=object)"
      ]
     },
     "execution_count": 140,
     "metadata": {},
     "output_type": "execute_result"
    }
   ],
   "source": [
    "df_comb[df_comb['科目コード']==10]['割当'].unique()"
   ]
  },
  {
   "cell_type": "code",
   "execution_count": 31,
   "id": "2836fa36-04e8-4ac7-b08e-d2e261567fec",
   "metadata": {},
   "outputs": [
    {
     "name": "stdout",
     "output_type": "stream",
     "text": [
      "df1のキー重複\n",
      "10216\n",
      "df2のキー重複\n",
      "0\n",
      "df1のオブザベーション:10337\n",
      "df2のオブザベーション:332\n",
      "mergeのオブザベーション:10337\n"
     ]
    },
    {
     "data": {
      "text/html": [
       "<div>\n",
       "<style scoped>\n",
       "    .dataframe tbody tr th:only-of-type {\n",
       "        vertical-align: middle;\n",
       "    }\n",
       "\n",
       "    .dataframe tbody tr th {\n",
       "        vertical-align: top;\n",
       "    }\n",
       "\n",
       "    .dataframe thead th {\n",
       "        text-align: right;\n",
       "    }\n",
       "</style>\n",
       "<table border=\"1\" class=\"dataframe\">\n",
       "  <thead>\n",
       "    <tr style=\"text-align: right;\">\n",
       "      <th></th>\n",
       "      <th>スタッフコード</th>\n",
       "      <th>スタッフコード3</th>\n",
       "      <th>年度</th>\n",
       "      <th>採点回</th>\n",
       "      <th>科目コード</th>\n",
       "      <th>身分</th>\n",
       "      <th>性別</th>\n",
       "      <th>年齢</th>\n",
       "      <th>登録試験点数</th>\n",
       "      <th>大学</th>\n",
       "      <th>...</th>\n",
       "      <th>科目</th>\n",
       "      <th>分野</th>\n",
       "      <th>ポイント採点</th>\n",
       "      <th>文字数</th>\n",
       "      <th>ポイント数</th>\n",
       "      <th>配点要素の数</th>\n",
       "      <th>配点</th>\n",
       "      <th>必須条件の有無</th>\n",
       "      <th>企画ペース</th>\n",
       "      <th>最終ペース_設問</th>\n",
       "    </tr>\n",
       "  </thead>\n",
       "  <tbody>\n",
       "    <tr>\n",
       "      <th>0</th>\n",
       "      <td>1051286194</td>\n",
       "      <td>3051286194</td>\n",
       "      <td>2021</td>\n",
       "      <td>夏</td>\n",
       "      <td>10</td>\n",
       "      <td>社会人</td>\n",
       "      <td>女性</td>\n",
       "      <td>27.0</td>\n",
       "      <td>0.0</td>\n",
       "      <td>中京大学</td>\n",
       "      <td>...</td>\n",
       "      <td>国語</td>\n",
       "      <td>評論</td>\n",
       "      <td>0.0</td>\n",
       "      <td>30.0</td>\n",
       "      <td>2.0</td>\n",
       "      <td>2.0</td>\n",
       "      <td>4.0</td>\n",
       "      <td>0.0</td>\n",
       "      <td>330.0</td>\n",
       "      <td>273.3</td>\n",
       "    </tr>\n",
       "    <tr>\n",
       "      <th>1</th>\n",
       "      <td>1051284876</td>\n",
       "      <td>3051284876</td>\n",
       "      <td>2021</td>\n",
       "      <td>夏</td>\n",
       "      <td>10</td>\n",
       "      <td>社会人</td>\n",
       "      <td>女性</td>\n",
       "      <td>29.0</td>\n",
       "      <td>0.0</td>\n",
       "      <td>長崎大学</td>\n",
       "      <td>...</td>\n",
       "      <td>国語</td>\n",
       "      <td>評論</td>\n",
       "      <td>0.0</td>\n",
       "      <td>30.0</td>\n",
       "      <td>2.0</td>\n",
       "      <td>2.0</td>\n",
       "      <td>4.0</td>\n",
       "      <td>0.0</td>\n",
       "      <td>330.0</td>\n",
       "      <td>273.3</td>\n",
       "    </tr>\n",
       "    <tr>\n",
       "      <th>2</th>\n",
       "      <td>1060309944</td>\n",
       "      <td>3060309944</td>\n",
       "      <td>2021</td>\n",
       "      <td>夏</td>\n",
       "      <td>10</td>\n",
       "      <td>社会人</td>\n",
       "      <td>女性</td>\n",
       "      <td>40.0</td>\n",
       "      <td>26.0</td>\n",
       "      <td>慶応義塾大学</td>\n",
       "      <td>...</td>\n",
       "      <td>国語</td>\n",
       "      <td>評論</td>\n",
       "      <td>0.0</td>\n",
       "      <td>30.0</td>\n",
       "      <td>2.0</td>\n",
       "      <td>2.0</td>\n",
       "      <td>4.0</td>\n",
       "      <td>0.0</td>\n",
       "      <td>330.0</td>\n",
       "      <td>273.3</td>\n",
       "    </tr>\n",
       "    <tr>\n",
       "      <th>3</th>\n",
       "      <td>1060311559</td>\n",
       "      <td>3060311559</td>\n",
       "      <td>2021</td>\n",
       "      <td>夏</td>\n",
       "      <td>10</td>\n",
       "      <td>社会人</td>\n",
       "      <td>女性</td>\n",
       "      <td>39.0</td>\n",
       "      <td>25.0</td>\n",
       "      <td>川崎医療福祉大学</td>\n",
       "      <td>...</td>\n",
       "      <td>国語</td>\n",
       "      <td>評論</td>\n",
       "      <td>0.0</td>\n",
       "      <td>30.0</td>\n",
       "      <td>2.0</td>\n",
       "      <td>2.0</td>\n",
       "      <td>4.0</td>\n",
       "      <td>0.0</td>\n",
       "      <td>330.0</td>\n",
       "      <td>273.3</td>\n",
       "    </tr>\n",
       "    <tr>\n",
       "      <th>4</th>\n",
       "      <td>1060320722</td>\n",
       "      <td>3060320722</td>\n",
       "      <td>2021</td>\n",
       "      <td>夏</td>\n",
       "      <td>10</td>\n",
       "      <td>社会人</td>\n",
       "      <td>女性</td>\n",
       "      <td>53.0</td>\n",
       "      <td>25.0</td>\n",
       "      <td>桐朋学園大学</td>\n",
       "      <td>...</td>\n",
       "      <td>国語</td>\n",
       "      <td>評論</td>\n",
       "      <td>0.0</td>\n",
       "      <td>30.0</td>\n",
       "      <td>2.0</td>\n",
       "      <td>2.0</td>\n",
       "      <td>4.0</td>\n",
       "      <td>0.0</td>\n",
       "      <td>330.0</td>\n",
       "      <td>273.3</td>\n",
       "    </tr>\n",
       "  </tbody>\n",
       "</table>\n",
       "<p>5 rows × 43 columns</p>\n",
       "</div>"
      ],
      "text/plain": [
       "      スタッフコード    スタッフコード3    年度 採点回  科目コード   身分  性別    年齢  登録試験点数        大学  \\\n",
       "0  1051286194  3051286194  2021   夏     10  社会人  女性  27.0     0.0      中京大学   \n",
       "1  1051284876  3051284876  2021   夏     10  社会人  女性  29.0     0.0      長崎大学   \n",
       "2  1060309944  3060309944  2021   夏     10  社会人  女性  40.0    26.0    慶応義塾大学   \n",
       "3  1060311559  3060311559  2021   夏     10  社会人  女性  39.0    25.0  川崎医療福祉大学   \n",
       "4  1060320722  3060320722  2021   夏     10  社会人  女性  53.0    25.0    桐朋学園大学   \n",
       "\n",
       "   ...  科目  分野  ポイント採点   文字数  ポイント数 配点要素の数   配点  必須条件の有無  企画ペース 最終ペース_設問  \n",
       "0  ...  国語  評論     0.0  30.0    2.0    2.0  4.0      0.0  330.0    273.3  \n",
       "1  ...  国語  評論     0.0  30.0    2.0    2.0  4.0      0.0  330.0    273.3  \n",
       "2  ...  国語  評論     0.0  30.0    2.0    2.0  4.0      0.0  330.0    273.3  \n",
       "3  ...  国語  評論     0.0  30.0    2.0    2.0  4.0      0.0  330.0    273.3  \n",
       "4  ...  国語  評論     0.0  30.0    2.0    2.0  4.0      0.0  330.0    273.3  \n",
       "\n",
       "[5 rows x 43 columns]"
      ]
     },
     "execution_count": 31,
     "metadata": {},
     "output_type": "execute_result"
    }
   ],
   "source": [
    "\"\"\"\n",
    "2つのテーブルを結合させる\n",
    "df1:採点者データの国語だけ抽出\n",
    "df2:設問データの国語だけ抽出\n",
    "\"\"\"\n",
    "df1 = df_comb[df_comb['科目コード']==10]\n",
    "df2 = df_jpn_setsumon_pretreated\n",
    "df_res = pandas_tool.merge(df1,df2, key = [\"年度\",\"採点回\",\"学年\",\"割当\"],how = 'left')\n",
    "df_res= df_res.drop_duplicates()\n",
    "df_comb_jpn = df_res.copy()\n",
    "df_res.head()"
   ]
  },
  {
   "cell_type": "code",
   "execution_count": 32,
   "id": "5e59f4cd-a4d5-4dce-842d-7fb3b625d2e4",
   "metadata": {},
   "outputs": [],
   "source": [
    "\"\"\"\n",
    "Excelの書き出し \n",
    "\"\"\"\n",
    "\n",
    "df = df_comb_jpn\n",
    "\n",
    "name = \"採点者情報0720+0818_国語設問\"\n",
    "path_folder = r\"/Users/s.ogura/Documents/CRLEA/data/intermediatedata\"#フォルダパス\n",
    "\n",
    "#csv\n",
    "df.to_csv('{}/{}.csv'.format(path_folder,name),encoding='utf-8-sig',index=False)\n",
    "#Excel\n",
    "with pd.ExcelWriter('{}/{}.xlsx'.format(path_folder,name)) as writer:\n",
    "    df.to_excel(writer, sheet_name='data1',encoding='utf-8-sig', index = False)"
   ]
  },
  {
   "cell_type": "markdown",
   "id": "4ee4fc0b-90a8-410a-8f5d-ecfecafbe464",
   "metadata": {
    "jp-MarkdownHeadingCollapsed": true,
    "tags": []
   },
   "source": [
    "## 英語科目の前処理"
   ]
  },
  {
   "cell_type": "code",
   "execution_count": 21,
   "id": "4578fbdc-08a4-4dd0-be79-76e99d26d225",
   "metadata": {},
   "outputs": [],
   "source": [
    "def split_columns(df):\n",
    "    #文字数に数値が入っている場合、そのまま代入\n",
    "    if str(df).isdigit() == True: #簡単な例から場合分けする。 文字列か、数値か判定\n",
    "        return float(df)\n",
    "    elif '+' in str(df):\n",
    "        x = str(df).split('+')\n",
    "        return sum(list(map(float, x)))\n",
    "    elif '-' in str(df):\n",
    "        x = str(df).split('-')\n",
    "        return sum(list(map(float, x)))\n",
    "    elif '‐' in str(df):\n",
    "        x = str(df).split('‐')\n",
    "        return sum(list(map(float, x)))\n",
    "    else:\n",
    "        return float(df)"
   ]
  },
  {
   "cell_type": "code",
   "execution_count": 22,
   "id": "6e34179d-6b4e-4782-aee4-f66ae9362cfd",
   "metadata": {},
   "outputs": [],
   "source": [
    "df = df_eng_setsumon\n",
    "#グレーアウトした行を削除\n",
    "df = df[df['分野'] != '英単語']#英単語を除外\n",
    "#len(df) 333->321\n",
    "\n",
    "#列の欠損値を補完\n",
    "df = df.fillna(0)\n",
    "#合計列の追加\n",
    "df['配点合計'] = df['配点'].apply(split_columns)\n",
    "df['文字数合計'] = df['文字/単語数'].apply(split_columns)\n",
    "df['ポイント数合計'] = df['ポイント・ランク・パート数'].apply(split_columns)\n",
    "df['減点要素の数合計'] = df['減点要素の数'].apply(split_columns)\n",
    "\n",
    "df['ロット番号'] = df['ロット番号'].replace(1,'01')\n",
    "df['ロット番号'] = df['ロット番号'].replace(2,'02')\n",
    "df['ロット番号'] = df['ロット番号'].replace(3,'03')\n",
    "df['ロット番号'] = df['ロット番号'].replace(4,'04')\n",
    "df['ロット番号'] = df['ロット番号'].replace(5,'05')\n",
    "df['ロット番号'] = df['ロット番号'].replace(6,'06')\n",
    "df['ロット番号'] = df['ロット番号'].replace(7,'07')\n",
    "df['ロット番号'] = df['ロット番号'].replace(8,'08')\n",
    "df['ロット番号'] = df['ロット番号'].replace(9,'09')\n",
    "df['ロット番号'] = df['ロット番号'].replace(10,'10')\n",
    "df['ロット番号'] = df['ロット番号'].replace(11,'11')\n",
    "df['ロット番号'] = df['ロット番号'].replace(12,'12')\n",
    "df['ロット番号'] = df['ロット番号'].replace(13,'13')\n",
    "df['ロット番号'] = df['ロット番号'].replace(14,'14')\n",
    "df['ロット番号'] = df['ロット番号'].replace(15,'15')\n",
    "df['ロット番号'] = df['ロット番号'].replace(16,'16')\n",
    "df['ロット番号'] = df['ロット番号'].replace(17,'17')\n",
    "df['ロット番号'] = df['ロット番号'].replace(18,'18')\n",
    "\n",
    "\n",
    "#必要な列のみを抽出\n",
    "df = df.drop(['小問','文字/単語数', '配点', 'ポイント・ランク・パート数', '減点要素の数',], axis=1)\n",
    "df = df.rename(columns = {'ロット番号':'割当','最終ペース':'最終ペース_設問'})\n",
    "\n",
    "df_eng_setsumon_pretreated = df.copy()"
   ]
  },
  {
   "cell_type": "code",
   "execution_count": 23,
   "id": "5ceb08e9-a91d-46dc-ad26-e7a10c3c4f14",
   "metadata": {
    "tags": []
   },
   "outputs": [
    {
     "name": "stdout",
     "output_type": "stream",
     "text": [
      "df1のキー重複\n",
      "18908\n",
      "df2のキー重複\n",
      "10\n",
      "df1のオブザベーション:19032\n",
      "df2のオブザベーション:352\n",
      "mergeのオブザベーション:19032\n"
     ]
    },
    {
     "data": {
      "text/html": [
       "<div>\n",
       "<style scoped>\n",
       "    .dataframe tbody tr th:only-of-type {\n",
       "        vertical-align: middle;\n",
       "    }\n",
       "\n",
       "    .dataframe tbody tr th {\n",
       "        vertical-align: top;\n",
       "    }\n",
       "\n",
       "    .dataframe thead th {\n",
       "        text-align: right;\n",
       "    }\n",
       "</style>\n",
       "<table border=\"1\" class=\"dataframe\">\n",
       "  <thead>\n",
       "    <tr style=\"text-align: right;\">\n",
       "      <th></th>\n",
       "      <th>スタッフコード</th>\n",
       "      <th>スタッフコード3</th>\n",
       "      <th>年度</th>\n",
       "      <th>採点回</th>\n",
       "      <th>科目コード</th>\n",
       "      <th>身分</th>\n",
       "      <th>性別</th>\n",
       "      <th>年齢</th>\n",
       "      <th>登録試験点数</th>\n",
       "      <th>大学</th>\n",
       "      <th>...</th>\n",
       "      <th>分野</th>\n",
       "      <th>解答言語</th>\n",
       "      <th>ポイント採点</th>\n",
       "      <th>企画ペース</th>\n",
       "      <th>最終ペース_設問</th>\n",
       "      <th>パターン数</th>\n",
       "      <th>配点合計</th>\n",
       "      <th>文字数合計</th>\n",
       "      <th>ポイント数合計</th>\n",
       "      <th>減点要素の数合計</th>\n",
       "    </tr>\n",
       "  </thead>\n",
       "  <tbody>\n",
       "    <tr>\n",
       "      <th>0</th>\n",
       "      <td>1060294576</td>\n",
       "      <td>3060294576</td>\n",
       "      <td>2021</td>\n",
       "      <td>夏</td>\n",
       "      <td>30</td>\n",
       "      <td>社会人</td>\n",
       "      <td>女性</td>\n",
       "      <td>68.0</td>\n",
       "      <td>27.0</td>\n",
       "      <td>立教大学</td>\n",
       "      <td>...</td>\n",
       "      <td>NaN</td>\n",
       "      <td>NaN</td>\n",
       "      <td>NaN</td>\n",
       "      <td>NaN</td>\n",
       "      <td>NaN</td>\n",
       "      <td>NaN</td>\n",
       "      <td>NaN</td>\n",
       "      <td>NaN</td>\n",
       "      <td>NaN</td>\n",
       "      <td>NaN</td>\n",
       "    </tr>\n",
       "    <tr>\n",
       "      <th>1</th>\n",
       "      <td>1060448528</td>\n",
       "      <td>3060448528</td>\n",
       "      <td>2021</td>\n",
       "      <td>夏</td>\n",
       "      <td>30</td>\n",
       "      <td>社会人</td>\n",
       "      <td>女性</td>\n",
       "      <td>37.0</td>\n",
       "      <td>62.0</td>\n",
       "      <td>関西大学</td>\n",
       "      <td>...</td>\n",
       "      <td>英訳</td>\n",
       "      <td>英語</td>\n",
       "      <td>0.0</td>\n",
       "      <td>150.0</td>\n",
       "      <td>97.9</td>\n",
       "      <td>3.0</td>\n",
       "      <td>5.0</td>\n",
       "      <td>11.6</td>\n",
       "      <td>5.6</td>\n",
       "      <td>0.0</td>\n",
       "    </tr>\n",
       "    <tr>\n",
       "      <th>2</th>\n",
       "      <td>1050742436</td>\n",
       "      <td>3050742436</td>\n",
       "      <td>2021</td>\n",
       "      <td>夏</td>\n",
       "      <td>30</td>\n",
       "      <td>社会人</td>\n",
       "      <td>女性</td>\n",
       "      <td>53.0</td>\n",
       "      <td>60.0</td>\n",
       "      <td>岡山大学</td>\n",
       "      <td>...</td>\n",
       "      <td>英訳</td>\n",
       "      <td>英語</td>\n",
       "      <td>0.0</td>\n",
       "      <td>150.0</td>\n",
       "      <td>97.9</td>\n",
       "      <td>3.0</td>\n",
       "      <td>5.0</td>\n",
       "      <td>11.6</td>\n",
       "      <td>5.6</td>\n",
       "      <td>0.0</td>\n",
       "    </tr>\n",
       "    <tr>\n",
       "      <th>3</th>\n",
       "      <td>1060451911</td>\n",
       "      <td>3060451911</td>\n",
       "      <td>2021</td>\n",
       "      <td>夏</td>\n",
       "      <td>30</td>\n",
       "      <td>社会人</td>\n",
       "      <td>女性</td>\n",
       "      <td>47.0</td>\n",
       "      <td>48.0</td>\n",
       "      <td>青山学院大学</td>\n",
       "      <td>...</td>\n",
       "      <td>英訳</td>\n",
       "      <td>英語</td>\n",
       "      <td>0.0</td>\n",
       "      <td>150.0</td>\n",
       "      <td>97.9</td>\n",
       "      <td>3.0</td>\n",
       "      <td>5.0</td>\n",
       "      <td>11.6</td>\n",
       "      <td>5.6</td>\n",
       "      <td>0.0</td>\n",
       "    </tr>\n",
       "    <tr>\n",
       "      <th>4</th>\n",
       "      <td>1060454359</td>\n",
       "      <td>3060454359</td>\n",
       "      <td>2021</td>\n",
       "      <td>夏</td>\n",
       "      <td>30</td>\n",
       "      <td>社会人</td>\n",
       "      <td>女性</td>\n",
       "      <td>49.0</td>\n",
       "      <td>51.0</td>\n",
       "      <td>神奈川大学</td>\n",
       "      <td>...</td>\n",
       "      <td>英作文</td>\n",
       "      <td>英語</td>\n",
       "      <td>0.0</td>\n",
       "      <td>400.0</td>\n",
       "      <td>462.1</td>\n",
       "      <td>0.0</td>\n",
       "      <td>4.0</td>\n",
       "      <td>10.0</td>\n",
       "      <td>3.0</td>\n",
       "      <td>1.0</td>\n",
       "    </tr>\n",
       "  </tbody>\n",
       "</table>\n",
       "<p>5 rows × 45 columns</p>\n",
       "</div>"
      ],
      "text/plain": [
       "      スタッフコード    スタッフコード3    年度 採点回  科目コード   身分  性別    年齢  登録試験点数      大学  \\\n",
       "0  1060294576  3060294576  2021   夏     30  社会人  女性  68.0    27.0    立教大学   \n",
       "1  1060448528  3060448528  2021   夏     30  社会人  女性  37.0    62.0    関西大学   \n",
       "2  1050742436  3050742436  2021   夏     30  社会人  女性  53.0    60.0    岡山大学   \n",
       "3  1060451911  3060451911  2021   夏     30  社会人  女性  47.0    48.0  青山学院大学   \n",
       "4  1060454359  3060454359  2021   夏     30  社会人  女性  49.0    51.0   神奈川大学   \n",
       "\n",
       "   ...   分野 解答言語  ポイント採点  企画ペース  最終ペース_設問 パターン数 配点合計  文字数合計 ポイント数合計 減点要素の数合計  \n",
       "0  ...  NaN  NaN     NaN    NaN       NaN   NaN  NaN    NaN     NaN      NaN  \n",
       "1  ...   英訳   英語     0.0  150.0      97.9   3.0  5.0   11.6     5.6      0.0  \n",
       "2  ...   英訳   英語     0.0  150.0      97.9   3.0  5.0   11.6     5.6      0.0  \n",
       "3  ...   英訳   英語     0.0  150.0      97.9   3.0  5.0   11.6     5.6      0.0  \n",
       "4  ...  英作文   英語     0.0  400.0     462.1   0.0  4.0   10.0     3.0      1.0  \n",
       "\n",
       "[5 rows x 45 columns]"
      ]
     },
     "execution_count": 23,
     "metadata": {},
     "output_type": "execute_result"
    }
   ],
   "source": [
    "\"\"\"\n",
    "2つのテーブルを結合させる\n",
    "df1:採点者データの英語だけ抽出\n",
    "df2:設問データの英語だけ抽出\n",
    "\"\"\"\n",
    "df1 = df_comb[df_comb['科目コード']==30]\n",
    "df2 = df_eng_setsumon_pretreated\n",
    "df_res = pandas_tool.merge(df1,df2, key = [\"年度\",\"採点回\",\"学年\",\"割当\"],how = 'left')\n",
    "df_res= df_res.drop_duplicates()\n",
    "df_comb_eng = df_res.copy()\n",
    "df_res.head()"
   ]
  },
  {
   "cell_type": "code",
   "execution_count": 159,
   "id": "d9afaf72-26a7-4525-aa39-02b865fd9930",
   "metadata": {},
   "outputs": [
    {
     "data": {
      "text/plain": [
       "array(['01', '02', '03', '04', '05', '06', '07', '08', '09', '10', '11',\n",
       "       '12', '13', '14', '15', '16', '17', '18'], dtype=object)"
      ]
     },
     "execution_count": 159,
     "metadata": {},
     "output_type": "execute_result"
    }
   ],
   "source": [
    "df_eng_setsumon_pretreated['割当'].unique()"
   ]
  },
  {
   "cell_type": "code",
   "execution_count": 162,
   "id": "ac9879cf-0c2e-42b5-b31e-332906cd6f03",
   "metadata": {},
   "outputs": [
    {
     "data": {
      "text/plain": [
       "array(['-', '05', '01', '02', '03', '06', '04', '07', '08', '09', '10',\n",
       "       '13', '11', '12', 'KS', nan, '不参加', 'パート分けナシ', '?'], dtype=object)"
      ]
     },
     "execution_count": 162,
     "metadata": {},
     "output_type": "execute_result"
    }
   ],
   "source": [
    "df_comb[df_comb['科目コード']==30]['割当'].unique()"
   ]
  },
  {
   "cell_type": "code",
   "execution_count": 24,
   "id": "3227c540-b7a4-4347-a781-93a8a0870ea0",
   "metadata": {},
   "outputs": [],
   "source": [
    "\"\"\"\n",
    "Excelの書き出し \n",
    "\"\"\"\n",
    "\n",
    "df = df_comb_eng\n",
    "\n",
    "name = \"採点者情報0720+0818_英語設問\"\n",
    "path_folder = r\"/Users/s.ogura/Documents/CRLEA/data/intermediatedata\"#フォルダパス\n",
    "\n",
    "#csv\n",
    "df.to_csv('{}/{}.csv'.format(path_folder,name),encoding='utf-8-sig',index=False)\n",
    "#Excel\n",
    "with pd.ExcelWriter('{}/{}.xlsx'.format(path_folder,name)) as writer:\n",
    "    df.to_excel(writer, sheet_name='data1',encoding='utf-8-sig', index = False)"
   ]
  },
  {
   "cell_type": "markdown",
   "id": "15a16f2b-8f6b-4333-9763-75990ca5baa4",
   "metadata": {
    "tags": []
   },
   "source": [
    "## 数学科目の前処理"
   ]
  },
  {
   "cell_type": "code",
   "execution_count": 25,
   "id": "4d549d73-653e-439d-83d8-d8cfd78848ba",
   "metadata": {},
   "outputs": [
    {
     "data": {
      "text/html": [
       "<div>\n",
       "<style scoped>\n",
       "    .dataframe tbody tr th:only-of-type {\n",
       "        vertical-align: middle;\n",
       "    }\n",
       "\n",
       "    .dataframe tbody tr th {\n",
       "        vertical-align: top;\n",
       "    }\n",
       "\n",
       "    .dataframe thead th {\n",
       "        text-align: right;\n",
       "    }\n",
       "</style>\n",
       "<table border=\"1\" class=\"dataframe\">\n",
       "  <thead>\n",
       "    <tr style=\"text-align: right;\">\n",
       "      <th></th>\n",
       "      <th>科目コード</th>\n",
       "      <th>分野名</th>\n",
       "      <th>分野</th>\n",
       "    </tr>\n",
       "  </thead>\n",
       "  <tbody>\n",
       "    <tr>\n",
       "      <th>0</th>\n",
       "      <td>10</td>\n",
       "      <td>漢文（現代語訳）</td>\n",
       "      <td>漢文(現訳)</td>\n",
       "    </tr>\n",
       "    <tr>\n",
       "      <th>1</th>\n",
       "      <td>10</td>\n",
       "      <td>漢文（内容説明）</td>\n",
       "      <td>漢文(内説)</td>\n",
       "    </tr>\n",
       "    <tr>\n",
       "      <th>2</th>\n",
       "      <td>10</td>\n",
       "      <td>現代文・小説</td>\n",
       "      <td>小説</td>\n",
       "    </tr>\n",
       "    <tr>\n",
       "      <th>3</th>\n",
       "      <td>10</td>\n",
       "      <td>現代文・評論</td>\n",
       "      <td>評論</td>\n",
       "    </tr>\n",
       "    <tr>\n",
       "      <th>4</th>\n",
       "      <td>10</td>\n",
       "      <td>現代文・評論（理由説明）</td>\n",
       "      <td>評論</td>\n",
       "    </tr>\n",
       "  </tbody>\n",
       "</table>\n",
       "</div>"
      ],
      "text/plain": [
       "   科目コード           分野名      分野\n",
       "0     10      漢文（現代語訳）  漢文(現訳)\n",
       "1     10      漢文（内容説明）  漢文(内説)\n",
       "2     10        現代文・小説      小説\n",
       "3     10        現代文・評論      評論\n",
       "4     10  現代文・評論（理由説明）      評論"
      ]
     },
     "execution_count": 25,
     "metadata": {},
     "output_type": "execute_result"
    }
   ],
   "source": [
    "path_name = \"/Users/s.ogura/Documents/CRLEA/data/rawdata/分野区分マスタv4.0.xlsx\"\n",
    "path_file =  r'{}'.format(path_name)\n",
    "input_file = pd.ExcelFile(path_file)\n",
    "sn_list = input_file.sheet_names\n",
    "\n",
    "#夏採点を読み込んで、採点回を列に追加する　df_summer\n",
    "\n",
    "bunya = []\n",
    "bunya = pd.read_excel(path_file, sn_list[0], header=0, index_col=None,skiprows=None)#headerを修正\n",
    "bunya = bunya.drop(['ポイント採点', '解答言語'], axis=1)\n",
    "#bunya = bunya.fillna({'解答言語': '日本語'})\n",
    "bunya.head()"
   ]
  },
  {
   "cell_type": "code",
   "execution_count": 167,
   "id": "43cb0d23-a3bb-4930-ba11-8a6877fb2ad9",
   "metadata": {
    "collapsed": true,
    "jupyter": {
     "outputs_hidden": true
    },
    "tags": []
   },
   "outputs": [
    {
     "data": {
      "text/plain": [
       "array(['年度', '採点回', '学年', '科目', 'ロット番号', '分野', '（1）実点・立式点', '（1）カッコ点・立式点',\n",
       "       '（1）実点・答え点', '（1）カッコ点・答え点', '（1）実点・その他', '（1）カッコ点・その他',\n",
       "       '（2）実点・立式点', '（2）カッコ点・立式点', '（2）実点・答え点', '（2）カッコ点・答え点',\n",
       "       '（2）実点・その他', '（2）カッコ点・その他', '（3）実点・立式点', '（3）カッコ点・立式点',\n",
       "       '（3）実点・答え点', '（3）カッコ点・答え点', '（3）実点・その他', '（3）カッコ点・その他',\n",
       "       '（1）ポイント数合計', '（2）ポイント数合計', '（3）ポイント数合計', 'ポイント採点', '（1）配点',\n",
       "       '（2）配点', '（3）配点', '企画ペース', '最終ペース', '模範解答の記述行数（１）', '模範解答の記述行数（２）',\n",
       "       '模範解答の記述行数（３）', '補足資料の枚数', '分野（詳細）', '他参照有無', 'Unnamed: 39'],\n",
       "      dtype=object)"
      ]
     },
     "execution_count": 167,
     "metadata": {},
     "output_type": "execute_result"
    }
   ],
   "source": [
    "df_math_setsumon.columns.values"
   ]
  },
  {
   "cell_type": "code",
   "execution_count": 26,
   "id": "1c7bbf94-62cf-43da-a2d7-32fa078cb86a",
   "metadata": {},
   "outputs": [
    {
     "name": "stdout",
     "output_type": "stream",
     "text": [
      "df1のキー重複\n",
      "420\n",
      "df2のキー重複\n",
      "0\n",
      "df1のオブザベーション:463\n",
      "df2のオブザベーション:156\n",
      "mergeのオブザベーション:463\n"
     ]
    }
   ],
   "source": [
    "df = df_math_setsumon\n",
    "#グレーアウトした行を削除\n",
    "df = df[~((df['採点回'] == '春')&(df['年度']==2019))]#2019春を除外\n",
    "df = df[~((df['採点回'] == '夏')&(df['年度']==2018)&(df['学年']!=1))]#2018夏2-3年を除外\n",
    "#len(df) 477->422\n",
    "\n",
    "#列の欠損値を補完\n",
    "df = df.fillna(0)#必須条件の有無の空白を0に\n",
    "#補足資料の枚数列の例外を修正\n",
    "df['補足資料の枚数'] = df['補足資料の枚数'].replace('補足なし',0)\n",
    "df = df.rename(columns = {'分野':'分野名'})\n",
    "\n",
    "#分野名を分野マスタで変換\n",
    "df1 = df\n",
    "df2 = bunya\n",
    "df = pandas_tool.merge(df1,df2, key = [\"分野名\"],how = 'left')\n",
    "#不要な列を削除\n",
    "df = df.drop(['科目コード','分野（詳細）', '他参照有無','Unnamed: 39'], axis=1)\n",
    "df = df.rename(columns = {'ロット番号':'割当','最終ペース':'最終ペース_設問'})\n",
    "df = df.drop_duplicates()\n",
    "df_math_setsumon_pretreated = df.copy()"
   ]
  },
  {
   "cell_type": "code",
   "execution_count": 27,
   "id": "d129b974-d09a-41cf-8f78-16452869f4a7",
   "metadata": {
    "tags": []
   },
   "outputs": [],
   "source": [
    "\"\"\"\n",
    "2つのテーブルを結合させる\n",
    "df1:採点者データの数学だけ抽出\n",
    "df2:設問データの数学だけ抽出\n",
    "\"\"\"\n",
    "df = df_comb[df_comb['科目コード']==20].copy()\n",
    "\n",
    "#割当を修正\n",
    "#2022 夏1\n",
    "df['割当'] = df['割当'].replace(34,'03-4')\n",
    "df['割当'] = df['割当'].replace(35,'03-5')\n",
    "df['割当'] = df['割当'].replace(36,'03-6')\n",
    "#2022夏2\n",
    "df['割当'] = df['割当'].replace(44,'04-4')\n",
    "df['割当'] = df['割当'].replace(45,'04-5')\n",
    "df['割当'] = df['割当'].replace(46,'04-6')\n",
    "df['割当'] = df['割当'].replace(47,'04-7')\n",
    "df['割当'] = df['割当'].replace(48,'04-8')\n",
    "df['割当'] = df['割当'].replace(48,'04-8')\n",
    "df['割当'] = df['割当'].replace(64,'06-4')\n",
    "df['割当'] = df['割当'].replace(65,'06-5')\n",
    "df['割当'] = df['割当'].replace(66,'06-6')\n",
    "\n",
    "#2022夏3\n",
    "df['割当'] = df['割当'].replace(24,'02-4')\n",
    "df['割当'] = df['割当'].replace(25,'02-5')\n",
    "df['割当'] = df['割当'].replace(83,'08-3')\n",
    "df['割当'] = df['割当'].replace(84,'08-4')\n",
    "df['割当'] = df['割当'].replace(138,'13-8')\n",
    "\n",
    "#2021\n",
    "df['割当'] = df['割当'].replace('011','01-1')\n",
    "df['割当'] = df['割当'].replace('012','01-2')\n",
    "df['割当'] = df['割当'].replace('013','01-3')\n",
    "df['割当'] = df['割当'].replace('024','02-4')\n",
    "df['割当'] = df['割当'].replace('025','02-5')\n",
    "\n",
    "df['割当'] = df['割当'].replace('034','03-4')\n",
    "df['割当'] = df['割当'].replace('035','03-5')\n",
    "df['割当'] = df['割当'].replace('036','03-6')\n",
    "\n",
    "df['割当'] = df['割当'].replace('044','04-4')\n",
    "df['割当'] = df['割当'].replace('045','04-5')\n",
    "df['割当'] = df['割当'].replace('046','04-6')\n",
    "df['割当'] = df['割当'].replace('047','04-7')\n",
    "df['割当'] = df['割当'].replace('048','04-8')\n",
    "df['割当'] = df['割当'].replace('048','04-8')\n",
    "df['割当'] = df['割当'].replace('055','05-5')\n",
    "df['割当'] = df['割当'].replace('056','05-6')\n",
    "df['割当'] = df['割当'].replace('057','05-7')\n",
    "df['割当'] = df['割当'].replace('058','05-8')\n",
    "df['割当'] = df['割当'].replace('064','06-4')\n",
    "df['割当'] = df['割当'].replace('065','06-5')\n",
    "df['割当'] = df['割当'].replace('066','06-6')\n",
    "df['割当'] = df['割当'].replace('067','06-7')\n",
    "df['割当'] = df['割当'].replace('083','08-3')\n",
    "df['割当'] = df['割当'].replace('084','08-4')\n",
    "df['割当'] = df['割当'].replace('105','10-5')\n",
    "df['割当'] = df['割当'].replace('106','10-6')\n",
    "df['割当'] = df['割当'].replace('107','10-7')\n",
    "df['割当'] = df['割当'].replace('115','11-5')\n",
    "df['割当'] = df['割当'].replace('116','11-6')\n",
    "\n",
    "df['割当'] = df['割当'].replace('133','13-3')\n",
    "df['割当'] = df['割当'].replace('138','13-8')\n",
    "df['割当'] = df['割当'].replace('139','13-9')\n",
    "df['割当'] = df['割当'].replace('1310','13-10')\n",
    "\n",
    "df_comb_math_pret = df.copy()"
   ]
  },
  {
   "cell_type": "code",
   "execution_count": 222,
   "id": "b7a51ba5-4f09-4e76-9f11-89ba95037ada",
   "metadata": {
    "tags": []
   },
   "outputs": [
    {
     "data": {
      "text/plain": [
       "array(['03-4', '01', '02', '03-6', '03-5', '-', '04-4', '04-7', '04-6',\n",
       "       '04-8', '03', '04-5', '05', '06-4', '06-6', '10', '01-3', '09',\n",
       "       '02-4', '07', '04', '02-5', '01-2', '01-1', '08-4', '06', '08-3',\n",
       "       '11', '13-8', '12', 'KS', nan, '不参加', '06-7', '08', '13-3', '11-6',\n",
       "       '13-9', '11-5', '13-10', 'パート分けナシ', '05-8', '10-5', '05-5', '05-7',\n",
       "       '05-6', '10-6', '10-7', '13'], dtype=object)"
      ]
     },
     "execution_count": 222,
     "metadata": {},
     "output_type": "execute_result"
    }
   ],
   "source": [
    "df_comb_math_pret['割当'].unique()"
   ]
  },
  {
   "cell_type": "code",
   "execution_count": 223,
   "id": "0b59c0fa-ed2a-4825-8808-dbb3ca897515",
   "metadata": {
    "tags": []
   },
   "outputs": [
    {
     "data": {
      "text/plain": [
       "array(['01', '02', '03-4', '03-5', '03-6', '03', '04-4', '04-5', '04-6',\n",
       "       '04-7', '04-8', '05', '06-4', '06-5', '06-6', '11', '12', '13-3',\n",
       "       '13-4', '13-5', '13-6', '13-7', '13-8', '13-9', '13-10', '06',\n",
       "       '07', '08-3', '08-4', '09', '10', '01-1', '01-2', '01-3', '02-4',\n",
       "       '02-5', '04', '06-7', '08', '11-5', '11-6', '05-5', '05-6', '05-7',\n",
       "       '05-8', '10-5', '10-6', '10-7', '10-8', '05-9', 11, 12, '02-6',\n",
       "       '04-9', '03-7', '09-5', '09-6', '09-7', '09-8', '06-1', '06-2',\n",
       "       '06-3', '07-4', '07-5', '10-2', '10-3', '11-4', '11-7', '11-8',\n",
       "       '11-9', '11-10', '01 ', '03-3', '12-2', '12-3', '03-8', '05-4'],\n",
       "      dtype=object)"
      ]
     },
     "execution_count": 223,
     "metadata": {},
     "output_type": "execute_result"
    }
   ],
   "source": [
    "df_math_setsumon_pretreated['割当'].unique()"
   ]
  },
  {
   "cell_type": "code",
   "execution_count": 28,
   "id": "1328a23d-cb2b-42bc-86c4-166df6103a87",
   "metadata": {
    "tags": []
   },
   "outputs": [
    {
     "name": "stdout",
     "output_type": "stream",
     "text": [
      "df1のキー重複\n",
      "9399\n",
      "df2のキー重複\n",
      "8\n",
      "df1のオブザベーション:9539\n",
      "df2のオブザベーション:463\n",
      "mergeのオブザベーション:9539\n"
     ]
    },
    {
     "data": {
      "text/html": [
       "<div>\n",
       "<style scoped>\n",
       "    .dataframe tbody tr th:only-of-type {\n",
       "        vertical-align: middle;\n",
       "    }\n",
       "\n",
       "    .dataframe tbody tr th {\n",
       "        vertical-align: top;\n",
       "    }\n",
       "\n",
       "    .dataframe thead th {\n",
       "        text-align: right;\n",
       "    }\n",
       "</style>\n",
       "<table border=\"1\" class=\"dataframe\">\n",
       "  <thead>\n",
       "    <tr style=\"text-align: right;\">\n",
       "      <th></th>\n",
       "      <th>スタッフコード</th>\n",
       "      <th>スタッフコード3</th>\n",
       "      <th>年度</th>\n",
       "      <th>採点回</th>\n",
       "      <th>科目コード</th>\n",
       "      <th>身分</th>\n",
       "      <th>性別</th>\n",
       "      <th>年齢</th>\n",
       "      <th>登録試験点数</th>\n",
       "      <th>大学</th>\n",
       "      <th>...</th>\n",
       "      <th>（1）配点</th>\n",
       "      <th>（2）配点</th>\n",
       "      <th>（3）配点</th>\n",
       "      <th>企画ペース</th>\n",
       "      <th>最終ペース_設問</th>\n",
       "      <th>模範解答の記述行数（１）</th>\n",
       "      <th>模範解答の記述行数（２）</th>\n",
       "      <th>模範解答の記述行数（３）</th>\n",
       "      <th>補足資料の枚数</th>\n",
       "      <th>分野</th>\n",
       "    </tr>\n",
       "  </thead>\n",
       "  <tbody>\n",
       "    <tr>\n",
       "      <th>0</th>\n",
       "      <td>1060438022</td>\n",
       "      <td>3060438022</td>\n",
       "      <td>2021</td>\n",
       "      <td>夏</td>\n",
       "      <td>20</td>\n",
       "      <td>大学院生</td>\n",
       "      <td>男性</td>\n",
       "      <td>23.0</td>\n",
       "      <td>39.0</td>\n",
       "      <td>兵庫県立大学</td>\n",
       "      <td>...</td>\n",
       "      <td>6.0</td>\n",
       "      <td>7.0</td>\n",
       "      <td>12.0</td>\n",
       "      <td>140.0</td>\n",
       "      <td>99.3</td>\n",
       "      <td>9.0</td>\n",
       "      <td>10.0</td>\n",
       "      <td>38.0</td>\n",
       "      <td>12.0</td>\n",
       "      <td>二次関数</td>\n",
       "    </tr>\n",
       "    <tr>\n",
       "      <th>1</th>\n",
       "      <td>1060465851</td>\n",
       "      <td>3060465851</td>\n",
       "      <td>2021</td>\n",
       "      <td>夏</td>\n",
       "      <td>20</td>\n",
       "      <td>大学院生</td>\n",
       "      <td>男性</td>\n",
       "      <td>25.0</td>\n",
       "      <td>54.0</td>\n",
       "      <td>大阪市立大学</td>\n",
       "      <td>...</td>\n",
       "      <td>6.0</td>\n",
       "      <td>7.0</td>\n",
       "      <td>12.0</td>\n",
       "      <td>140.0</td>\n",
       "      <td>99.3</td>\n",
       "      <td>9.0</td>\n",
       "      <td>10.0</td>\n",
       "      <td>38.0</td>\n",
       "      <td>12.0</td>\n",
       "      <td>二次関数</td>\n",
       "    </tr>\n",
       "    <tr>\n",
       "      <th>2</th>\n",
       "      <td>1060530451</td>\n",
       "      <td>3060530451</td>\n",
       "      <td>2021</td>\n",
       "      <td>夏</td>\n",
       "      <td>20</td>\n",
       "      <td>大学院生</td>\n",
       "      <td>男性</td>\n",
       "      <td>24.0</td>\n",
       "      <td>69.0</td>\n",
       "      <td>名古屋工業大学</td>\n",
       "      <td>...</td>\n",
       "      <td>6.0</td>\n",
       "      <td>7.0</td>\n",
       "      <td>12.0</td>\n",
       "      <td>140.0</td>\n",
       "      <td>99.3</td>\n",
       "      <td>9.0</td>\n",
       "      <td>10.0</td>\n",
       "      <td>38.0</td>\n",
       "      <td>12.0</td>\n",
       "      <td>二次関数</td>\n",
       "    </tr>\n",
       "    <tr>\n",
       "      <th>3</th>\n",
       "      <td>1060612068</td>\n",
       "      <td>3060612068</td>\n",
       "      <td>2021</td>\n",
       "      <td>夏</td>\n",
       "      <td>20</td>\n",
       "      <td>大学生</td>\n",
       "      <td>男性</td>\n",
       "      <td>26.0</td>\n",
       "      <td>62.0</td>\n",
       "      <td>星薬科大学</td>\n",
       "      <td>...</td>\n",
       "      <td>6.0</td>\n",
       "      <td>7.0</td>\n",
       "      <td>12.0</td>\n",
       "      <td>140.0</td>\n",
       "      <td>99.3</td>\n",
       "      <td>9.0</td>\n",
       "      <td>10.0</td>\n",
       "      <td>38.0</td>\n",
       "      <td>12.0</td>\n",
       "      <td>二次関数</td>\n",
       "    </tr>\n",
       "    <tr>\n",
       "      <th>4</th>\n",
       "      <td>1060631414</td>\n",
       "      <td>3060631414</td>\n",
       "      <td>2021</td>\n",
       "      <td>夏</td>\n",
       "      <td>20</td>\n",
       "      <td>大学院生</td>\n",
       "      <td>男性</td>\n",
       "      <td>24.0</td>\n",
       "      <td>64.0</td>\n",
       "      <td>埼玉大学</td>\n",
       "      <td>...</td>\n",
       "      <td>6.0</td>\n",
       "      <td>7.0</td>\n",
       "      <td>12.0</td>\n",
       "      <td>140.0</td>\n",
       "      <td>99.3</td>\n",
       "      <td>9.0</td>\n",
       "      <td>10.0</td>\n",
       "      <td>38.0</td>\n",
       "      <td>12.0</td>\n",
       "      <td>二次関数</td>\n",
       "    </tr>\n",
       "  </tbody>\n",
       "</table>\n",
       "<p>5 rows × 67 columns</p>\n",
       "</div>"
      ],
      "text/plain": [
       "      スタッフコード    スタッフコード3    年度 採点回  科目コード    身分  性別    年齢  登録試験点数       大学  \\\n",
       "0  1060438022  3060438022  2021   夏     20  大学院生  男性  23.0    39.0   兵庫県立大学   \n",
       "1  1060465851  3060465851  2021   夏     20  大学院生  男性  25.0    54.0   大阪市立大学   \n",
       "2  1060530451  3060530451  2021   夏     20  大学院生  男性  24.0    69.0  名古屋工業大学   \n",
       "3  1060612068  3060612068  2021   夏     20   大学生  男性  26.0    62.0    星薬科大学   \n",
       "4  1060631414  3060631414  2021   夏     20  大学院生  男性  24.0    64.0     埼玉大学   \n",
       "\n",
       "   ... （1）配点 （2）配点  （3）配点  企画ペース  最終ペース_設問 模範解答の記述行数（１） 模範解答の記述行数（２）  \\\n",
       "0  ...   6.0   7.0   12.0  140.0      99.3          9.0         10.0   \n",
       "1  ...   6.0   7.0   12.0  140.0      99.3          9.0         10.0   \n",
       "2  ...   6.0   7.0   12.0  140.0      99.3          9.0         10.0   \n",
       "3  ...   6.0   7.0   12.0  140.0      99.3          9.0         10.0   \n",
       "4  ...   6.0   7.0   12.0  140.0      99.3          9.0         10.0   \n",
       "\n",
       "   模範解答の記述行数（３） 補足資料の枚数    分野  \n",
       "0          38.0    12.0  二次関数  \n",
       "1          38.0    12.0  二次関数  \n",
       "2          38.0    12.0  二次関数  \n",
       "3          38.0    12.0  二次関数  \n",
       "4          38.0    12.0  二次関数  \n",
       "\n",
       "[5 rows x 67 columns]"
      ]
     },
     "execution_count": 28,
     "metadata": {},
     "output_type": "execute_result"
    }
   ],
   "source": [
    "\"\"\"\n",
    "2つのテーブルを結合させる\n",
    "df1:採点者データの数学だけ抽出\n",
    "df2:設問データの数学だけ抽出\n",
    "\"\"\"\n",
    "df1 = df_comb_math_pret\n",
    "df2 = df_math_setsumon_pretreated\n",
    "df_res = pandas_tool.merge(df1,df2, key = [\"年度\",\"採点回\",\"学年\",\"割当\"],how = 'left')\n",
    "df_res= df_res.drop_duplicates()\n",
    "df_comb_math = df_res.copy()\n",
    "df_res.head()"
   ]
  },
  {
   "cell_type": "code",
   "execution_count": 225,
   "id": "f8fa44bb-33f2-43cd-b245-a216799884bb",
   "metadata": {},
   "outputs": [],
   "source": [
    "\"\"\"\n",
    "Excelの書き出し \n",
    "\"\"\"\n",
    "\n",
    "df = df_math_setsumon_pretreated\n",
    "\n",
    "name = \"採点者情報0720+0818_数学設問_結合前設問データ\"\n",
    "path_folder = r\"/Users/s.ogura/Documents/CRLEA/data/intermediatedata\"#フォルダパス\n",
    "\n",
    "#Excel\n",
    "with pd.ExcelWriter('{}/{}.xlsx'.format(path_folder,name)) as writer:\n",
    "    df.to_excel(writer, sheet_name='data1',encoding='utf-8-sig', index = False)"
   ]
  },
  {
   "cell_type": "code",
   "execution_count": 226,
   "id": "543bf390-32c8-4cc1-b8eb-5ce3c51c0122",
   "metadata": {},
   "outputs": [],
   "source": [
    "\"\"\"\n",
    "Excelの書き出し \n",
    "\"\"\"\n",
    "\n",
    "df = df_comb_math_pret\n",
    "\n",
    "name = \"採点者情報0720+0818_数学_結合前採点者データ\"\n",
    "path_folder = r\"/Users/s.ogura/Documents/CRLEA/data/intermediatedata\"#フォルダパス\n",
    "\n",
    "#Excel\n",
    "with pd.ExcelWriter('{}/{}.xlsx'.format(path_folder,name)) as writer:\n",
    "    df.to_excel(writer, sheet_name='data1',encoding='utf-8-sig', index = False)"
   ]
  },
  {
   "cell_type": "code",
   "execution_count": 29,
   "id": "35aaf921-f1ee-4ca6-b8f9-9658dae015ad",
   "metadata": {},
   "outputs": [],
   "source": [
    "\"\"\"\n",
    "Excelの書き出し \n",
    "\"\"\"\n",
    "\n",
    "df = df_comb_math\n",
    "\n",
    "name = \"採点者情報0720+0818_数学設問\"\n",
    "path_folder = r\"/Users/s.ogura/Documents/CRLEA/data/intermediatedata\"#フォルダパス\n",
    "\n",
    "#csv\n",
    "df.to_csv('{}/{}.csv'.format(path_folder,name),encoding='utf-8-sig',index=False)\n",
    "#Excel\n",
    "with pd.ExcelWriter('{}/{}.xlsx'.format(path_folder,name)) as writer:\n",
    "    df.to_excel(writer, sheet_name='data1',encoding='utf-8-sig', index = False)"
   ]
  },
  {
   "cell_type": "code",
   "execution_count": 215,
   "id": "cba76cdc-421e-49bb-b103-d7ebcd3d1d17",
   "metadata": {},
   "outputs": [
    {
     "data": {
      "text/html": [
       "<div>\n",
       "<style scoped>\n",
       "    .dataframe tbody tr th:only-of-type {\n",
       "        vertical-align: middle;\n",
       "    }\n",
       "\n",
       "    .dataframe tbody tr th {\n",
       "        vertical-align: top;\n",
       "    }\n",
       "\n",
       "    .dataframe thead th {\n",
       "        text-align: right;\n",
       "    }\n",
       "</style>\n",
       "<table border=\"1\" class=\"dataframe\">\n",
       "  <thead>\n",
       "    <tr style=\"text-align: right;\">\n",
       "      <th></th>\n",
       "      <th>スタッフコード</th>\n",
       "      <th>スタッフコード3</th>\n",
       "      <th>年度</th>\n",
       "      <th>採点回</th>\n",
       "      <th>科目コード_x</th>\n",
       "      <th>身分</th>\n",
       "      <th>性別</th>\n",
       "      <th>年齢</th>\n",
       "      <th>登録試験点数</th>\n",
       "      <th>大学</th>\n",
       "      <th>...</th>\n",
       "      <th>（2）配点</th>\n",
       "      <th>（3）配点</th>\n",
       "      <th>企画ペース</th>\n",
       "      <th>最終ペース_設問</th>\n",
       "      <th>模範解答の記述行数（１）</th>\n",
       "      <th>模範解答の記述行数（２）</th>\n",
       "      <th>模範解答の記述行数（３）</th>\n",
       "      <th>補足資料の枚数</th>\n",
       "      <th>科目コード_y</th>\n",
       "      <th>分野</th>\n",
       "    </tr>\n",
       "  </thead>\n",
       "  <tbody>\n",
       "  </tbody>\n",
       "</table>\n",
       "<p>0 rows × 68 columns</p>\n",
       "</div>"
      ],
      "text/plain": [
       "Empty DataFrame\n",
       "Columns: [スタッフコード, スタッフコード3, 年度, 採点回, 科目コード_x, 身分, 性別, 年齢, 登録試験点数, 大学, 学部, 偏差値, 参加回数, 等級, 学年, 割当, 分野名_x, 最終ペース, 採否時登録時間, 1回目採点満点, 1回目採点得点, 完全混在枚数総数, 完全一致枚数, 完全一致率, 範囲内混在枚数総数, 範囲内一致枚数, 範囲内一致率, 最終シール, ACTB, ACTB理由, ACTB登録日, 依頼枚数, 枠更新率, 科目, 分野名_y, （1）実点・立式点, （1）カッコ点・立式点, （1）実点・答え点, （1）カッコ点・答え点, （1）実点・その他, （1）カッコ点・その他, （2）実点・立式点, （2）カッコ点・立式点, （2）実点・答え点, （2）カッコ点・答え点, （2）実点・その他, （2）カッコ点・その他, （3）実点・立式点, （3）カッコ点・立式点, （3）実点・答え点, （3）カッコ点・答え点, （3）実点・その他, （3）カッコ点・その他, （1）ポイント数合計, （2）ポイント数合計, （3）ポイント数合計, ポイント採点, （1）配点, （2）配点, （3）配点, 企画ペース, 最終ペース_設問, 模範解答の記述行数（１）, 模範解答の記述行数（２）, 模範解答の記述行数（３）, 補足資料の枚数, 科目コード_y, 分野]\n",
       "Index: []\n",
       "\n",
       "[0 rows x 68 columns]"
      ]
     },
     "execution_count": 215,
     "metadata": {},
     "output_type": "execute_result"
    }
   ],
   "source": [
    "#重複確認\n",
    "df_res[df_res.index.duplicated()==True]"
   ]
  },
  {
   "cell_type": "code",
   "execution_count": 33,
   "id": "e7083cb3-fde4-4748-8a49-bab49ceb1bf8",
   "metadata": {},
   "outputs": [],
   "source": [
    "\"\"\"\n",
    "Excelの書き出し 集計用データマート\n",
    "\"\"\"\n",
    "\n",
    "name = \"採点者情報0720+0818_pretreated_v2\"\n",
    "path_folder = r\"/Users/s.ogura/Documents/CRLEA/data/intermediatedata\"#フォルダパス\n",
    "\n",
    "\n",
    "df1 = df_comb_jpn\n",
    "df2 = df_comb_math\n",
    "df3 = df_comb_eng\n",
    "\n",
    "#csv\n",
    "df1.to_csv('{}/{}.csv'.format(path_folder,\"{}_{}\".format(name,'jpn')),encoding='utf-8-sig',index=False)\n",
    "df2.to_csv('{}/{}.csv'.format(path_folder,\"{}_{}\".format(name,'math')),encoding='utf-8-sig',index=False)\n",
    "df3.to_csv('{}/{}.csv'.format(path_folder,\"{}_{}\".format(name,'eng')),encoding='utf-8-sig',index=False)\n",
    "\n",
    "#Excel\n",
    "with pd.ExcelWriter('{}/{}.xlsx'.format(path_folder,name)) as writer:\n",
    "    df1.to_excel(writer, sheet_name='国語',encoding='utf-8-sig', index = False)\n",
    "    df2.to_excel(writer, sheet_name='数学',encoding='utf-8-sig', index = False)\n",
    "    df3.to_excel(writer, sheet_name='英語',encoding='utf-8-sig', index = False)"
   ]
  }
 ],
 "metadata": {
  "kernelspec": {
   "display_name": "Python 3 (ipykernel)",
   "language": "python",
   "name": "python3"
  },
  "language_info": {
   "codemirror_mode": {
    "name": "ipython",
    "version": 3
   },
   "file_extension": ".py",
   "mimetype": "text/x-python",
   "name": "python",
   "nbconvert_exporter": "python",
   "pygments_lexer": "ipython3",
   "version": "3.9.7"
  }
 },
 "nbformat": 4,
 "nbformat_minor": 5
}
