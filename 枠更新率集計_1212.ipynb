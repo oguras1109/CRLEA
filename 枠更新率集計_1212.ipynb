{
 "cells": [
  {
   "cell_type": "markdown",
   "id": "c355541a-9a46-43e6-a88c-3ed4829ee968",
   "metadata": {
    "tags": []
   },
   "source": [
    "# 作業工程計画\n",
    "2022.12.12作成<br>\n",
    "1. 受領データ（21、22夏）を結合\n",
    "    参考：採点者品質予測_22秋後半納品_前処理_1025_v1.ipynb\n",
    "2. 参加回数を修正\n",
    "3. 欠損値を削除\n",
    "4. 可視化"
   ]
  },
  {
   "cell_type": "markdown",
   "id": "6f0baba3-d20d-4d42-9335-a73813f30342",
   "metadata": {
    "tags": []
   },
   "source": [
    "# ライブラリ"
   ]
  },
  {
   "cell_type": "code",
   "execution_count": 1,
   "id": "adc3ac9c-bbc0-4b5e-8a5f-f3dfd9b82074",
   "metadata": {},
   "outputs": [],
   "source": [
    "import pandas as pd\n",
    "import numpy as np\n",
    "import matplotlib.pyplot as plt\n",
    "import japanize_matplotlib\n",
    "import seaborn as sns\n",
    "import re "
   ]
  },
  {
   "cell_type": "markdown",
   "id": "ae613de5-73a7-43b3-bc8f-ccca4d8ced1d",
   "metadata": {
    "tags": []
   },
   "source": [
    "## 村上さん pandas_tool"
   ]
  },
  {
   "cell_type": "code",
   "execution_count": 2,
   "id": "fc12ae9f-98df-4706-b833-997f5ff9ec2a",
   "metadata": {
    "tags": []
   },
   "outputs": [],
   "source": [
    "\"\"\"\n",
    "村上さんtoolbox\n",
    "\"\"\"\n",
    "# pandas 基礎集計クラス\n",
    "import numpy as np\n",
    "import pandas as pd\n",
    "import copy\n",
    "import seaborn as sns\n",
    "from itertools import combinations\n",
    "\n",
    "#http://qiita.com/tanemaki/items/2ed05e258ef4c9e6caac\n",
    "\n",
    "# Jupyterで表示するためには、最初に以下を実行すること\n",
    "%matplotlib inline\n",
    "\n",
    "# Static Classで設計する\n",
    "class pandas_tool:\n",
    "    \n",
    "    # All in one チェック（Jupyterのみ）\n",
    "    def all_basic_summary_jupyter(df):\n",
    "        print(\"■ 型の確認\")\n",
    "        display(pandas_tool.type(df))\n",
    "        print(\"■ 数値型の確認\")\n",
    "        display(pandas_tool.summary(df)[0])\n",
    "        print(\"■ カテゴリ型の確認\")\n",
    "        cate_var_data = list(df.select_dtypes(include=['object']).columns)\n",
    "        ret = pandas_tool.freq(df,cate_var_data)\n",
    "        for d in ret:\n",
    "            display(pd.DataFrame(d))\n",
    "            print(\"---------------\")\n",
    "        print(\"■ 欠損の確認\")\n",
    "        display(pandas_tool.check_missing(df))\n",
    "    \n",
    "    # 相関関係可視化（Jupyterのみ）\n",
    "    def all_value_relation_visualize(df):\n",
    "        #sns.set_context(\"poster\", 1.2, {\"lines.linewidth\": 3})\n",
    "        sns.pairplot(df,size=5)\n",
    "    \n",
    "    # カテゴリ変数でのヒートマップ（Jupyterのみ）\n",
    "    def make_heatmap(df,x,y,value):\n",
    "        target_df = df.pivot_table(index=x,values=value,columns=y)\n",
    "        sns.heatmap(target_df, annot=True, fmt='1.1f', cmap='Blues')\n",
    "    \n",
    "    # 散布図（Jupyterのみ）\n",
    "    def make_scatter_chart(df,x,y):\n",
    "        #sns.jointplot(x=x, y=y, data=df, kind=\"hex\")\n",
    "        sns.jointplot(x=x, y=y, data=df)\n",
    "    \n",
    "    # 組み合わせでヒートマップを作成（Jupyterのみ）\n",
    "    def all_make_heatmap(df,var_list,value):\n",
    "        col_num = 2\n",
    "        var_list_set = list(combinations(var_list,2))\n",
    "        \n",
    "        fig, axes = plt.subplots(int(len(var_list_set)/col_num)+1, col_num, figsize=(18,3+6.5*int(len(var_list_set)/col_num)))\n",
    "        \n",
    "        for i,target in enumerate(var_list_set):\n",
    "            target_df = df.pivot_table(index=target[0],values=value,columns=target[1])\n",
    "            sns.heatmap(target_df, annot=True, fmt='1.1f', cmap='Blues', ax=axes[int(i/col_num), i%col_num])\n",
    "            \n",
    "        plt.tight_layout()\n",
    "    \n",
    "    # 数値集計\n",
    "    def summary(df,view=False):\n",
    "        ret=df.describe()\n",
    "        mis_ret=df.isnull().sum()\n",
    "        if view:\n",
    "            param=pd.get_option(\"display.max_columns\")\n",
    "            pd.set_option(\"display.max_columns\",1000)\n",
    "            print(\"・統計量\")\n",
    "            print(ret)\n",
    "            print(\"・欠損値\")\n",
    "            print(mis_ret)\n",
    "            pd.set_option(\"display.max_columns\",param)\n",
    "        return ret,mis_ret\n",
    "    \n",
    "    # 型チェック\n",
    "    def type(df,view=False):\n",
    "        ret = df.dtypes\n",
    "        if view:\n",
    "            param=pd.get_option(\"display.max_rows\")\n",
    "            pd.set_option(\"display.max_rows\",1000)\n",
    "            print(ret)\n",
    "            pd.set_option(\"display.max_rows\",param)\n",
    "        return ret\n",
    "    \n",
    "    # 欠損チェック\n",
    "    def check_missing(df,view=False):\n",
    "        not_null_df=df.notnull()\n",
    "        ret=pd.DataFrame()\n",
    "        for name in not_null_df.columns:\n",
    "            tmp_df=not_null_df[name].value_counts()\n",
    "            tmp_df.name=name\n",
    "            ret = pd.concat([ret,tmp_df],axis=1)\n",
    "        \n",
    "        if view:\n",
    "            param=pd.get_option(\"display.max_columns\")\n",
    "            pd.set_option(\"display.max_columns\",1000)\n",
    "            print(ret)\n",
    "            pd.set_option(\"display.max_columns\",param)\n",
    "        \n",
    "        return ret\n",
    "    \n",
    "    # 欠損値のオブザベーションを抽出\n",
    "    def get_miss_data(df,column,view=False):\n",
    "        ret=df[df[column].isnull()]\n",
    "        if view:\n",
    "            param=pd.get_option(\"display.max_columns\")\n",
    "            pd.set_option(\"display.max_columns\",1000)\n",
    "            print(ret)\n",
    "            pd.set_option(\"display.max_columns\",param)\n",
    "        return ret\n",
    "    \n",
    "    # 欠損値を中央値で補完\n",
    "    def fill_miss_med(df,var_name):\n",
    "        var=df[var_name].median()\n",
    "        df[var_name].fillna(var,inplace=True)\n",
    "        return df\n",
    "    \n",
    "    # 欠損値を0で補完\n",
    "    def fill_miss_zero(df,var_name):\n",
    "        df[var_name].fillna(0,inplace=True)\n",
    "        return df\n",
    "    \n",
    "    # 特定の値を欠損とみなす\n",
    "    def apply_miss_value(df,var_name,value):\n",
    "        df[var_name]=df[var_name].replace(value,np.nan)\n",
    "        return df\n",
    "    \n",
    "    # 重複チェック\n",
    "    def check_dup(df,columns,view=False):\n",
    "        ret=pd.DataFrame()\n",
    "        for name in columns:\n",
    "            dup_cnt=df[name].duplicated().sum()\n",
    "            tmp_df = pd.DataFrame({'var_name':[name],'dup_cnt':[dup_cnt]})\n",
    "            ret = pd.concat([ret,tmp_df],axis=0,ignore_index= True)\n",
    "        \n",
    "        if view:\n",
    "            param=pd.get_option(\"display.max_columns\")\n",
    "            pd.set_option(\"display.max_columns\",1000)\n",
    "            print(ret)\n",
    "            pd.set_option(\"display.max_columns\",param)\n",
    "        \n",
    "        return ret\n",
    "    \n",
    "    # 組み合わせ重複チェック\n",
    "    def check_dup_comb(df,columns,view=False):\n",
    "        ret = df[columns].duplicated().sum()\n",
    "        if view:\n",
    "            param=pd.get_option(\"display.max_columns\")\n",
    "            pd.set_option(\"display.max_columns\",1000)\n",
    "            print(ret)\n",
    "            pd.set_option(\"display.max_columns\",param)\n",
    "        \n",
    "        return ret\n",
    "    \n",
    "    # ユニークデータ取得\n",
    "    def get_uniq_data(df,uniq_key,sort_key,keep='first'):\n",
    "        ret = df.sort_values(by=sort_key)\n",
    "        ret.drop_duplicates(subset=uniq_key, keep=keep, inplace=True)\n",
    "        return ret\n",
    "    \n",
    "    # カテゴリ集計\n",
    "    def freq(df,columns,view=False):\n",
    "        ret=list()\n",
    "        for name in columns:\n",
    "            tmp_df=df[name].value_counts()\n",
    "            tmp_df.name=name\n",
    "            #ret = pd.concat([ret,tmp_df],axis=1)\n",
    "            ret.append(tmp_df)\n",
    "        \n",
    "        if view:\n",
    "            param=pd.get_option(\"display.max_columns\")\n",
    "            pd.set_option(\"display.max_columns\",1000)\n",
    "            for r in ret:\n",
    "                print(r)\n",
    "                #display(r)\n",
    "            pd.set_option(\"display.max_columns\",param)\n",
    "        \n",
    "        return ret\n",
    "    \n",
    "    # 複雑な集計\n",
    "    def tabulate(df,row,col=None,var='',func=np.sum,view=False):\n",
    "        if var == '':\n",
    "            tmp_df=df.reset_index(drop=False,inplace=False)\n",
    "            ret=pd.pivot_table(data=tmp_df, values='index', index=row, columns=col, aggfunc='count', dropna=False, fill_value=0 ,margins = False)\n",
    "            tmp_df=None\n",
    "        else:\n",
    "            ret=pd.pivot_table(data=df, values=var, index=row, columns=col, aggfunc=func, dropna=False, fill_value=0 ,margins = False)\n",
    "        if view:\n",
    "            param=pd.get_option(\"display.max_columns\")\n",
    "            pd.set_option(\"display.max_columns\",1000)\n",
    "            print(ret)\n",
    "            pd.set_option(\"display.max_columns\",param)\n",
    "        \n",
    "        return ret\n",
    "    \n",
    "    # マージ\n",
    "    def merge(df1,df2,key,how,view=True):\n",
    "        if view:\n",
    "            print(\"df1のキー重複\")\n",
    "            pandas_tool.check_dup_comb(df1,key,True)\n",
    "            print(\"df2のキー重複\")\n",
    "            pandas_tool.check_dup_comb(df2,key,True)\n",
    "            \n",
    "            print(\"df1のオブザベーション:{0}\".format(len(df1)))\n",
    "            print(\"df2のオブザベーション:{0}\".format(len(df2)))\n",
    "        \n",
    "        ret=pd.merge(df1,df2,how=how,on=key)\n",
    "        \n",
    "        if view:\n",
    "            print(\"mergeのオブザベーション:{0}\".format(len(ret)))\n",
    "        \n",
    "        return ret\n",
    "    \n",
    "    # Rank\n",
    "    def rank(df,var,num,suffix='_rank',check=False):\n",
    "        labels=[i for i in range(0,num)]\n",
    "        df[var+suffix]=pd.qcut(df[var], num, labels=labels)\n",
    "        \n",
    "        # check data\n",
    "        if check:\n",
    "            ret=pd.DataFrame()\n",
    "            max_df=pandas_tool.tabulate(df=df,row=[var+suffix],var=var,func=np.max,view=False)\n",
    "            max_df.name='max'\n",
    "            min_df=pandas_tool.tabulate(df=df,row=[var+suffix],var=var,func=np.min,view=False)\n",
    "            min_df.name='min'\n",
    "            cnt_df=pandas_tool.tabulate(df=df,row=[var+suffix],var=var,func='count',view=False)\n",
    "            cnt_df.name='count'\n",
    "            ret=pd.concat([ret,min_df,max_df,cnt_df],axis=1)\n",
    "            return df,ret\n",
    "            \n",
    "        return df\n",
    "    \n",
    "    # Rank適用(min基準)\n",
    "    def apply_rank(df,rank_df):\n",
    "        tmp_df=copy.deepcopy(rank_df)\n",
    "        tmp_df.reset_index(drop=False,inplace=True)\n",
    "        target_name=tmp_df.columns[3]\n",
    "        tmp_df.columns=[\"rank\",\"min\",\"max\",\"cnt\"]\n",
    "        \n",
    "        def judge_thld(row):\n",
    "            ret_var = -1\n",
    "            cond_list = [\"if 0 : ret_var = 0\"]\n",
    "            \n",
    "            for i in range(1,len(tmp_df)):\n",
    "                cond_list.append(\"elif row < \" +str(tmp_df.ix[i,'min'])+ \" : ret_var = \" + str(tmp_df.ix[i-1,'rank']))\n",
    "            \n",
    "            cond_list.append(\"else: ret_var = \" + str(tmp_df.ix[len(tmp_df)-1,'rank']))\n",
    "            cond_str=\"\\r\\n\".join(cond_list)\n",
    "            # ローカル辞書をexecと共有する\n",
    "            local_dict=locals()\n",
    "            exec(cond_str,local_dict)\n",
    "            return local_dict[\"ret_var\"]\n",
    "        \n",
    "        df[target_name+\"_rank\"]=df[target_name].apply(judge_thld)\n",
    "        return df\n",
    "    \n",
    "    # Min%以下はMin%点に、Max%以上はMax%点にクリップする\n",
    "    def clip_min_max(df,col_list,apply_df=None,max_pct=0.99,min_pct=0.01):\n",
    "        p_min = df[col_list].quantile(min_pct)\n",
    "        p_max = df[col_list].quantile(max_pct)\n",
    "        \n",
    "        df[col] = df[col_list].clip(p_min,p_max,axis=1)\n",
    "        \n",
    "        # もしも適用先のデータがあるならば（例えば検証データ）対応\n",
    "        if apply_df is not None:\n",
    "            apply_df[col] = apply_df[col_list].clip(p_min,p_max,axis=1)\n",
    "            return df,apply_df\n",
    "        else:\n",
    "            return df\n",
    "    \n",
    "    \n",
    "    # 文字列→数値変換\n",
    "    def conv_float(df,column,percent_flg=False):\n",
    "        \n",
    "        def conv_f(row):\n",
    "            if row[column] == \"\" or row[column] is np.nan:\n",
    "                return np.nan\n",
    "            else:\n",
    "                return float(row[column])\n",
    "        \n",
    "        df[column]=df[column].str.replace(\"\\\\\",\"\").str.replace(\",\",\"\").str.replace(\"%\",\"\").str.strip()\n",
    "        df[column]=df.apply(conv_f,axis=1)\n",
    "        \n",
    "        if percent_flg:\n",
    "            df[column]=df[column]/100\n",
    "        \n",
    "        return df"
   ]
  },
  {
   "cell_type": "markdown",
   "id": "6b6b94e5-d68e-4ce8-8714-6cf5b64959db",
   "metadata": {},
   "source": [
    "# データの前処理"
   ]
  },
  {
   "cell_type": "code",
   "execution_count": 3,
   "id": "6989d3fa-eac5-4e73-9a56-690089fb7f4a",
   "metadata": {},
   "outputs": [
    {
     "name": "stderr",
     "output_type": "stream",
     "text": [
      "/Users/s.ogura/opt/anaconda3/lib/python3.9/site-packages/IPython/core/interactiveshell.py:3444: DtypeWarning: Columns (13,18) have mixed types.Specify dtype option on import or set low_memory=False.\n",
      "  exec(code_obj, self.user_global_ns, self.user_ns)\n"
     ]
    }
   ],
   "source": [
    "#過去データ読み込み \n",
    "\n",
    "path_folder = r\"/Users/s.ogura/Documents/CRLEA/data/intermediatedata\"#データが置いてあるフォルダパス\n",
    "\n",
    "# csvファイルの読み込みと空のリストに追加\n",
    "name_csv = \"採点者情報0720+0818_pretreated_v2_jpn.csv\" #ファイル名\n",
    "path_file = r'{p}/{n}'.format(p = path_folder, n = name_csv)#ファイルパスとファイル名\n",
    "df_jpn = pd.read_csv(filepath_or_buffer = path_file, sep=\",\")\n",
    "\n",
    "# csvファイルの読み込みと空のリストに追加\n",
    "name_csv = \"採点者情報0720+0818_pretreated_v2_math.csv\" #ファイル名\n",
    "path_file = r'{p}/{n}'.format(p = path_folder, n = name_csv)#ファイルパスとファイル名\n",
    "df_math = pd.read_csv(filepath_or_buffer = path_file, sep=\",\")\n",
    "\n",
    "# csvファイルの読み込みと空のリストに追加\n",
    "name_csv = \"採点者情報0720+0818_pretreated_v2_eng.csv\" #ファイル名\n",
    "path_file = r'{p}/{n}'.format(p = path_folder, n = name_csv)#ファイルパスとファイル名\n",
    "df_eng = pd.read_csv(filepath_or_buffer = path_file, sep=\",\")"
   ]
  },
  {
   "cell_type": "code",
   "execution_count": 33,
   "id": "f71cd8d1-49b3-47bd-bab9-72990b649c98",
   "metadata": {},
   "outputs": [
    {
     "data": {
      "text/plain": [
       "array(['スタッフコード', 'スタッフコード3', '年度', '採点回', '科目コード', '身分', '性別', '年齢',\n",
       "       '登録試験点数', '大学', '学部', '偏差値', '参加回数', '等級', '学年', '割当', '分野名',\n",
       "       '最終ペース', '採否時登録時間', '1回目採点満点', '1回目採点得点', '完全混在枚数総数', '完全一致枚数',\n",
       "       '完全一致率', '範囲内混在枚数総数', '範囲内一致枚数', '範囲内一致率', '最終シール', 'ACTB',\n",
       "       'ACTB理由', 'ACTB登録日', '依頼枚数', '枠更新率', '科目', '分野', 'ポイント採点', '文字数',\n",
       "       'ポイント数', '配点要素の数', '配点', '必須条件の有無', '企画ペース', '最終ペース_設問'],\n",
       "      dtype=object)"
      ]
     },
     "execution_count": 33,
     "metadata": {},
     "output_type": "execute_result"
    }
   ],
   "source": [
    "df_jpn.columns.values"
   ]
  },
  {
   "cell_type": "code",
   "execution_count": 34,
   "id": "70fa1e91-8c90-4ba1-b195-6e323de43484",
   "metadata": {},
   "outputs": [
    {
     "data": {
      "text/plain": [
       "array(['スタッフコード', 'スタッフコード3', '年度', '採点回', '科目コード', '身分', '性別', '年齢',\n",
       "       '登録試験点数', '大学', '学部', '偏差値', '参加回数', '等級', '学年', '割当', '分野名_x',\n",
       "       '最終ペース', '採否時登録時間', '1回目採点満点', '1回目採点得点', '完全混在枚数総数', '完全一致枚数',\n",
       "       '完全一致率', '範囲内混在枚数総数', '範囲内一致枚数', '範囲内一致率', '最終シール', 'ACTB',\n",
       "       'ACTB理由', 'ACTB登録日', '依頼枚数', '枠更新率', '科目', '分野名_y', '（1）実点・立式点',\n",
       "       '（1）カッコ点・立式点', '（1）実点・答え点', '（1）カッコ点・答え点', '（1）実点・その他',\n",
       "       '（1）カッコ点・その他', '（2）実点・立式点', '（2）カッコ点・立式点', '（2）実点・答え点',\n",
       "       '（2）カッコ点・答え点', '（2）実点・その他', '（2）カッコ点・その他', '（3）実点・立式点',\n",
       "       '（3）カッコ点・立式点', '（3）実点・答え点', '（3）カッコ点・答え点', '（3）実点・その他',\n",
       "       '（3）カッコ点・その他', '（1）ポイント数合計', '（2）ポイント数合計', '（3）ポイント数合計', 'ポイント採点',\n",
       "       '（1）配点', '（2）配点', '（3）配点', '企画ペース', '最終ペース_設問', '模範解答の記述行数（１）',\n",
       "       '模範解答の記述行数（２）', '模範解答の記述行数（３）', '補足資料の枚数', '分野'], dtype=object)"
      ]
     },
     "execution_count": 34,
     "metadata": {},
     "output_type": "execute_result"
    }
   ],
   "source": [
    "df_math.columns.values"
   ]
  },
  {
   "cell_type": "code",
   "execution_count": 35,
   "id": "af852b46-4aeb-40a2-816e-2a53627e89b6",
   "metadata": {},
   "outputs": [
    {
     "data": {
      "text/plain": [
       "array(['スタッフコード', 'スタッフコード3', '年度', '採点回', '科目コード', '身分', '性別', '年齢',\n",
       "       '登録試験点数', '大学', '学部', '偏差値', '参加回数', '等級', '学年', '割当', '分野名',\n",
       "       '最終ペース', '採否時登録時間', '1回目採点満点', '1回目採点得点', '完全混在枚数総数', '完全一致枚数',\n",
       "       '完全一致率', '範囲内混在枚数総数', '範囲内一致枚数', '範囲内一致率', '最終シール', 'ACTB',\n",
       "       'ACTB理由', 'ACTB登録日', '依頼枚数', '枠更新率', '科目', '大問', '分野', '解答言語',\n",
       "       'ポイント採点', '企画ペース', '最終ペース_設問', 'パターン数', '配点合計', '文字数合計', 'ポイント数合計',\n",
       "       '減点要素の数合計'], dtype=object)"
      ]
     },
     "execution_count": 35,
     "metadata": {},
     "output_type": "execute_result"
    }
   ],
   "source": [
    "df_eng.columns.values"
   ]
  },
  {
   "cell_type": "code",
   "execution_count": 36,
   "id": "fcf7b958-67d0-4e9a-aa41-35320e267d59",
   "metadata": {},
   "outputs": [],
   "source": [
    "#設問情報を加えない、全科目の結合df\n",
    "collist=['スタッフコード', '年度', '採点回','学年', '科目','分野','割当', '身分', '年齢','大学',\n",
    "       '学部', '登録試験点数','採否時登録時間','依頼枚数', '参加回数', '等級','最終シール',  '完全一致率','偏差値','枠更新率']\n",
    "df1=df_jpn[collist]\n",
    "df2=df_math[collist]\n",
    "df3=df_eng[collist]\n",
    "df_all =[]\n",
    "df_all = df1.append(df2)\n",
    "df_all = df_all.append(df3)\n",
    "\n",
    "#等級を除外するなどの処理を行う関数を実行\n",
    "def rem_tokyu(df_input):\n",
    "    df = df_input.copy()\n",
    "    #等級を選別する。\n",
    "    colname='等級'\n",
    "    df[colname] = df[colname].astype(str)\n",
    "    df = df[df[colname].isin([\"1\",\"2\",'01','02'])]\n",
    "    #等級の列を除外する\n",
    "    df = df.drop(columns = colname)\n",
    "    return df\n",
    "df_all = rem_tokyu(df_all)"
   ]
  },
  {
   "cell_type": "code",
   "execution_count": 38,
   "id": "3117925a-7c2a-4b1a-a483-106d7f447c11",
   "metadata": {},
   "outputs": [
    {
     "data": {
      "text/plain": [
       "array(['スタッフコード', '年度', '採点回', '学年', '科目', '分野', '割当', '身分', '年齢', '大学',\n",
       "       '学部', '登録試験点数', '採否時登録時間', '依頼枚数', '参加回数', '最終シール', '完全一致率', '偏差値',\n",
       "       '枠更新率'], dtype=object)"
      ]
     },
     "execution_count": 38,
     "metadata": {},
     "output_type": "execute_result"
    }
   ],
   "source": [
    "df_all.columns.values"
   ]
  },
  {
   "cell_type": "code",
   "execution_count": 37,
   "id": "fcfc975a-4e09-46ba-af87-de95cfb518a4",
   "metadata": {},
   "outputs": [],
   "source": [
    "#偏差値更新\n",
    "\n",
    "path_name = \"/Users/s.ogura/Documents/CRLEA/data/rawdata/CRLEA採点者情報入力様式_v1.1_大学追加_秋後半.xlsx\"\n",
    "path_file =  r'{}'.format(path_name)\n",
    "input_file = pd.ExcelFile(path_file)\n",
    "sn_list = input_file.sheet_names\n",
    "\n",
    "df = []\n",
    "df = pd.read_excel(path_file, sn_list[1], header=0, index_col=None,skiprows=None,usecols=['大学', '学部', '偏差値'])#headerを修正\n",
    "df = df.rename(columns = {'過去参加回数':'参加回数'})\n",
    "df_hensa = df.copy()"
   ]
  },
  {
   "cell_type": "code",
   "execution_count": 40,
   "id": "9c7e18d6-8e80-4e22-9683-ec7256651b9b",
   "metadata": {
    "tags": []
   },
   "outputs": [
    {
     "name": "stdout",
     "output_type": "stream",
     "text": [
      "df1のキー重複\n",
      "20317\n",
      "df2のキー重複\n",
      "104\n",
      "df1のオブザベーション:22296\n",
      "df2のオブザベーション:2837\n",
      "mergeのオブザベーション:22738\n"
     ]
    }
   ],
   "source": [
    "#分野情報を割り当て、採点回、年度をキーにして結合する\n",
    "df1 = df_all\n",
    "df2 = df_hensa\n",
    "df = pandas_tool.merge(df1,df2, key = ['大学', '学部'],how = 'left')\n",
    "df['偏差値_y'] = df['偏差値_y'].fillna(df['偏差値_x'], inplace=False)\n",
    "df = df.rename(columns = {'偏差値_y':'偏差値'})\n",
    "colname='偏差値'\n",
    "df[colname] = df[colname].replace({'-':np.nan,\n",
    "                                    '空白':np.nan,\n",
    "                                    '短大':np.nan,\n",
    "                                    '不明':np.nan,\n",
    "                                    \"大学不明\":np.nan,\n",
    "                                    '専門':np.nan,\n",
    "                                    'なし':np.nan,\n",
    "                                    '該当なし':np.nan})\n",
    "df[colname] = df[colname].astype(float)\n",
    "df = df.drop(['偏差値_x'], axis=1)\n",
    "df_all2 = df.copy()"
   ]
  },
  {
   "cell_type": "code",
   "execution_count": 149,
   "id": "48d72dbf-2364-44b7-bfed-3948d60e4cfd",
   "metadata": {
    "tags": []
   },
   "outputs": [
    {
     "name": "stderr",
     "output_type": "stream",
     "text": [
      "/var/folders/ll/_gcfyf2137x3x6dwgb9nkj740000gp/T/ipykernel_70136/3163720792.py:11: SettingWithCopyWarning: \n",
      "A value is trying to be set on a copy of a slice from a DataFrame.\n",
      "Try using .loc[row_indexer,col_indexer] = value instead\n",
      "\n",
      "See the caveats in the documentation: https://pandas.pydata.org/pandas-docs/stable/user_guide/indexing.html#returning-a-view-versus-a-copy\n",
      "  df[colname] = df[colname].astype(float)\n",
      "/var/folders/ll/_gcfyf2137x3x6dwgb9nkj740000gp/T/ipykernel_70136/3163720792.py:14: SettingWithCopyWarning: \n",
      "A value is trying to be set on a copy of a slice from a DataFrame.\n",
      "Try using .loc[row_indexer,col_indexer] = value instead\n",
      "\n",
      "See the caveats in the documentation: https://pandas.pydata.org/pandas-docs/stable/user_guide/indexing.html#returning-a-view-versus-a-copy\n",
      "  df[colname] = df[colname].replace({'数学X/A\\u3000':'数学X/A'})\n"
     ]
    }
   ],
   "source": [
    "\"\"\"\n",
    "表記揺れや異常値の削除などのデータ前処理\n",
    "\"\"\"\n",
    "\n",
    "#枠更新率の異常値を削除\n",
    "df = df_all2\n",
    "colname='枠更新率'\n",
    "df[colname] = df[colname].replace({'-':np.nan,\n",
    "                                    '不参加':np.nan})\n",
    "df = df.dropna(subset=[colname])\n",
    "df[colname] = df[colname].astype(float)\n",
    "#科目の表記揺れ直し\n",
    "colname='科目'\n",
    "df[colname] = df[colname].replace({'数学X/A\\u3000':'数学X/A'})\n",
    "df = df.dropna(subset=[colname])\n",
    "\n",
    "#科目の表記揺れ直し\n",
    "colname='登録試験点数'\n",
    "df[colname] = df[colname].replace({999:np.nan,\n",
    "                                  0:np.nan})\n",
    "df = df.dropna(subset=[colname])\n",
    "\n",
    "#完全一致率の異常値削除\n",
    "colname='完全一致率'\n",
    "df[colname] = df[colname].replace({'-':np.nan,\n",
    "                                   'NG':np.nan,\n",
    "                                  0:np.nan})\n",
    "df = df.dropna(subset=[colname])\n",
    "df[colname] = df[colname].astype(float)\n",
    "\n",
    "#身分の空欄削除\n",
    "colname='身分'\n",
    "df = df.dropna(subset=[colname])\n",
    "\n",
    "#データ型の変換\n",
    "colname='採否時登録時間'\n",
    "df[colname] = df[colname].astype(float)\n",
    "colname='依頼枚数'\n",
    "df[colname] = df[colname].astype(float)\n",
    "\n",
    "df_all3 = df"
   ]
  },
  {
   "cell_type": "code",
   "execution_count": 150,
   "id": "101bc9c2-07c6-44a1-9115-833a8de885bb",
   "metadata": {},
   "outputs": [
    {
     "data": {
      "text/plain": [
       "array(['スタッフコード', '年度', '採点回', '学年', '科目', '分野', '割当', '身分', '年齢', '大学',\n",
       "       '学部', '登録試験点数', '採否時登録時間', '依頼枚数', '参加回数', '最終シール', '完全一致率',\n",
       "       '枠更新率', '偏差値'], dtype=object)"
      ]
     },
     "execution_count": 150,
     "metadata": {},
     "output_type": "execute_result"
    }
   ],
   "source": [
    "df_all3.columns.values"
   ]
  },
  {
   "cell_type": "code",
   "execution_count": 79,
   "id": "a231a618-906b-4b69-bba0-ba2d14796591",
   "metadata": {},
   "outputs": [],
   "source": [
    "#ヒストグラム\n",
    "df = df_all3\n",
    "collist=['年齢','登録試験点数','採否時登録時間','依頼枚数', '参加回数','偏差値','枠更新率']\n",
    "df=df[collist]"
   ]
  },
  {
   "cell_type": "code",
   "execution_count": 97,
   "id": "68b0aa43-1ef4-4f93-871d-69289601095d",
   "metadata": {},
   "outputs": [],
   "source": [
    "from pylab import rcParams\n",
    "rcParams['figure.figsize'] = 10, 10#サイズ変更"
   ]
  },
  {
   "cell_type": "code",
   "execution_count": 98,
   "id": "be454b6c-5321-4d14-947d-c9bcb1e8e88c",
   "metadata": {},
   "outputs": [
    {
     "data": {
      "image/png": "[encoded data removed]",
      "text/plain": [
       "<Figure size 720x720 with 6 Axes>"
      ]
     },
     "metadata": {
      "needs_background": "light"
     },
     "output_type": "display_data"
    }
   ],
   "source": [
    "df[['採否時登録時間','依頼枚数','年齢','登録試験点数', '参加回数','偏差値']].hist(bins=20)\n",
    "plt.tight_layout() # グラフ同士が重ならないようにする関数\n",
    "plt.show() # グラフの表示"
   ]
  },
  {
   "cell_type": "code",
   "execution_count": 182,
   "id": "7a0562fd-3268-4765-96fa-ec8a1e7dd489",
   "metadata": {},
   "outputs": [],
   "source": [
    "#ランク作成\n",
    "\n",
    "# 年齢\n",
    "#'登録試験点数', \n",
    "# '採否時登録時間',\n",
    "# '依頼枚数',\n",
    "# '参加回数', \n",
    "# '偏差値',\n",
    "\n",
    "def make_rank_waku(df_input):\n",
    "    df = df_input.copy()\n",
    "    \n",
    "    x = \"参加回数\"\n",
    "    conditions = [\n",
    "        (df[x] >= 6),\n",
    "        (df[x] >= 5),\n",
    "        (df[x] >= 4),\n",
    "        (df[x] >= 3),\n",
    "        (df[x] >= 2),\n",
    "        (df[x] >= 1)\n",
    "    ]    \n",
    "    choices = [\"6~\", \"5\", \"4\", \"3\", \"2\", \"1\"]\n",
    "    df.loc[:,'参加回数ランク'] = np.select(conditions, choices, default = 0)\n",
    "    \n",
    "    x = \"登録試験点数\"\n",
    "    conditions = [\n",
    "        (df[x] >= 90),\n",
    "        (df[x] >= 80),\n",
    "        (df[x] >= 70),\n",
    "        (df[x] >= 60),\n",
    "        (df[x] >= 50)\n",
    "         ]   \n",
    "    choices = [\"90~100\", \"80~89\", \"70~79\", \"60~69\", \"50~59\"]\n",
    "    df.loc[:,'登録試験点数ランク'] = np.select(conditions, choices, default = \"0~49\")\n",
    "    \n",
    "    x = \"偏差値\"\n",
    "    conditions = [\n",
    "        (df[x] >= 70),\n",
    "        (df[x] >= 65),\n",
    "        (df[x] >= 60),\n",
    "        (df[x] >= 55),\n",
    "        (df[x] >= 50)\n",
    "         ]    \n",
    "    choices = [\"70~\", \"65~70\", \"60~65\", \"55~60\", \"50~55\"]\n",
    "    df.loc[:,'偏差値ランク'] = np.select(conditions, choices, default = \"0~49\")\n",
    "    \n",
    "    x = \"年齢\"\n",
    "    conditions = [\n",
    "        (df[x] >= 60),\n",
    "        (df[x] >= 50),\n",
    "        (df[x] >= 40),\n",
    "        (df[x] >= 30),\n",
    "        (df[x] >= 25),\n",
    "        (df[x] >= 22),\n",
    "        (df[x] >= 18)\n",
    "         ]    \n",
    "    choices = [\"60~\", \"50~59\", \"40~49\", \"30~39\", \"25~29\", \"22~24\", \"18~21\"]\n",
    "    df.loc[:,'年齢ランク'] = np.select(conditions, choices, default = \"0~18\")\n",
    "\n",
    "    x = \"依頼枚数\"\n",
    "    conditions = [\n",
    "        (df[x] >= 10000),\n",
    "        (df[x] >= 8000),\n",
    "        (df[x] >= 6000),\n",
    "        (df[x] >= 4000),\n",
    "        (df[x] >= 2000)\n",
    "         ]    \n",
    "    choices = [\"9999~\", \"8000~9999\", \"6000~7999\", \"4000~5999\", \"2000~3999\"]\n",
    "    df.loc[:,'依頼枚数ランク'] = np.select(conditions, choices, default = \"0~1999\")\n",
    "    \n",
    "    x = \"採否時登録時間\"\n",
    "    conditions = [\n",
    "        (df[x] >= 150),\n",
    "        (df[x] >= 100),\n",
    "        (df[x] >= 70),\n",
    "        (df[x] >= 50)\n",
    "         ]    \n",
    "    choices = [\"150~\", \"100~149\", \"070~100\", \"050~70\"]\n",
    "    df.loc[:,'登録時間ランク'] = np.select(conditions, choices, default = \"000~49\")    \n",
    "    \n",
    "    x = \"完全一致率\"\n",
    "    conditions = [\n",
    "        (df[x] >= 0.95),\n",
    "        (df[x] >= 0.9),\n",
    "        (df[x] >= 0.85),\n",
    "        (df[x] >= 0.8),\n",
    "        (df[x] >= 0.75),\n",
    "        (df[x] >= 0.7)\n",
    "         ]    \n",
    "    choices = [\"0.95~\", \"0.90~0.95\", \"0.85~0.90\", \"0.80~0.85\", \"0.75~0.80\", \"0.70~0.75\"]\n",
    "    df.loc[:,'完全一致率ランク'] = np.select(conditions, choices, default = \"0.0~0.7\")\n",
    "    \n",
    "    x = \"枠更新率\"\n",
    "    conditions = [\n",
    "        (df[x] >= 0.99),\n",
    "        (df[x] >= 0.98),\n",
    "        (df[x] >= 0.97),\n",
    "        (df[x] >= 0.96),\n",
    "        (df[x] >= 0.95),\n",
    "        (df[x] >= 0.94),\n",
    "        (df[x] >= 0.93),\n",
    "        (df[x] >= 0.92),\n",
    "        (df[x] >= 0.91),\n",
    "        (df[x] >= 0.9),\n",
    "        (df[x] >= 0.85),\n",
    "        (df[x] >= 0.8),\n",
    "        (df[x] >= 0.75),\n",
    "        (df[x] >= 0.7)\n",
    "         ]    \n",
    "    choices = [\"0.99~1\", \"0.98~0.99\",\"0.97~0.98\",\"0.96~0.97\",\"0.95~0.96\",\"0.94~0.95\",\"0.93~0.94\",\"0.92~0.93\",\"0.91~0.92\",\"0.90~0.91\",\n",
    "               \"0.85~0.90\", \"0.80~0.85\", \"0.75~0.80\", \"0.70~0.75\"]\n",
    "    df.loc[:,'枠更新率ランク'] = np.select(conditions, choices, default = \"0.0~0.7\")\n",
    "    return df"
   ]
  },
  {
   "cell_type": "code",
   "execution_count": 183,
   "id": "bd881249-cddd-4bb5-945e-a178632b4ef7",
   "metadata": {},
   "outputs": [],
   "source": [
    "df_all4 = make_rank_waku(df_all3)"
   ]
  },
  {
   "cell_type": "code",
   "execution_count": 184,
   "id": "08ec30a1-636f-4064-8a64-3f7354501aaa",
   "metadata": {
    "tags": []
   },
   "outputs": [],
   "source": [
    "\"\"\"\n",
    "表記揺れや異常値の削除などのデータ前処理\n",
    "\"\"\"\n",
    "\n",
    "#枠更新率の異常値を削除\n",
    "df = df_all4\n",
    "colname='枠更新率'\n",
    "df[colname] = df[colname].replace({'-':np.nan,\n",
    "                                    '不参加':np.nan,\n",
    "                                  0:np.nan})\n",
    "df = df.dropna(subset=[colname])\n",
    "df[colname] = df[colname].astype(float)\n",
    "\n",
    "df_all4_0 = df"
   ]
  },
  {
   "cell_type": "code",
   "execution_count": 185,
   "id": "ca872101-51fe-4f21-8949-3078f33bf038",
   "metadata": {},
   "outputs": [],
   "source": [
    "\"\"\"\n",
    "Excelの書き出し \n",
    "\"\"\"\n",
    "df1 = df_all4\n",
    "df2 = df_all4_0\n",
    "\n",
    "name = \"枠更新率分析DM_21年と22夏_v4.1\"\n",
    "path_folder = r\"/Users/s.ogura/Documents/CRLEA/data/intermediatedata\"#フォルダパス\n",
    "\n",
    "#Excel\n",
    "with pd.ExcelWriter('{}/{}.xlsx'.format(path_folder,name)) as writer:\n",
    "    df1.to_excel(writer, sheet_name='枠更新率0含む',encoding='utf-8-sig', index = False)\n",
    "    df2.to_excel(writer, sheet_name='枠更新率0除外',encoding='utf-8-sig', index = False)"
   ]
  },
  {
   "cell_type": "code",
   "execution_count": 186,
   "id": "bcf38ace-568e-4330-aaa0-59835b8af2ac",
   "metadata": {},
   "outputs": [],
   "source": [
    "\"\"\"\n",
    "csvの書き出し\n",
    "\"\"\"\n",
    "df = df_all4\n",
    "\n",
    "name = \"枠更新率分析DM_v4.1\"\n",
    "path_folder = r\"/Users/s.ogura/Documents/CRLEA/data/intermediatedata\"#フォルダパス\n",
    "\n",
    "#csv\n",
    "df.to_csv('{}/{}.csv'.format(path_folder,\"{}\".format(name)),encoding='utf-8-sig',index=False)\n",
    "\n",
    "\"\"\"\n",
    "csvの書き出し\n",
    "\"\"\"\n",
    "df = df_all4_0\n",
    "\n",
    "name = \"枠更新率分析DM_枠更新率0除外_v4.1\"\n",
    "path_folder = r\"/Users/s.ogura/Documents/CRLEA/data/intermediatedata\"#フォルダパス\n",
    "\n",
    "#csv\n",
    "df.to_csv('{}/{}.csv'.format(path_folder,\"{}\".format(name)),encoding='utf-8-sig',index=False)"
   ]
  },
  {
   "cell_type": "markdown",
   "id": "0dd36b26-dc2e-44f2-b8c1-caff8c46ad86",
   "metadata": {},
   "source": [
    "# 集計"
   ]
  },
  {
   "cell_type": "code",
   "execution_count": 188,
   "id": "ef26e814-46f8-4fce-9121-6e5400a504e1",
   "metadata": {},
   "outputs": [],
   "source": [
    "def check_cor(df_input, var1=str, var2=str):\n",
    "    df = df_input\n",
    "    s1 = df[var1]\n",
    "    s2 = df[var2]\n",
    "    res = s1.corr(s2)\n",
    "    return res"
   ]
  },
  {
   "cell_type": "code",
   "execution_count": 193,
   "id": "55dcdf55-5419-4f9f-a7d7-aaf9aeb70ede",
   "metadata": {},
   "outputs": [
    {
     "name": "stdout",
     "output_type": "stream",
     "text": [
      "年齢 0.012895790679673986\n",
      "登録試験点数 0.02394467590159981\n",
      "採否時登録時間 -0.048342505941146606\n",
      "依頼枚数 0.015158560680508746\n",
      "参加回数 0.03936059460453197\n",
      "完全一致率 0.11429041346439149\n",
      "偏差値 0.022351922952949296\n"
     ]
    }
   ],
   "source": [
    "collist=['年齢','登録試験点数', '採否時登録時間', '依頼枚数', '参加回数','完全一致率', '偏差値']\n",
    "for i, name in enumerate(collist):\n",
    "    # res = []\n",
    "    # res[i]=check_cor(df_all4_0,'枠更新率',name)\n",
    "    print(name, check_cor(df_all4_0,'枠更新率',name))"
   ]
  },
  {
   "cell_type": "code",
   "execution_count": 189,
   "id": "a6ff8073-c937-4374-82b8-31fd2775cf12",
   "metadata": {},
   "outputs": [
    {
     "data": {
      "text/plain": [
       "0.022351922952949296"
      ]
     },
     "execution_count": 189,
     "metadata": {},
     "output_type": "execute_result"
    }
   ],
   "source": [
    "check_cor(df_all4_0,'枠更新率','偏差値')"
   ]
  },
  {
   "cell_type": "code",
   "execution_count": 189,
   "id": "a84ca310-b986-443d-a60a-27b21bf6a2c5",
   "metadata": {},
   "outputs": [
    {
     "data": {
      "text/plain": [
       "0.022351922952949296"
      ]
     },
     "execution_count": 189,
     "metadata": {},
     "output_type": "execute_result"
    }
   ],
   "source": [
    "check_cor(df_all4_0,'枠更新率','偏差値')"
   ]
  },
  {
   "cell_type": "code",
   "execution_count": 187,
   "id": "2233957a-8c24-46d9-91db-0137d61d5685",
   "metadata": {},
   "outputs": [
    {
     "name": "stdout",
     "output_type": "stream",
     "text": [
      "0.022351922952949296\n"
     ]
    },
    {
     "data": {
      "text/plain": [
       "0.23385611715924406"
      ]
     },
     "execution_count": 187,
     "metadata": {},
     "output_type": "execute_result"
    }
   ],
   "source": [
    "df = df_all4_0\n",
    "\n",
    "s1=df['枠更新率']\n",
    "s2=df['偏差値']\n",
    "\n",
    "res=s1.corr(s2)   \n",
    "\n",
    "# 結果\n",
    "print(res)"
   ]
  },
  {
   "cell_type": "code",
   "execution_count": 64,
   "id": "5ddbd086-e5a0-47a1-be17-a2ab6d7e6cc9",
   "metadata": {},
   "outputs": [],
   "source": [
    "def basic_stat(category = str):\n",
    "    df = df_all3\n",
    "    grouped = df.groupby(category)\n",
    "    df_res = grouped.describe()['枠更新率'].reset_index()\n",
    "    return df_res"
   ]
  },
  {
   "cell_type": "code",
   "execution_count": 65,
   "id": "2f0307e3-0609-4ce0-93a3-9a1c1d82f544",
   "metadata": {},
   "outputs": [],
   "source": [
    "df_kamoku = basic_stat('科目')\n",
    "df_bunya = basic_stat('分野')\n",
    "df_nendo = basic_stat('年度')\n",
    "df_saitenkai= basic_stat('採点回')\n",
    "df_mibun = basic_stat('身分')\n",
    "df_kaisu = basic_stat('参加回数')"
   ]
  },
  {
   "cell_type": "code",
   "execution_count": 66,
   "id": "de4bca36-2537-4c72-8675-c9802925e01a",
   "metadata": {},
   "outputs": [],
   "source": [
    "\"\"\"\n",
    "Excelの書き出し \n",
    "\"\"\"\n",
    "\n",
    "name = \"枠更新率分析_v1\"\n",
    "path_folder = r\"/Users/s.ogura/Documents/CRLEA/data/output\"#フォルダパス\n",
    "\n",
    "#Excel\n",
    "with pd.ExcelWriter('{}/{}.xlsx'.format(path_folder,name)) as writer:\n",
    "    df_kamoku.to_excel(writer, sheet_name='科目',encoding='utf-8-sig', index = False)\n",
    "    df_bunya.to_excel(writer, sheet_name='分野',encoding='utf-8-sig', index = False)\n",
    "    df_nendo.to_excel(writer, sheet_name='年度',encoding='utf-8-sig', index = False)\n",
    "    df_saitenkai.to_excel(writer, sheet_name='採点回',encoding='utf-8-sig', index = False)\n",
    "    df_mibun.to_excel(writer, sheet_name='身分',encoding='utf-8-sig', index = False)\n",
    "    df_kaisu.to_excel(writer, sheet_name='参加回数',encoding='utf-8-sig', index = False)"
   ]
  },
  {
   "cell_type": "code",
   "execution_count": 62,
   "id": "1d433e35-9a9f-4c2f-b60e-2b2cee886d98",
   "metadata": {},
   "outputs": [],
   "source": [
    "#groupbyでカテゴリごとの基礎統計量を出す\n",
    "df = df_all3\n",
    "grouped = df.groupby('科目')\n",
    "df_kamoku = grouped.describe()['枠更新率'].reset_index()\n",
    "\n",
    "grouped = df.groupby('分野')\n",
    "df_bunya = grouped.describe()['枠更新率'].reset_index()\n",
    "\n",
    "grouped = df.groupby('参加回数')\n",
    "df_sanka = grouped.describe()['枠更新率'].reset_index()\n",
    "\n",
    "grouped = df.groupby('分野')\n",
    "df_bunya = grouped.describe()['枠更新率'].reset_index()"
   ]
  },
  {
   "cell_type": "code",
   "execution_count": 21,
   "id": "3c97f4f4-0a41-4639-8035-77753cdb55ea",
   "metadata": {},
   "outputs": [],
   "source": [
    "from pivottablejs import pivot_ui"
   ]
  },
  {
   "cell_type": "code",
   "execution_count": 169,
   "id": "04298592-d89f-4f1c-b1b3-92d95f787141",
   "metadata": {},
   "outputs": [
    {
     "data": {
      "text/html": [
       "\n",
       "        <iframe\n",
       "            width=\"100%\"\n",
       "            height=\"500\"\n",
       "            src=\"pivottablejs.html\"\n",
       "            frameborder=\"0\"\n",
       "            allowfullscreen\n",
       "            \n",
       "        ></iframe>\n",
       "        "
      ],
      "text/plain": [
       "<IPython.lib.display.IFrame at 0x7fcbf4225d30>"
      ]
     },
     "execution_count": 169,
     "metadata": {},
     "output_type": "execute_result"
    }
   ],
   "source": [
    "pivot_ui(df_all4_0)"
   ]
  }
 ],
 "metadata": {
  "kernelspec": {
   "display_name": "Python 3 (ipykernel)",
   "language": "python",
   "name": "python3"
  },
  "language_info": {
   "codemirror_mode": {
    "name": "ipython",
    "version": 3
   },
   "file_extension": ".py",
   "mimetype": "text/x-python",
   "name": "python",
   "nbconvert_exporter": "python",
   "pygments_lexer": "ipython3",
   "version": "3.9.7"
  }
 },
 "nbformat": 4,
 "nbformat_minor": 5
}
