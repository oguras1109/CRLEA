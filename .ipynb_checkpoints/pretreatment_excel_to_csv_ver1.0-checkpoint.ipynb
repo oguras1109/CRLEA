{
 "cells": [
  {
   "cell_type": "code",
   "execution_count": 2,
   "id": "d50ac486",
   "metadata": {},
   "outputs": [],
   "source": [
    "\"\"\"\n",
    "名前をつけたフォルダを任意のディレクトリに作成\n",
    "\"\"\"\n",
    "import pathlib\n",
    "folder_name = \"csv\"#作成したいフォルダ名\n",
    "location = r\"C:\\Users\\s.ogura\\Python\\CRLEA\\data\\received_20220414\"#作成先のフォルダパス\n",
    "p_folder = pathlib.Path('{l}\\{f}'.format(l=location,f = folder_name))#作成するフォルダのパス\n",
    "p_folder.mkdir()#フォルダ(ディレクトリ)作成　すでにフォルダが作成してあるとエラー"
   ]
  },
  {
   "cell_type": "code",
   "execution_count": 9,
   "id": "f7029e65",
   "metadata": {},
   "outputs": [],
   "source": [
    "\"\"\"\n",
    "ファイル内のすべてのシート名をループして、CSVを作成。\n",
    "全ての各シートはdfsというリストの各要素にデータフレームとして保存。\n",
    "dfs[X]でデータフレームとして機能。\n",
    "\"\"\"\n",
    "import pandas as pd\n",
    "excel_name = \"crlea_0414.xlsx\"\n",
    "p_file = r'{l}/{e}'.format(l = location,e = excel_name)#ファイルパスとファイル名\n",
    "\n",
    "input_file = pd.ExcelFile(p_file)\n",
    "sheet_names = input_file.sheet_names\n",
    "\n",
    "#配列ループ\n",
    "for i in range(0,len(sheet_names)):\n",
    "\n",
    "    # Excelファイルの読み込み\n",
    "    data = pd.read_excel(p_file, sheet_names[i], index_col=None)\n",
    "\n",
    "    # CSV形式で出力 #上のセルで作成したフォルダに保存\n",
    "     data.to_csv(\"{l}\\{f}\\{s}.csv\".format(l = location,f = folder_name, s = sheet_names[i]),\n",
    "                 encoding='shift_jis',\n",
    "                 index=False)"
   ]
  }
 ],
 "metadata": {
  "kernelspec": {
   "display_name": "Python 3 (ipykernel)",
   "language": "python",
   "name": "python3"
  },
  "language_info": {
   "codemirror_mode": {
    "name": "ipython",
    "version": 3
   },
   "file_extension": ".py",
   "mimetype": "text/x-python",
   "name": "python",
   "nbconvert_exporter": "python",
   "pygments_lexer": "ipython3",
   "version": "3.9.7"
  }
 },
 "nbformat": 4,
 "nbformat_minor": 5
}
