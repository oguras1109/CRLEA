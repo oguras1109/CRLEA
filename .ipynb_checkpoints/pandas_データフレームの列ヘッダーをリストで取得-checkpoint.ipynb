{
 "cells": [
  {
   "cell_type": "code",
   "execution_count": 4,
   "id": "c1f5ddfb",
   "metadata": {},
   "outputs": [],
   "source": [
    "import pandas\n",
    "cities = {\n",
    "    'name': ['New York', 'Los Angeles', 'Chicago'],\n",
    "    'population': [8601186, 4057841, 2679044],\n",
    "    'state': ['NY', 'CA', 'IL'],\n",
    "}\n",
    "data_frame = pandas.DataFrame(cities)"
   ]
  },
  {
   "cell_type": "code",
   "execution_count": 7,
   "id": "5b63f675",
   "metadata": {},
   "outputs": [
    {
     "name": "stdout",
     "output_type": "stream",
     "text": [
      "name\n",
      "population\n",
      "state\n"
     ]
    }
   ],
   "source": [
    "for column in data_frame:\n",
    "    print(column)"
   ]
  },
  {
   "cell_type": "code",
   "execution_count": 8,
   "id": "5fd59456",
   "metadata": {},
   "outputs": [],
   "source": [
    "from timeit import timeit"
   ]
  },
  {
   "cell_type": "code",
   "execution_count": 11,
   "id": "c60eea2b",
   "metadata": {},
   "outputs": [
    {
     "name": "stdout",
     "output_type": "stream",
     "text": [
      "['name', 'population', 'state']\n"
     ]
    },
    {
     "data": {
      "text/plain": [
       "0.3940716999999836"
      ]
     },
     "execution_count": 11,
     "metadata": {},
     "output_type": "execute_result"
    }
   ],
   "source": [
    "col_list = data_frame.columns.values.tolist()\n",
    "print(col_list)\n",
    "timeit(lambda: data_frame.columns.values.tolist())\n",
    "#0.6860591469999235"
   ]
  }
 ],
 "metadata": {
  "kernelspec": {
   "display_name": "Python 3 (ipykernel)",
   "language": "python",
   "name": "python3"
  },
  "language_info": {
   "codemirror_mode": {
    "name": "ipython",
    "version": 3
   },
   "file_extension": ".py",
   "mimetype": "text/x-python",
   "name": "python",
   "nbconvert_exporter": "python",
   "pygments_lexer": "ipython3",
   "version": "3.9.7"
  }
 },
 "nbformat": 4,
 "nbformat_minor": 5
}
